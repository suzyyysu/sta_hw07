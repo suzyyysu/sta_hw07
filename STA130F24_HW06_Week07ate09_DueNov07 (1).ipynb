{
 "cells": [
  {
   "cell_type": "markdown",
   "id": "6cd8c93b",
   "metadata": {},
   "source": [
    "# STA130 Homework 06\n",
    "\n",
    "Please see the course [wiki-textbook](https://github.com/pointOfive/stat130chat130/wiki) for the list of topics covered in this homework assignment, and a list of topics that might appear during ChatBot conversations which are \"out of scope\" for the purposes of this homework assignment (and hence can be safely ignored if encountered)"
   ]
  },
  {
   "cell_type": "markdown",
   "id": "991dc719",
   "metadata": {},
   "source": [
    "<details class=\"details-example\"><summary style=\"color:blue\"><u>Introduction</u></summary>\n",
    "\n",
    "### Introduction\n",
    "    \n",
    "A reasonable characterization of STA130 Homework is that it simply defines a weekly reading comprehension assignment. \n",
    "Indeed, STA130 Homework essentially boils down to completing various understanding confirmation exercises oriented around coding and writing tasks.\n",
    "However, rather than reading a textbook, STA130 Homework is based on ChatBots so students can interactively follow up to clarify questions or confusion that they may still have regarding learning objective assignments.\n",
    "\n",
    "> Communication is a fundamental skill underlying statistics and data science, so STA130 Homework based on ChatBots helps practice effective two-way communication as part of a \"realistic\" dialogue activity supporting underlying conceptual understanding building. \n",
    "\n",
    "It will likely become increasingly tempting to rely on ChatBots to \"do the work for you\". But when you find yourself frustrated with a ChatBots inability to give you the results you're looking for, this is a \"hint\" that you've become overreliant on the ChatBots. Your objective should not be to have ChatBots \"do the work for you\", but to use ChatBots to help you build your understanding so you can efficiently leverage ChatBots (and other resources) to help you work more efficiently.<br><br>\n",
    "\n",
    "</details>\n",
    "\n",
    "<details class=\"details-example\"><summary style=\"color:blue\"><u>Instructions</u></summary>\n",
    "\n",
    "### Instructions\n",
    "    \n",
    "1. Code and write all your answers (for both the \"Pre-lecture\" and \"Post-lecture\" HW) in a python notebook (in code and markdown cells) \n",
    "    \n",
    "> It is *suggested but not mandatory* that you complete the \"Pre-lecture\" HW prior to the Monday LEC since (a) all HW is due at the same time; but, (b) completing some of the HW early will mean better readiness for LEC and less of a \"procrastentation cruch\" towards the end of the week...\n",
    "    \n",
    "2. Paste summaries of your ChatBot sessions (including link(s) to chat log histories if you're using ChatGPT) within your notebook\n",
    "    \n",
    "> Create summaries of your ChatBot sessions by using concluding prompts such as \"Please provide a summary of our exchanges here so I can submit them as a record of our interactions as part of a homework assignment\" or, \"Please provide me with the final working verson of the code that we created together\"\n",
    "    \n",
    "3. Save your python jupyter notebook in your own account and \"repo\" on [github.com](github.com) and submit a link to that notebook though Quercus for assignment marking<br><br>\n",
    "\n",
    "</details>\n",
    "\n",
    "<details class=\"details-example\"><summary style=\"color:blue\"><u>Prompt Engineering?</u></summary>\n",
    "    \n",
    "### Prompt Engineering? \n",
    "    \n",
    "The questions (as copy-pasted prompts) are designed to initialize appropriate ChatBot conversations which can be explored in the manner of an interactive and dynamic textbook; but, it is nonetheless **strongly recommendated** that your rephrase the questions in a way that you find natural to ensure a clear understanding of the question. Given sensible prompts the represent a question well, the two primary challenges observed to arise from ChatBots are \n",
    "\n",
    "1. conversations going beyond the intended scope of the material addressed by the question; and, \n",
    "2. unrecoverable confusion as a result of sequential layers logial inquiry that cannot be resolved. \n",
    "\n",
    "In the case of the former (1), adding constraints specifying the limits of considerations of interest tends to be helpful; whereas, the latter (2) is often the result of initial prompting that leads to poor developments in navigating the material, which are likely just best resolve by a \"hard reset\" with a new initial approach to prompting.  Indeed, this is exactly the behavior [hardcoded into copilot](https://answers.microsoft.com/en-us/bing/forum/all/is-this-even-normal/0b6dcab3-7d6c-4373-8efe-d74158af3c00)...\n",
    "\n",
    "</details>"
   ]
  },
  {
   "cell_type": "markdown",
   "id": "3d0ed17b",
   "metadata": {},
   "source": [
    "### Marking Rubric (which may award partial credit) \n",
    "\n",
    "- [0.1 points]: All relevant ChatBot summaries [including link(s) to chat log histories if you're using ChatGPT] are reported within the notebook\n",
    "- [0.2 points]: Evaluation of correctness and clarity in written communication for Question \"3\"\n",
    "- [0.2 points]: Evaluation of correctness and clarity in written communication for Question \"4\"\n",
    "- [0.2 points]: Evaluation of submitted work and conclusions for Question \"9\"\n",
    "- [0.3 points]: Evaluation of written communication of the \"big picture\" differences and correct evidence assessement for Question \"11\"\n"
   ]
  },
  {
   "cell_type": "markdown",
   "id": "a326d8bb",
   "metadata": {},
   "source": [
    "## \"Pre-lecture\" versus \"Post-lecture\" HW? \n",
    "\n",
    "- _**Your HW submission is due prior to the Nov08 TUT on Friday after you return from Reading Week; however,**_\n",
    "- _**this homework assignment is longer since it covers material from both the Oct21 and Nov04 LEC (rather than a single LEC); so,**_\n",
    "- _**we'll brake the assignment into \"Week of Oct21\" and \"Week of Nov04\" HW and/but ALL of it will be DUE prior to the Nov08 TUT**_\n"
   ]
  },
  {
   "cell_type": "markdown",
   "id": "49cc8cd7",
   "metadata": {},
   "source": [
    "## \"Week of Oct21\" HW [*due prior to the Nov08 TUT*]"
   ]
  },
  {
   "cell_type": "markdown",
   "id": "d8140d3a",
   "metadata": {},
   "source": [
    "### 1. Explain the theoretical Simple Linear Regression model in your own words by describing its components (of predictor and outcome variables, slope and intercept coefficients, and an error term) and how they combine to form a sample from normal distribution; then, create *python* code explicitly demonstrating your explanation using *numpy* and *scipy.stats* <br>\n",
    "\n",
    "<details class=\"details-example\"><summary style=\"color:blue\"><u>Further Guidance</u></summary>\n",
    "\n",
    "> _Your answer can be quite concise and will likely just address the \"mathematical\" and \"statistical\" aspects of the process of a **Simple Linear Model** specification, perhaps giving an intuitive interpretation summary of the result as a whole_\n",
    ">   \n",
    "> - _Your code could be based on values for `n`, `x`, `beta0`, `beta1`, and `sigma`; and, then create the `errors` and `Y`_\n",
    "> \n",
    "> - _The predictors $x_i$ can be fixed arbitrarily to start the process (perhaps sampled using `stats.uniform`), and they are conceptually different from the creation of **error** (or **noise**) terms $\\epsilon_i$ which are sampled from a **normal distribution** (with some aribtrarily *a priori* chosen **standard deviation** `scale` parameter $\\sigma$) which are then combined with $x_i$ through the **Simple Linear Model** equation (based on aribtrarily *a priori* chosen **slope** and **intercept coefficients**) to produce the $Y_i$ outcomes_\n",
    "> \n",
    "> - _It should be fairly easy to visualize the \"a + bx\" line defined by the **Simple Linear Model** equation, and some **simulated** data points around the line in a `plotly` figure using the help of a ChatBot_\n",
    "> \n",
    "> _If you use a ChatBot (as expected for this problem), **don't forget to ask for summaries of your ChatBot session(s) and paste these into your homework notebook (including link(s) to chat log histories if you're using ChatGPT)**_\n",
    ">\n",
    "> \n",
    "> _**Question Scope Warning:** Be careful when using a ChatBot to help you with creating an example dataset and coding up a visualization though, **because it might suggest creating (and visualizing) a fitted model for to your data (rather than the theoretical model); but, this is not what this question is asking you to demonstrate**. This question is not asking about how to produce a fitted **Simple Linear Regression** model or explain how model **slope** and **intercept coefficients** are calculated (e.g., using \"ordinary least squares\" or analytical equations to estimate the **coefficients**  for an observed dataset)._\n",
    "> \n",
    "> ```python\n",
    "> # There are two distinct ways to use `plotly` here\n",
    ">\n",
    "> import plotly.express as px\n",
    "> px.scatter(df, x='x',  y='Y', color='Data', \n",
    ">            trendline='ols', title='Y vs. x')\n",
    ">        \n",
    "> import plotly.graph_objects as go\n",
    "> fig = go.Figure()\n",
    "> fig.add_trace(go.Scatter(x=x, y=Y, mode='markers', name='Data'))\n",
    "> \n",
    "> # The latter is preferable since `trendline='ols'` in the former \n",
    "> # creates a fitted model for the data and adds it to the figure\n",
    "> # and, again, THAT IS NOT what this problem is asking for right now\n",
    "> ```\n",
    ">    \n",
    "> ---\n",
    "> \n",
    "> _Don't forget to ask for summaries of all your different ChatBot sessions and organize and paste these into your homework notebook (including link(s) to chat log histories if you're using ChatBot) But if you're using the STA130 custom NBLM ChatBot, you'll only be able to ask for summaries, of course!_  \n",
    "</details>\n"
   ]
  },
  {
   "cell_type": "markdown",
   "id": "12bb6086",
   "metadata": {},
   "source": [
    "The Simple Linear Regression model describes a linear relationship between a predictor variable X and an outcome variable Y. It’s given by:\n",
    "                            Y = β0 + β1 * X + ϵ \n",
    "where:\n",
    "\n",
    "    -β0 is the intercept, representing the outcome value when X=0\n",
    "    -β1 is the slope, indicating how much Y changes with a one-unit increase in X.\n",
    "    -ϵ is the error term, capturing random variations around the line, assumed to follow a normal distribution.\n",
    "    \n",
    "This model implies that Y values are normally distributed around the regression line \n",
    "β0 +β1 * X, creating a \"scatter\" due to ϵ."
   ]
  },
  {
   "cell_type": "code",
   "execution_count": 1,
   "id": "8857bdda",
   "metadata": {},
   "outputs": [
    {
     "data": {
      "image/png": "[encoded data removed]",
      "text/plain": [
       "<Figure size 640x480 with 1 Axes>"
      ]
     },
     "metadata": {},
     "output_type": "display_data"
    }
   ],
   "source": [
    "import numpy as np\n",
    "import matplotlib.pyplot as plt\n",
    "from scipy.stats import norm\n",
    "\n",
    "# Parameters\n",
    "beta_0, beta_1, sigma, n = 5, 2, 1, 100\n",
    "X = np.random.rand(n) * 10\n",
    "epsilon = norm.rvs(0, sigma, n)\n",
    "\n",
    "# Generate Y\n",
    "Y = beta_0 + beta_1 * X + epsilon\n",
    "\n",
    "# Plot\n",
    "plt.scatter(X, Y, label=\"Observed data\")\n",
    "plt.plot(X, beta_0 + beta_1 * X, color=\"red\", label=\"True Regression Line\")\n",
    "plt.xlabel(\"Predictor (X)\")\n",
    "plt.ylabel(\"Outcome (Y)\")\n",
    "plt.legend()\n",
    "plt.show()\n"
   ]
  },
  {
   "cell_type": "markdown",
   "id": "8a0f9cdf",
   "metadata": {},
   "source": [
    "### 2. Use a dataset simulated from your theoretical Simple Linear Regression model to demonstrate how to create and visualize a fitted Simple Linear Regression model using *pandas* and *import statsmodels.formula.api as smf*<br>\n",
    "\n",
    "<details class=\"details-example\"><summary style=\"color:blue\"><u>Further Guidance</u></summary>\n",
    "\n",
    "> - _Combine the **simulated** `x` and `Y` into a `pandas` data frame object named `df` with the column names \"x\" and \"Y\"_\n",
    "> \n",
    "> - _Replace the inline question comments below with their answers (working with a ChatBot if needed)_\n",
    ">\n",
    "> ```python\n",
    "> import statsmodels.formula.api as smf  # what is this library for?\n",
    "> import plotly.express as px  # this is a ploting library\n",
    ">\n",
    "> # what are the following two steps doing?\n",
    "> model_data_specification = smf.ols(\"Y~x\", data=df) \n",
    "> fitted_model = model_data_specification.fit() \n",
    ">\n",
    "> # what do each of the following provide?\n",
    "> fitted_model.summary()  # simple explanation? \n",
    "> fitted_model.summary().tables[1]  # simple explanation?\n",
    "> fitted_model.params  # simple explanation?\n",
    "> fitted_model.params.values  # simple explanation?\n",
    "> fitted_model.rsquared  # simple explanation?\n",
    ">\n",
    "> # what two things does this add onto the figure?\n",
    "> df['Data'] = 'Data' # hack to add data to legend \n",
    "> fig = px.scatter(df, x='x',  y='Y', color='Data', \n",
    ">                  trendline='ols', title='Y vs. x')\n",
    ">\n",
    "> # This is essentially what above `trendline='ols'` does\n",
    "> fig.add_scatter(x=df['x'], y=fitted_model.fittedvalues,\n",
    ">                 line=dict(color='blue'), name=\"trendline='ols'\")\n",
    "> \n",
    "> fig.show() # USE `fig.show(renderer=\"png\")` FOR ALL GitHub and MarkUs SUBMISSIONS\n",
    "> ```\n",
    ">\n",
    "> _The plotting here uses the `plotly.express` form `fig.add_scatter(x=x, y=Y)` rather than the `plotly.graph_objects` form `fig.add_trace(go.Scatter(x=x, y=Y))`. The difference between these two was noted in the \"Further Guidance\" comments in the previous question; but, the preference for the former in this case is because `px` allows us to access `trendline='ols'` through `px.scatter(df, x='x',  y='Y', trendline='ols')`_\n",
    ">\n",
    "> ---\n",
    "> \n",
    "> _Don't forget to ask for summaries of all your different ChatBot sessions and organize and paste these into your homework notebook (including link(s) to chat log histories if you're using ChatBot) But if you're using the STA130 custom NBLM ChatBot, you'll only be able to ask for summaries, of course!_      \n",
    "\n",
    "</details>"
   ]
  },
  {
   "cell_type": "markdown",
   "id": "ced0ca91",
   "metadata": {},
   "source": [
    "1: Simulate Data: We use the previous Simple Linear Regression model to generate a dataset with a predictor X and outcome Y.\n",
    "\n",
    "2: Fit the Model: We use statsmodels to fit a linear regression model to the simulated data.\n",
    "\n",
    "3: Visualize: We plot the observed data along with the fitted regression line."
   ]
  },
  {
   "cell_type": "code",
   "execution_count": 2,
   "id": "16eeb6a6",
   "metadata": {},
   "outputs": [
    {
     "name": "stdout",
     "output_type": "stream",
     "text": [
      "                            OLS Regression Results                            \n",
      "==============================================================================\n",
      "Dep. Variable:                      Y   R-squared:                       0.971\n",
      "Model:                            OLS   Adj. R-squared:                  0.971\n",
      "Method:                 Least Squares   F-statistic:                     3262.\n",
      "Date:                Fri, 08 Nov 2024   Prob (F-statistic):           4.88e-77\n",
      "Time:                        00:42:23   Log-Likelihood:                -141.51\n",
      "No. Observations:                 100   AIC:                             287.0\n",
      "Df Residuals:                      98   BIC:                             292.2\n",
      "Df Model:                           1                                         \n",
      "Covariance Type:            nonrobust                                         \n",
      "==============================================================================\n",
      "                 coef    std err          t      P>|t|      [0.025      0.975]\n",
      "------------------------------------------------------------------------------\n",
      "Intercept      5.2222      0.193     27.017      0.000       4.839       5.606\n",
      "X              1.9937      0.035     57.117      0.000       1.924       2.063\n",
      "==============================================================================\n",
      "Omnibus:                       11.746   Durbin-Watson:                   2.083\n",
      "Prob(Omnibus):                  0.003   Jarque-Bera (JB):                4.097\n",
      "Skew:                           0.138   Prob(JB):                        0.129\n",
      "Kurtosis:                       2.047   Cond. No.                         10.9\n",
      "==============================================================================\n",
      "\n",
      "Notes:\n",
      "[1] Standard Errors assume that the covariance matrix of the errors is correctly specified.\n"
     ]
    },
    {
     "data": {
      "image/png": "[encoded data removed]",
      "text/plain": [
       "<Figure size 640x480 with 1 Axes>"
      ]
     },
     "metadata": {},
     "output_type": "display_data"
    }
   ],
   "source": [
    "import numpy as np\n",
    "import pandas as pd\n",
    "import matplotlib.pyplot as plt\n",
    "import statsmodels.formula.api as smf\n",
    "\n",
    "# Simulate data (same as in Question 1)\n",
    "np.random.seed(0)\n",
    "beta_0, beta_1, sigma, n = 5, 2, 1, 100\n",
    "X = np.random.rand(n) * 10\n",
    "epsilon = np.random.normal(0, sigma, n)\n",
    "Y = beta_0 + beta_1 * X + epsilon\n",
    "\n",
    "# Create a DataFrame for easier handling with pandas and statsmodels\n",
    "data = pd.DataFrame({'X': X, 'Y': Y})\n",
    "\n",
    "# Fit Simple Linear Regression model using statsmodels\n",
    "model = smf.ols('Y ~ X', data=data).fit()\n",
    "\n",
    "# Print model summary (optional, to inspect coefficients)\n",
    "print(model.summary())\n",
    "\n",
    "# Plot observed data and the fitted line\n",
    "plt.scatter(data['X'], data['Y'], label=\"Observed Data\")\n",
    "plt.plot(data['X'], model.predict(data['X']), color=\"red\", label=\"Fitted Line\")\n",
    "plt.xlabel(\"Predictor (X)\")\n",
    "plt.ylabel(\"Outcome (Y)\")\n",
    "plt.legend()\n",
    "plt.show()\n"
   ]
  },
  {
   "cell_type": "markdown",
   "id": "59b70bc0",
   "metadata": {},
   "source": [
    "### 3. Add the line from Question 1 on the figure of Question 2 and explain the difference between the nature of the two lines in your own words; *but, hint though: simulation of random sampling variation*<br>\n",
    "\n",
    "<details class=\"details-example\"><summary style=\"color:blue\"><u>Further Guidance</u></summary>\n",
    "\n",
    "> _This question is effectively asking you to explain what the combined code you produced for Questions 1 and 2 is trying to demonstrate overall. If you're working with a ChatBot (as expected), giving these two sets of code as context, and asking what the purpose of comparing these lines could be would be a way to get some help in formulating your answer_\n",
    "> \n",
    "> _The graphical visualization aspect of this question could be accomplished by appending the following code to the code provided in Question 2._\n",
    "> \n",
    "> ```python\n",
    "> # what does this add onto the figure in constrast to `trendline='ols'`?\n",
    "> x_range = np.array([df['x'].min(), df['x'].max()])\n",
    "> # beta0 and beta1 are assumed to be defined\n",
    "> y_line = beta0 + beta1 * x_range\n",
    "> fig.add_scatter(x=x_range, y=y_line, mode='lines',\n",
    ">                 name=str(beta0)+' + '+str(beta1)+' * x', \n",
    ">                 line=dict(dash='dot', color='orange'))\n",
    ">\n",
    "> fig.show() # USE `fig.show(renderer=\"png\")` FOR ALL GitHub and MarkUs SUBMISSIONS\n",
    "> ```\n",
    "> \n",
    "> _The right way to interactively \"see\" the answer to this question is to repeatedly create different dataset **simulations** using your theoretical model and the corresponding fitted models, and repeatedly visualize the data and the two lines over and over... this would be as easy as rerunning a single cell containing your simulation and visualization code..._\n",
    ">    \n",
    "> ---\n",
    "> \n",
    "> _Don't forget to ask for summaries of all your different ChatBot sessions and organize and paste these into your homework notebook (including link(s) to chat log histories if you're using ChatBot) But if you're using the STA130 custom NBLM ChatBot, you'll only be able to ask for summaries, of course!_  \n",
    "</details>"
   ]
  },
  {
   "cell_type": "code",
   "execution_count": 4,
   "id": "c91e7b9b",
   "metadata": {},
   "outputs": [
    {
     "data": {
      "image/png": "[encoded data removed]",
      "text/plain": [
       "<Figure size 640x480 with 1 Axes>"
      ]
     },
     "metadata": {},
     "output_type": "display_data"
    }
   ],
   "source": [
    "import numpy as np\n",
    "import pandas as pd\n",
    "import matplotlib.pyplot as plt\n",
    "import statsmodels.formula.api as smf\n",
    "\n",
    "# Simulate data (same as in Question 1)\n",
    "np.random.seed(0)\n",
    "beta_0, beta_1, sigma, n = 5, 2, 1, 100\n",
    "X = np.random.rand(n) * 10\n",
    "epsilon = np.random.normal(0, sigma, n)\n",
    "Y = beta_0 + beta_1 * X + epsilon\n",
    "\n",
    "# Create a DataFrame\n",
    "data = pd.DataFrame({'X': X, 'Y': Y})\n",
    "\n",
    "# Fit Simple Linear Regression model\n",
    "model = smf.ols('Y ~ X', data=data).fit()\n",
    "\n",
    "# Plot observed data\n",
    "plt.scatter(data['X'], data['Y'], label=\"Observed Data\")\n",
    "# Plot the fitted regression line from statsmodels\n",
    "plt.plot(data['X'], model.predict(data['X']), color=\"red\", label=\"Fitted Line (Estimated)\")\n",
    "# Plot the \"true\" regression line from the original simulation\n",
    "x_range = np.array([data['X'].min(), data['X'].max()])\n",
    "y_line = beta_0 + beta_1 * x_range\n",
    "plt.plot(x_range, y_line, color=\"orange\", linestyle=\"--\", label=f\"True Line ({beta_0} + {beta_1} * X)\")\n",
    "\n",
    "# Labels and legend\n",
    "plt.xlabel(\"Predictor (X)\")\n",
    "plt.ylabel(\"Outcome (Y)\")\n",
    "plt.legend()\n",
    "plt.show()\n"
   ]
  },
  {
   "cell_type": "markdown",
   "id": "e0501e49",
   "metadata": {},
   "source": [
    "**EXPLANATION the Difference Between the Lines**\n",
    "\n",
    "**True Line (Orange Dashed Line)**: \n",
    "This line is calculated using the known parameters beta_0 and beta_1, representing the theoretical relationship $$Y = \\beta_0 + \\beta_1 X.$$.\n",
    "\n",
    "The true line represents the exact linear relationship from which the data was simulated. It’s fixed and does not vary across samples, as it’s based on predefined values of $$\\beta_0$$ and $$\\beta_1$$.\n",
    "\n",
    "\n",
    "**Fitted Line (Red Solid Line)**: \n",
    "This line is generated by fitting a Simple Linear Regression model to the observed data. The fitted line changes depending on the sample, as it’s influenced by random variation (error term) in the data.\n",
    "The fitted line represents the best linear approximation based on the specific sample of observed data. Each sample has unique random error (sampling variation), meaning that with every new sample, the fitted line might shift slightly due to this randomness. This variability illustrates how the fitted line is an estimate that fluctuates around the true line because of the randomness introduced by the error term in each sample.\n",
    "\n",
    "\n",
    "**The orange dashed line** remains consistent as it reflects the theoretical model, while the **red fitted line** shifts, showing how different samples affect the estimated relationship due to random sampling variation.\n",
    "\n",
    "work cited: https://chatgpt.com/share/672d66de-4200-8010-853f-2363476f4fbb\n"
   ]
  },
  {
   "cell_type": "markdown",
   "id": "2b68e71c",
   "metadata": {},
   "source": [
    "### 4. Explain how *fitted_model.fittedvalues* are derived on the basis of *fitted_model.summary().tables[1]* (or more specifically  *fitted_model.params* or *fitted_model.params.values*)<br>\n",
    "\n",
    "<details class=\"details-example\"><summary style=\"color:blue\"><u>Further Guidance</u></summary>\n",
    "\n",
    "> _The previous questions used code to explore the distinction between theoretical (true) $Y_i = \\beta_0 + \\beta_1 x_i + \\epsilon_i \\;[\\text{where } \\epsilon_i \\sim \\mathcal{N}(0, \\sigma)]\\;$ and fitted (estimated) $\\hat{y}_i = \\hat{\\beta}_0 + \\hat{\\beta}_1 x_i$ **Simple Linear Regression** models_\n",
    ">\n",
    "> _This question asks you to explicitly illustrate how the the latter \"in sample predictions\" of the fitted **Simple Linear Regression** model $\\hat{y}_i = \\hat{\\beta}_0 + \\hat{\\beta}_1 x_i$ are made (in contrast to the linear equation of the theoretical model)_\n",
    ">    \n",
    "> ---\n",
    "> \n",
    "> _Don't forget to ask for summaries of all your different ChatBot sessions and organize and paste these into your homework notebook (including link(s) to chat log histories if you're using ChatBot) But if you're using the STA130 custom NBLM ChatBot, you'll only be able to ask for summaries, of course!_  \n",
    "</details>"
   ]
  },
  {
   "cell_type": "markdown",
   "id": "870d300f",
   "metadata": {},
   "source": [
    "Fitted (Estimated) Model and In-Sample Predictions\n",
    "When we fit a Simple Linear Regression model, we’re estimating the relationship:\n",
    "                   $$\\hat{y}_i = \\hat{\\beta}_0 + \\hat{\\beta}_1 x_i$$\n",
    "\n",
    " \n",
    " where:\n",
    "    - 𝑦̂𝑖 is the predicted (or fitted) value for the outcome variable based on the estimated model.\n",
    "    - 𝛽̂0 and 𝛽̂1 are the estimated intercept and slope coefficients, derived from the sample data.\n",
    " \n",
    "These estimated coefficients,𝛽̂0 and 𝛽̂1 , are listed in fitted_model.summary().tables[1] under the column “coef” or can be accessed directly via fitted_model.params. They are calculated by minimizing the sum of squared residuals, which is the difference between the observed values 𝑦̂𝑖 and the predicted values 𝑦̂𝑖.\n",
    "\n",
    "How fitted_model.fittedvalues Are Calculated\n",
    "Once we have 𝛽̂0 and 𝛽̂1, we use them to compute the in-sample predictions (the fitted values) for each observed 𝑥𝑖 as: \n",
    "                $$\\hat{y}_i = \\hat{\\beta}_0 + \\hat{\\beta}_1 x_i$$\n",
    "\n",
    " \n",
    "This is essentially the same equation as the theoretical model, but here, instead of using the true parameters 𝛽0  and 𝛽1, we use the estimated parameters 𝛽̂0 and 𝛽̂1 and derived from the sample data.\n",
    "\n",
    "work cited: https://chatgpt.com/share/672d66de-4200-8010-853f-2363476f4fbb"
   ]
  },
  {
   "cell_type": "code",
   "execution_count": 5,
   "id": "5eac799a",
   "metadata": {},
   "outputs": [
    {
     "name": "stdout",
     "output_type": "stream",
     "text": [
      "Estimated Coefficients:\n",
      "Intercept (β̂0): 5.2221510774472275\n",
      "Slope (β̂1): 1.993693502140205\n",
      "\n",
      "Comparison of manually calculated fitted values and fitted_model.fittedvalues:\n",
      "          X  Observed Y  Fitted Y (manual)  \\\n",
      "0  5.488135   14.811120          16.163810   \n",
      "1  7.151894   20.204614          19.480835   \n",
      "2  6.027634   17.520930          17.239405   \n",
      "3  5.448832   14.361420          16.085452   \n",
      "4  4.236548   14.961348          13.668529   \n",
      "\n",
      "   Fitted Y (fitted_model.fittedvalues)  \n",
      "0                             16.163810  \n",
      "1                             19.480835  \n",
      "2                             17.239405  \n",
      "3                             16.085452  \n",
      "4                             13.668529  \n"
     ]
    },
    {
     "data": {
      "image/png": "[encoded data removed]",
      "text/plain": [
       "<Figure size 640x480 with 1 Axes>"
      ]
     },
     "metadata": {},
     "output_type": "display_data"
    }
   ],
   "source": [
    "# Import necessary libraries\n",
    "import numpy as np\n",
    "import pandas as pd\n",
    "import statsmodels.formula.api as smf\n",
    "import matplotlib.pyplot as plt\n",
    "\n",
    "# Step 1: Simulate the data based on a known true relationship\n",
    "\n",
    "np.random.seed(0)  # For reproducibility\n",
    "beta_0, beta_1, sigma, n = 5, 2, 1, 100  # True coefficients\n",
    "X = np.random.rand(n) * 10  # Predictor variable\n",
    "epsilon = np.random.normal(0, sigma, n)  # Random noise\n",
    "Y = beta_0 + beta_1 * X + epsilon  # Outcome variable based on the true model\n",
    "\n",
    "# Create a DataFrame\n",
    "data = pd.DataFrame({'X': X, 'Y': Y})\n",
    "\n",
    "# Step 2: Fit the Simple Linear Regression model\n",
    "fitted_model = smf.ols('Y ~ X', data=data).fit()\n",
    "\n",
    "# Step 3: Retrieve the estimated coefficients\n",
    "beta_hat_0 = fitted_model.params['Intercept']\n",
    "beta_hat_1 = fitted_model.params['X']\n",
    "\n",
    "# Step 4: Calculate fitted values manually\n",
    "fitted_values_manual = beta_hat_0 + beta_hat_1 * data['X']\n",
    "\n",
    "# Display the fitted coefficients and compare fitted values\n",
    "print(\"Estimated Coefficients:\")\n",
    "print(f\"Intercept (β̂0): {beta_hat_0}\")\n",
    "print(f\"Slope (β̂1): {beta_hat_1}\\n\")\n",
    "\n",
    "# Print the first few rows of manually calculated fitted values and fitted_model.fittedvalues for comparison\n",
    "comparison_df = pd.DataFrame({\n",
    "    'X': data['X'],\n",
    "    'Observed Y': data['Y'],\n",
    "    'Fitted Y (manual)': fitted_values_manual,\n",
    "    'Fitted Y (fitted_model.fittedvalues)': fitted_model.fittedvalues\n",
    "})\n",
    "print(\"Comparison of manually calculated fitted values and fitted_model.fittedvalues:\")\n",
    "print(comparison_df.head())\n",
    "\n",
    "# Step 5: Plot observed data, true line, and fitted line\n",
    "plt.scatter(data['X'], data['Y'], label=\"Observed Data\", color=\"blue\")\n",
    "plt.plot(data['X'], beta_0 + beta_1 * data['X'], color=\"orange\", linestyle=\"--\", label=f\"True Line ({beta_0} + {beta_1} * X)\")\n",
    "plt.plot(data['X'], fitted_model.fittedvalues, color=\"red\", label=\"Fitted Line (Estimated)\")\n",
    "\n",
    "# Labels and legend\n",
    "plt.xlabel(\"Predictor (X)\")\n",
    "plt.ylabel(\"Outcome (Y)\")\n",
    "plt.legend()\n",
    "plt.show()\n"
   ]
  },
  {
   "cell_type": "markdown",
   "id": "3e9fdfa9",
   "metadata": {},
   "source": [
    "### 5. Explain concisely in your own words what line is chosen for the fitted model based on observed data using the \"ordinary least squares\" method (as is done by *trendline='ols'* and *smf.ols(...).fit()*) and why it requires \"squares\"<br>\n",
    "    \n",
    "<details class=\"details-example\"><summary style=\"color:blue\"><u>Further Guidance</u></summary>\n",
    "\n",
    "> _This question addresses the use of **residuals** $\\text{e}_i = \\hat \\epsilon_i = Y_i - \\hat y_i$ (in contrast to the **error** terms $\\epsilon_i$ of the theoretical model), and particularly, asks for an explanation based on the following visualization_\n",
    ">\n",
    "> ```python \n",
    "> import scipy.stats as stats\n",
    "> import numpy as np\n",
    "> import pandas as pd\n",
    "> import statsmodels.formula.api as smf\n",
    "> import plotly.express as px\n",
    "> \n",
    "> n,x_min,x_range,beta0,beta1,sigma = 20,5,5,2,3,5\n",
    "> x = stats.uniform(x_min, x_range).rvs(size=n)\n",
    "> errors = stats.norm(loc=0, scale=sigma).rvs(size=n)\n",
    "> Y = beta0 + beta1 * x + errors\n",
    "> \n",
    "> df = pd.DataFrame({'x': x, 'y': Y})\n",
    "> model_data_specification = smf.ols(\"Y~x\", data=df) \n",
    "> fitted_model = model_data_specification.fit() \n",
    "> \n",
    "> df['Data'] = 'Data' # hack to add data to legend \n",
    "> fig = px.scatter(df, x='x',  y='Y', color='Data', \n",
    ">                  trendline='ols', title='Y vs. x')\n",
    "> \n",
    "> # This is what `trendline='ols'` is\n",
    "> fig.add_scatter(x=df['x'], y=fitted_model.fittedvalues,\n",
    ">                 line=dict(color='blue'), name=\"trendline='ols'\")\n",
    "> \n",
    "> x_range = np.array([df['x'].min(), df['x'].max()])\n",
    "> y_line = beta0 + beta1 * x_range\n",
    "> fig.add_scatter(x=x_range, y=y_line, mode='lines',\n",
    ">                 name=str(beta0)+' + '+str(beta1)+' * x', \n",
    ">                 line=dict(dash='dot', color='orange'))\n",
    "> \n",
    "> # Add vertical lines for residuals\n",
    "> for i in range(len(df)):\n",
    ">     fig.add_scatter(x=[df['x'][i], df['x'][i]],\n",
    ">                     y=[fitted_model.fittedvalues[i], df['Y'][i]],\n",
    ">                     mode='lines',\n",
    ">                     line=dict(color='red', dash='dash'),\n",
    ">                     showlegend=False)\n",
    ">     \n",
    "> # Add horizontal line at y-bar\n",
    "> fig.add_scatter(x=x_range, y=[df['Y'].mean()]*2, mode='lines',\n",
    ">                 line=dict(color='black', dash='dot'), name='y-bar')\n",
    "> \n",
    "> fig.show() # USE `fig.show(renderer=\"png\")` FOR ALL GitHub and MarkUs SUBMISSIONS\n",
    "> ```\n",
    ">\n",
    "> _**Question Scope Warning**: we are not looking for any explanation realted to the mathematical equations for the line chosen for the **Simple Linear Regression** model by the \"ordinary least squares\" method, which happen to be_\n",
    "> \n",
    "> _$$\\hat \\beta_1 = r_{xy}\\frac{s_y}{s_x} \\quad \\text{ and } \\quad  \\hat\\beta_0 = \\bar {y}-\\hat \\beta_1\\bar {x}$$_\n",
    ">\n",
    "> _where $r_{xy}$ is the **correlation** between $x$ and $Y$ and $s_x$ and $s_Y$ are the **sample standard deviations** of $x$ and $y$_\n",
    ">\n",
    "> ---\n",
    "> \n",
    "> ```python \n",
    "> # Use this if you need it    \n",
    "> # https://stackoverflow.com/questions/52771328/plotly-chart-not-showing-in-jupyter-notebook\n",
    "> import plotly.offline as pyo\n",
    "> # Set notebook mode to work in offline\n",
    "> pyo.init_notebook_mode()    \n",
    "> ```\n",
    ">\n",
    "> ---\n",
    "> \n",
    "> _Don't forget to ask for summaries of all your different ChatBot sessions and organize and paste these into your homework notebook (including link(s) to chat log histories if you're using ChatBot) But if you're using the STA130 custom NBLM ChatBot, you'll only be able to ask for summaries, of course!_  \n",
    "    \n",
    "</details>"
   ]
  },
  {
   "cell_type": "markdown",
   "id": "dc5ba222",
   "metadata": {},
   "source": [
    "### 6. Explain why the first expression below can be interpreted as \"the proportion of variation in (outcome) Y explained by the model (i.e. _fitted_model.fittedvalues_)\"; and therefore, why _fitted_model.rsquared_ can be interpreted as a measure of the accuracy of the model; and, therefore what the two _np.corrcoef(...)[0,1]\\*\\*2_ expressions capture in the context of _Simple Linear Regression models_.\n",
    "\n",
    "1. `1-((Y-fitted_model.fittedvalues)**2).sum()/((Y-Y.mean())**2).sum()`\n",
    "2. `fitted_model.rsquared`\n",
    "3. `np.corrcoef(Y,fitted_model.fittedvalues)[0,1]**2`\n",
    "4. `np.corrcoef(Y,x)[0,1]**2`<br><br>\n",
    "\n",
    "<details class=\"details-example\"><summary style=\"color:blue\"><u>Further Guidance</u></summary>\n",
    "\n",
    "> _**R-squared** is the \"the proportion of variation in (outcome) $Y$ explained by the model ($\\hat y_i$)\" and is defined as_\n",
    ">\n",
    "> _$R^2 = 1 - \\frac{\\sum_{i=1}^n(Y_i-\\hat y)^2}{\\sum_{i=1}^n(Y_i-\\bar Y)^2}$_\n",
    ">\n",
    "> _The visuzation provided in the previous problem can be used to consider $(Y_i-\\bar Y)^2$ as the squared distance of the $Y_i$ to their sample average $\\bar Y$ as opposed to the squared **residuals** $(Y_i-\\hat y)^2$ which is the squared distance of the $Y_i$ to their fitted (predicted) values $Y_i$._\n",
    ">    \n",
    "> ---\n",
    "> \n",
    "> _Don't forget to ask for summaries of all your different ChatBot sessions and organize and paste these into your homework notebook (including link(s) to chat log histories if you're using ChatBot) But if you're using the STA130 custom NBLM ChatBot, you'll only be able to ask for summaries, of course!_  \n",
    "</details>"
   ]
  },
  {
   "cell_type": "markdown",
   "id": "d821fd86",
   "metadata": {},
   "source": [
    "### 7. Indicate a couple of the assumptions of the *Simple Linear Regression* model specification that do not seem compatible with the example data below<br>\n",
    "\n",
    "<details class=\"details-example\"><summary style=\"color:blue\"><u>Further Guidance</u></summary>\n",
    "\n",
    "> _Hint: What even ARE the assumptions of the  **Simple Linear Regression** model, you ask? Have a look at the mathematical specification and see if what it seems to be assuming._\n",
    "> \n",
    "> _Don't forget to ask for summaries of all your different ChatBot sessions and organize and paste these into your homework notebook (including link(s) to chat log histories if you're using ChatBot) But if you're using the STA130 custom NBLM ChatBot, you'll only be able to ask for summaries, of course!_  \n",
    "</details>"
   ]
  },
  {
   "cell_type": "code",
   "execution_count": null,
   "id": "ec7fda0d",
   "metadata": {},
   "outputs": [],
   "source": [
    "import pandas as pd\n",
    "from scipy import stats\n",
    "import plotly.express as px\n",
    "from plotly.subplots import make_subplots\n",
    "\n",
    "# This data shows the relationship between the amount of fertilizer used and crop yield\n",
    "data = {'Amount of Fertilizer (kg) (x)': [1, 1.2, 1.4, 1.6, 1.8, 2, 2.2, 2.4, 2.6, \n",
    "                                          2.8, 3, 3.2, 3.4, 3.6, 3.8, 4, 4.2, 4.4, \n",
    "                                          4.6, 4.8, 5, 5.2, 5.4, 5.6, 5.8, 6, 6.2, \n",
    "                                          6.4, 6.6, 6.8, 7, 7.2, 7.4, 7.6, 7.8, 8, \n",
    "                                          8.2, 8.4, 8.6, 8.8,9, 9.2, 9.4, 9.6],\n",
    "        'Crop Yield (tons) (Y)': [18.7, 16.9, 16.1, 13.4, 48.4, 51.9, 31.8, 51.3, \n",
    "                                  63.9, 50.6, 58.7, 82.4, 66.7, 81.2, 96.5, 112.2, \n",
    "                                  132.5, 119.8, 127.7, 136.3, 148.5, 169.4, 177.9, \n",
    "                                  186.7, 198.1, 215.7, 230.7, 250.4, 258. , 267.8, \n",
    "                                  320.4, 302. , 307.2, 331.5, 375.3, 403.4, 393.5,\n",
    "                                  434.9, 431.9, 451.1, 491.2, 546.8, 546.4, 558.9]}\n",
    "df = pd.DataFrame(data)\n",
    "fig1 = px.scatter(df, x='Amount of Fertilizer (kg) (x)', y='Crop Yield (tons) (Y)',\n",
    "                  trendline='ols', title='Crop Yield vs. Amount of Fertilizer')\n",
    "\n",
    "# Perform linear regression using scipy.stats\n",
    "slope, intercept, r_value, p_value, std_err = \\\n",
    "    stats.linregress(df['Amount of Fertilizer (kg) (x)'], df['Crop Yield (tons) (Y)'])\n",
    "# Predict the values and calculate residuals\n",
    "y_hat = intercept + slope * df['Amount of Fertilizer (kg) (x)']\n",
    "residuals = df['Crop Yield (tons) (Y)'] - y_hat\n",
    "df['Residuals'] = residuals\n",
    "fig2 = px.histogram(df, x='Residuals', nbins=10, title='Histogram of Residuals',\n",
    "                    labels={'Residuals': 'Residuals'})\n",
    "\n",
    "fig = make_subplots(rows=1, cols=2,\n",
    "                    subplot_titles=('Crop Yield vs. Amount of Fertilizer', \n",
    "                                    'Histogram of Residuals'))\n",
    "for trace in fig1.data:\n",
    "    fig.add_trace(trace, row=1, col=1)\n",
    "for trace in fig2.data:\n",
    "    fig.add_trace(trace, row=1, col=2)\n",
    "fig.update_layout(title='Scatter Plot and Histogram of Residuals',\n",
    "    xaxis_title='Amount of Fertilizer (kg)', yaxis_title='Crop Yield (tons)',\n",
    "    xaxis2_title='Residuals', yaxis2_title='Frequency', showlegend=False)\n",
    "\n",
    "fig.show() # USE `fig.show(renderer=\"png\")` FOR ALL GitHub and MarkUs SUBMISSIONS"
   ]
  },
  {
   "cell_type": "markdown",
   "id": "a977ba64",
   "metadata": {},
   "source": [
    "## \"Week of Nov04\" HW [due prior to the Nov08 TUT]\n",
    "\n",
    "_**In place of the \"Data Analysis Assignment\" format we introduced for the previous weeks' HW, the remaining questions will be a collection of exercises based around the following data**_\n",
    "\n",
    "> The details of the \"LOWESS Trendline\" shown below are not a part of the intended scope of the activities here, but it is included since it is suggestive of the questions we will consider and address here\n"
   ]
  },
  {
   "cell_type": "code",
   "execution_count": null,
   "id": "a29449cd",
   "metadata": {},
   "outputs": [],
   "source": [
    "import plotly.express as px\n",
    "import seaborn as sns\n",
    "import statsmodels.api as sm\n",
    "\n",
    "# The \"Classic\" Old Faithful Geyser dataset: ask a ChatBot for more details if desired\n",
    "old_faithful = sns.load_dataset('geyser')\n",
    "\n",
    "# Create a scatter plot with a Simple Linear Regression trendline\n",
    "fig = px.scatter(old_faithful, x='waiting', y='duration', \n",
    "                 title=\"Old Faithful Geyser Eruptions\", \n",
    "                 trendline='ols')#'lowess'\n",
    "\n",
    "# Add a smoothed LOWESS Trendline to the scatter plot\n",
    "lowess = sm.nonparametric.lowess  # Adjust 'frac' to change \"smoothness bandwidth\"\n",
    "smoothed = lowess(old_faithful['duration'], old_faithful['waiting'], frac=0.25)  \n",
    "smoothed_df = pd.DataFrame(smoothed, columns=['waiting', 'smoothed_duration'])\n",
    "fig.add_scatter(x=smoothed_df['waiting'], y=smoothed_df['smoothed_duration'], \n",
    "                mode='lines', name='LOWESS Trendline')\n",
    "\n",
    "fig.show() # USE `fig.show(renderer=\"png\")` FOR ALL GitHub and MarkUs SUBMISSIONS"
   ]
  },
  {
   "cell_type": "markdown",
   "id": "b0db85ec",
   "metadata": {},
   "source": [
    "### 8. Specify a *null hypothesis* of \"no linear association (on average)\" in terms of the relevant *parameter* of the *Simple Linear Regression* model, and use the code below to characterize the evidence in the data relative to the *null hypothesis* and interpret your subsequent beliefs regarding the Old Faithful Geyser dataset.<br>\n",
    "\n",
    "<details class=\"details-example\"><summary style=\"color:blue\"><u>Further Guidance</u></summary>\n",
    "\n",
    "> _Remember that **Hypothesis Testing** is not a \"mathematical proof\"_\n",
    ">\n",
    "> - _We do not prove $H_0$ false, we instead give evidence against the $H_0$: \"We reject the null hypothesis with a p-value of XYZ, meaning we have ABC evidence against the null hypothesis\"_\n",
    "> - _We do not prove $H_0$ is true, we instead do not have evidence to reject $H_0$: \"We fail to reject the null hypothesis with a p-value of XYZ\"_\n",
    "\n",
    "|p-value|Evidence|\n",
    "|-|-|\n",
    "|$$p > 0.1$$|No evidence against the null hypothesis|\n",
    "|$$0.1 \\ge p > 0.05$$|Weak evidence against the null hypothesis|\n",
    "|$$0.05 \\ge p > 0.01$$|Moderate evidence against the null hypothesis|\n",
    "|$$0.01 \\ge p > 0.001$$|Strong evidence against the null hypothesis|\n",
    "|$$0.001 \\ge p$$|Very strong evidence against the null hypothesis|\n",
    "\n",
    "</details>    \n",
    "\n",
    "> ```python\n",
    "> import seaborn as sns\n",
    "> import statsmodels.formula.api as smf\n",
    ">\n",
    "> # The \"Classic\" Old Faithful Geyser dataset\n",
    "> old_faithful = sns.load_dataset('geyser')\n",
    "> \n",
    "> linear_for_specification = 'duration ~ waiting'\n",
    "> model = smf.ols(linear_for_specification, data=old_faithful)\n",
    "> fitted_model = model.fit()\n",
    "> fitted_model.summary()\n",
    "> ```\n"
   ]
  },
  {
   "cell_type": "markdown",
   "id": "bd719fef",
   "metadata": {},
   "source": [
    "### 9. As seen in the introductory figure above, if the delay of the geyser eruption since the previous geyser eruption exceeds approximately 63 minutes, there is a notable increase in the duration of the geyser eruption itself. In the figure below we therefore restrict the dataset to only short wait times. Within the context of only short wait times, is there evidence in the data for a relationship between duration and wait time in the same manner as in the full data set? Using the following code, characterize the evidence against the *null hypothesis* in the context of short wait times which are less than  *short_wait_limit* values of *62*, *64*, *66*.<br>\n"
   ]
  },
  {
   "cell_type": "code",
   "execution_count": 11,
   "id": "f0cd0ffd",
   "metadata": {},
   "outputs": [
    {
     "name": "stdout",
     "output_type": "stream",
     "text": [
      "==============================================================================\n",
      "                 coef    std err          t      P>|t|      [0.025      0.975]\n",
      "------------------------------------------------------------------------------\n",
      "Intercept      1.6401      0.309      5.306      0.000       1.025       2.255\n",
      "waiting        0.0069      0.006      1.188      0.238      -0.005       0.019\n",
      "==============================================================================\n"
     ]
    },
    {
     "data": {
      "application/vnd.plotly.v1+json": {
       "config": {
        "plotlyServerURL": "https://plot.ly"
       },
       "data": [
        {
         "hovertemplate": "waiting=%{x}<br>duration=%{y}<extra></extra>",
         "legendgroup": "",
         "marker": {
          "color": "#636efa",
          "symbol": "circle"
         },
         "mode": "markers",
         "name": "",
         "orientation": "v",
         "showlegend": false,
         "type": "scatter",
         "x": [
          54,
          55,
          51,
          54,
          47,
          52,
          52,
          51,
          47,
          55,
          52,
          48,
          59,
          58,
          58,
          53,
          59,
          54,
          54,
          59,
          48,
          60,
          56,
          60,
          48,
          60,
          50,
          51,
          49,
          47,
          52,
          59,
          59,
          50,
          59,
          53,
          56,
          45,
          55,
          45,
          56,
          46,
          51,
          53,
          60,
          59,
          49,
          53,
          53,
          45,
          58,
          52,
          49,
          57,
          50,
          55,
          51,
          46,
          55,
          57,
          51,
          60,
          53,
          46,
          49,
          49,
          53,
          55,
          50,
          54,
          54,
          50,
          54,
          54,
          47,
          57,
          54,
          56,
          58,
          43,
          60,
          46,
          46
         ],
         "xaxis": "x",
         "y": [
          1.8,
          2.883,
          1.95,
          1.833,
          1.75,
          2.167,
          1.6,
          1.8,
          1.75,
          1.967,
          2.017,
          1.867,
          1.833,
          1.883,
          1.75,
          2.1,
          2,
          1.833,
          1.733,
          2.233,
          1.75,
          1.817,
          1.967,
          2.017,
          2.167,
          2.2,
          1.867,
          1.867,
          2.1,
          1.867,
          1.783,
          2.3,
          1.7,
          2.317,
          1.817,
          2.617,
          1.967,
          1.917,
          2.267,
          1.867,
          2.8,
          1.833,
          1.883,
          2.033,
          2.233,
          1.983,
          2.017,
          1.8,
          1.8,
          2.2,
          2,
          1.933,
          1.917,
          2.083,
          2.417,
          1.883,
          2.033,
          1.833,
          2.1830000000000003,
          1.833,
          2.25,
          2.1,
          1.867,
          1.783,
          1.933,
          1.867,
          2.4,
          2,
          1.867,
          1.75,
          2.417,
          2.217,
          1.883,
          1.85,
          2.35,
          2.083,
          2.2,
          2,
          1.85,
          1.983,
          2.25,
          2.15,
          1.817
         ],
         "yaxis": "y"
        },
        {
         "hovertemplate": "<b>OLS trendline</b><br>duration = 0.00691825 * waiting + 1.64008<br>R<sup>2</sup>=0.017113<br><br>waiting=%{x}<br>duration=%{y} <b>(trend)</b><extra></extra>",
         "legendgroup": "",
         "marker": {
          "color": "#636efa",
          "symbol": "circle"
         },
         "mode": "lines",
         "name": "",
         "showlegend": false,
         "type": "scatter",
         "x": [
          43,
          45,
          45,
          45,
          46,
          46,
          46,
          46,
          46,
          47,
          47,
          47,
          47,
          48,
          48,
          48,
          49,
          49,
          49,
          49,
          49,
          50,
          50,
          50,
          50,
          50,
          51,
          51,
          51,
          51,
          51,
          51,
          52,
          52,
          52,
          52,
          52,
          53,
          53,
          53,
          53,
          53,
          53,
          53,
          54,
          54,
          54,
          54,
          54,
          54,
          54,
          54,
          54,
          55,
          55,
          55,
          55,
          55,
          55,
          56,
          56,
          56,
          56,
          57,
          57,
          57,
          58,
          58,
          58,
          58,
          59,
          59,
          59,
          59,
          59,
          59,
          59,
          60,
          60,
          60,
          60,
          60,
          60
         ],
         "xaxis": "x",
         "y": [
          1.9375657137914635,
          1.9514022113624248,
          1.9514022113624248,
          1.9514022113624248,
          1.9583204601479052,
          1.9583204601479052,
          1.9583204601479052,
          1.9583204601479052,
          1.9583204601479052,
          1.9652387089333858,
          1.9652387089333858,
          1.9652387089333858,
          1.9652387089333858,
          1.9721569577188665,
          1.9721569577188665,
          1.9721569577188665,
          1.9790752065043469,
          1.9790752065043469,
          1.9790752065043469,
          1.9790752065043469,
          1.9790752065043469,
          1.9859934552898275,
          1.9859934552898275,
          1.9859934552898275,
          1.9859934552898275,
          1.9859934552898275,
          1.9929117040753082,
          1.9929117040753082,
          1.9929117040753082,
          1.9929117040753082,
          1.9929117040753082,
          1.9929117040753082,
          1.9998299528607888,
          1.9998299528607888,
          1.9998299528607888,
          1.9998299528607888,
          1.9998299528607888,
          2.0067482016462694,
          2.0067482016462694,
          2.0067482016462694,
          2.0067482016462694,
          2.0067482016462694,
          2.0067482016462694,
          2.0067482016462694,
          2.01366645043175,
          2.01366645043175,
          2.01366645043175,
          2.01366645043175,
          2.01366645043175,
          2.01366645043175,
          2.01366645043175,
          2.01366645043175,
          2.01366645043175,
          2.0205846992172303,
          2.0205846992172303,
          2.0205846992172303,
          2.0205846992172303,
          2.0205846992172303,
          2.0205846992172303,
          2.027502948002711,
          2.027502948002711,
          2.027502948002711,
          2.027502948002711,
          2.0344211967881916,
          2.0344211967881916,
          2.0344211967881916,
          2.0413394455736724,
          2.0413394455736724,
          2.0413394455736724,
          2.0413394455736724,
          2.048257694359153,
          2.048257694359153,
          2.048257694359153,
          2.048257694359153,
          2.048257694359153,
          2.048257694359153,
          2.048257694359153,
          2.0551759431446337,
          2.0551759431446337,
          2.0551759431446337,
          2.0551759431446337,
          2.0551759431446337,
          2.0551759431446337
         ],
         "yaxis": "y"
        }
       ],
       "layout": {
        "legend": {
         "tracegroupgap": 0
        },
        "template": {
         "data": {
          "bar": [
           {
            "error_x": {
             "color": "#2a3f5f"
            },
            "error_y": {
             "color": "#2a3f5f"
            },
            "marker": {
             "line": {
              "color": "#E5ECF6",
              "width": 0.5
             },
             "pattern": {
              "fillmode": "overlay",
              "size": 10,
              "solidity": 0.2
             }
            },
            "type": "bar"
           }
          ],
          "barpolar": [
           {
            "marker": {
             "line": {
              "color": "#E5ECF6",
              "width": 0.5
             },
             "pattern": {
              "fillmode": "overlay",
              "size": 10,
              "solidity": 0.2
             }
            },
            "type": "barpolar"
           }
          ],
          "carpet": [
           {
            "aaxis": {
             "endlinecolor": "#2a3f5f",
             "gridcolor": "white",
             "linecolor": "white",
             "minorgridcolor": "white",
             "startlinecolor": "#2a3f5f"
            },
            "baxis": {
             "endlinecolor": "#2a3f5f",
             "gridcolor": "white",
             "linecolor": "white",
             "minorgridcolor": "white",
             "startlinecolor": "#2a3f5f"
            },
            "type": "carpet"
           }
          ],
          "choropleth": [
           {
            "colorbar": {
             "outlinewidth": 0,
             "ticks": ""
            },
            "type": "choropleth"
           }
          ],
          "contour": [
           {
            "colorbar": {
             "outlinewidth": 0,
             "ticks": ""
            },
            "colorscale": [
             [
              0,
              "#0d0887"
             ],
             [
              0.1111111111111111,
              "#46039f"
             ],
             [
              0.2222222222222222,
              "#7201a8"
             ],
             [
              0.3333333333333333,
              "#9c179e"
             ],
             [
              0.4444444444444444,
              "#bd3786"
             ],
             [
              0.5555555555555556,
              "#d8576b"
             ],
             [
              0.6666666666666666,
              "#ed7953"
             ],
             [
              0.7777777777777778,
              "#fb9f3a"
             ],
             [
              0.8888888888888888,
              "#fdca26"
             ],
             [
              1,
              "#f0f921"
             ]
            ],
            "type": "contour"
           }
          ],
          "contourcarpet": [
           {
            "colorbar": {
             "outlinewidth": 0,
             "ticks": ""
            },
            "type": "contourcarpet"
           }
          ],
          "heatmap": [
           {
            "colorbar": {
             "outlinewidth": 0,
             "ticks": ""
            },
            "colorscale": [
             [
              0,
              "#0d0887"
             ],
             [
              0.1111111111111111,
              "#46039f"
             ],
             [
              0.2222222222222222,
              "#7201a8"
             ],
             [
              0.3333333333333333,
              "#9c179e"
             ],
             [
              0.4444444444444444,
              "#bd3786"
             ],
             [
              0.5555555555555556,
              "#d8576b"
             ],
             [
              0.6666666666666666,
              "#ed7953"
             ],
             [
              0.7777777777777778,
              "#fb9f3a"
             ],
             [
              0.8888888888888888,
              "#fdca26"
             ],
             [
              1,
              "#f0f921"
             ]
            ],
            "type": "heatmap"
           }
          ],
          "heatmapgl": [
           {
            "colorbar": {
             "outlinewidth": 0,
             "ticks": ""
            },
            "colorscale": [
             [
              0,
              "#0d0887"
             ],
             [
              0.1111111111111111,
              "#46039f"
             ],
             [
              0.2222222222222222,
              "#7201a8"
             ],
             [
              0.3333333333333333,
              "#9c179e"
             ],
             [
              0.4444444444444444,
              "#bd3786"
             ],
             [
              0.5555555555555556,
              "#d8576b"
             ],
             [
              0.6666666666666666,
              "#ed7953"
             ],
             [
              0.7777777777777778,
              "#fb9f3a"
             ],
             [
              0.8888888888888888,
              "#fdca26"
             ],
             [
              1,
              "#f0f921"
             ]
            ],
            "type": "heatmapgl"
           }
          ],
          "histogram": [
           {
            "marker": {
             "pattern": {
              "fillmode": "overlay",
              "size": 10,
              "solidity": 0.2
             }
            },
            "type": "histogram"
           }
          ],
          "histogram2d": [
           {
            "colorbar": {
             "outlinewidth": 0,
             "ticks": ""
            },
            "colorscale": [
             [
              0,
              "#0d0887"
             ],
             [
              0.1111111111111111,
              "#46039f"
             ],
             [
              0.2222222222222222,
              "#7201a8"
             ],
             [
              0.3333333333333333,
              "#9c179e"
             ],
             [
              0.4444444444444444,
              "#bd3786"
             ],
             [
              0.5555555555555556,
              "#d8576b"
             ],
             [
              0.6666666666666666,
              "#ed7953"
             ],
             [
              0.7777777777777778,
              "#fb9f3a"
             ],
             [
              0.8888888888888888,
              "#fdca26"
             ],
             [
              1,
              "#f0f921"
             ]
            ],
            "type": "histogram2d"
           }
          ],
          "histogram2dcontour": [
           {
            "colorbar": {
             "outlinewidth": 0,
             "ticks": ""
            },
            "colorscale": [
             [
              0,
              "#0d0887"
             ],
             [
              0.1111111111111111,
              "#46039f"
             ],
             [
              0.2222222222222222,
              "#7201a8"
             ],
             [
              0.3333333333333333,
              "#9c179e"
             ],
             [
              0.4444444444444444,
              "#bd3786"
             ],
             [
              0.5555555555555556,
              "#d8576b"
             ],
             [
              0.6666666666666666,
              "#ed7953"
             ],
             [
              0.7777777777777778,
              "#fb9f3a"
             ],
             [
              0.8888888888888888,
              "#fdca26"
             ],
             [
              1,
              "#f0f921"
             ]
            ],
            "type": "histogram2dcontour"
           }
          ],
          "mesh3d": [
           {
            "colorbar": {
             "outlinewidth": 0,
             "ticks": ""
            },
            "type": "mesh3d"
           }
          ],
          "parcoords": [
           {
            "line": {
             "colorbar": {
              "outlinewidth": 0,
              "ticks": ""
             }
            },
            "type": "parcoords"
           }
          ],
          "pie": [
           {
            "automargin": true,
            "type": "pie"
           }
          ],
          "scatter": [
           {
            "fillpattern": {
             "fillmode": "overlay",
             "size": 10,
             "solidity": 0.2
            },
            "type": "scatter"
           }
          ],
          "scatter3d": [
           {
            "line": {
             "colorbar": {
              "outlinewidth": 0,
              "ticks": ""
             }
            },
            "marker": {
             "colorbar": {
              "outlinewidth": 0,
              "ticks": ""
             }
            },
            "type": "scatter3d"
           }
          ],
          "scattercarpet": [
           {
            "marker": {
             "colorbar": {
              "outlinewidth": 0,
              "ticks": ""
             }
            },
            "type": "scattercarpet"
           }
          ],
          "scattergeo": [
           {
            "marker": {
             "colorbar": {
              "outlinewidth": 0,
              "ticks": ""
             }
            },
            "type": "scattergeo"
           }
          ],
          "scattergl": [
           {
            "marker": {
             "colorbar": {
              "outlinewidth": 0,
              "ticks": ""
             }
            },
            "type": "scattergl"
           }
          ],
          "scattermapbox": [
           {
            "marker": {
             "colorbar": {
              "outlinewidth": 0,
              "ticks": ""
             }
            },
            "type": "scattermapbox"
           }
          ],
          "scatterpolar": [
           {
            "marker": {
             "colorbar": {
              "outlinewidth": 0,
              "ticks": ""
             }
            },
            "type": "scatterpolar"
           }
          ],
          "scatterpolargl": [
           {
            "marker": {
             "colorbar": {
              "outlinewidth": 0,
              "ticks": ""
             }
            },
            "type": "scatterpolargl"
           }
          ],
          "scatterternary": [
           {
            "marker": {
             "colorbar": {
              "outlinewidth": 0,
              "ticks": ""
             }
            },
            "type": "scatterternary"
           }
          ],
          "surface": [
           {
            "colorbar": {
             "outlinewidth": 0,
             "ticks": ""
            },
            "colorscale": [
             [
              0,
              "#0d0887"
             ],
             [
              0.1111111111111111,
              "#46039f"
             ],
             [
              0.2222222222222222,
              "#7201a8"
             ],
             [
              0.3333333333333333,
              "#9c179e"
             ],
             [
              0.4444444444444444,
              "#bd3786"
             ],
             [
              0.5555555555555556,
              "#d8576b"
             ],
             [
              0.6666666666666666,
              "#ed7953"
             ],
             [
              0.7777777777777778,
              "#fb9f3a"
             ],
             [
              0.8888888888888888,
              "#fdca26"
             ],
             [
              1,
              "#f0f921"
             ]
            ],
            "type": "surface"
           }
          ],
          "table": [
           {
            "cells": {
             "fill": {
              "color": "#EBF0F8"
             },
             "line": {
              "color": "white"
             }
            },
            "header": {
             "fill": {
              "color": "#C8D4E3"
             },
             "line": {
              "color": "white"
             }
            },
            "type": "table"
           }
          ]
         },
         "layout": {
          "annotationdefaults": {
           "arrowcolor": "#2a3f5f",
           "arrowhead": 0,
           "arrowwidth": 1
          },
          "autotypenumbers": "strict",
          "coloraxis": {
           "colorbar": {
            "outlinewidth": 0,
            "ticks": ""
           }
          },
          "colorscale": {
           "diverging": [
            [
             0,
             "#8e0152"
            ],
            [
             0.1,
             "#c51b7d"
            ],
            [
             0.2,
             "#de77ae"
            ],
            [
             0.3,
             "#f1b6da"
            ],
            [
             0.4,
             "#fde0ef"
            ],
            [
             0.5,
             "#f7f7f7"
            ],
            [
             0.6,
             "#e6f5d0"
            ],
            [
             0.7,
             "#b8e186"
            ],
            [
             0.8,
             "#7fbc41"
            ],
            [
             0.9,
             "#4d9221"
            ],
            [
             1,
             "#276419"
            ]
           ],
           "sequential": [
            [
             0,
             "#0d0887"
            ],
            [
             0.1111111111111111,
             "#46039f"
            ],
            [
             0.2222222222222222,
             "#7201a8"
            ],
            [
             0.3333333333333333,
             "#9c179e"
            ],
            [
             0.4444444444444444,
             "#bd3786"
            ],
            [
             0.5555555555555556,
             "#d8576b"
            ],
            [
             0.6666666666666666,
             "#ed7953"
            ],
            [
             0.7777777777777778,
             "#fb9f3a"
            ],
            [
             0.8888888888888888,
             "#fdca26"
            ],
            [
             1,
             "#f0f921"
            ]
           ],
           "sequentialminus": [
            [
             0,
             "#0d0887"
            ],
            [
             0.1111111111111111,
             "#46039f"
            ],
            [
             0.2222222222222222,
             "#7201a8"
            ],
            [
             0.3333333333333333,
             "#9c179e"
            ],
            [
             0.4444444444444444,
             "#bd3786"
            ],
            [
             0.5555555555555556,
             "#d8576b"
            ],
            [
             0.6666666666666666,
             "#ed7953"
            ],
            [
             0.7777777777777778,
             "#fb9f3a"
            ],
            [
             0.8888888888888888,
             "#fdca26"
            ],
            [
             1,
             "#f0f921"
            ]
           ]
          },
          "colorway": [
           "#636efa",
           "#EF553B",
           "#00cc96",
           "#ab63fa",
           "#FFA15A",
           "#19d3f3",
           "#FF6692",
           "#B6E880",
           "#FF97FF",
           "#FECB52"
          ],
          "font": {
           "color": "#2a3f5f"
          },
          "geo": {
           "bgcolor": "white",
           "lakecolor": "white",
           "landcolor": "#E5ECF6",
           "showlakes": true,
           "showland": true,
           "subunitcolor": "white"
          },
          "hoverlabel": {
           "align": "left"
          },
          "hovermode": "closest",
          "mapbox": {
           "style": "light"
          },
          "paper_bgcolor": "white",
          "plot_bgcolor": "#E5ECF6",
          "polar": {
           "angularaxis": {
            "gridcolor": "white",
            "linecolor": "white",
            "ticks": ""
           },
           "bgcolor": "#E5ECF6",
           "radialaxis": {
            "gridcolor": "white",
            "linecolor": "white",
            "ticks": ""
           }
          },
          "scene": {
           "xaxis": {
            "backgroundcolor": "#E5ECF6",
            "gridcolor": "white",
            "gridwidth": 2,
            "linecolor": "white",
            "showbackground": true,
            "ticks": "",
            "zerolinecolor": "white"
           },
           "yaxis": {
            "backgroundcolor": "#E5ECF6",
            "gridcolor": "white",
            "gridwidth": 2,
            "linecolor": "white",
            "showbackground": true,
            "ticks": "",
            "zerolinecolor": "white"
           },
           "zaxis": {
            "backgroundcolor": "#E5ECF6",
            "gridcolor": "white",
            "gridwidth": 2,
            "linecolor": "white",
            "showbackground": true,
            "ticks": "",
            "zerolinecolor": "white"
           }
          },
          "shapedefaults": {
           "line": {
            "color": "#2a3f5f"
           }
          },
          "ternary": {
           "aaxis": {
            "gridcolor": "white",
            "linecolor": "white",
            "ticks": ""
           },
           "baxis": {
            "gridcolor": "white",
            "linecolor": "white",
            "ticks": ""
           },
           "bgcolor": "#E5ECF6",
           "caxis": {
            "gridcolor": "white",
            "linecolor": "white",
            "ticks": ""
           }
          },
          "title": {
           "x": 0.05
          },
          "xaxis": {
           "automargin": true,
           "gridcolor": "white",
           "linecolor": "white",
           "ticks": "",
           "title": {
            "standoff": 15
           },
           "zerolinecolor": "white",
           "zerolinewidth": 2
          },
          "yaxis": {
           "automargin": true,
           "gridcolor": "white",
           "linecolor": "white",
           "ticks": "",
           "title": {
            "standoff": 15
           },
           "zerolinecolor": "white",
           "zerolinewidth": 2
          }
         }
        },
        "title": {
         "text": "Old Faithful Geyser Eruptions for short wait times (<62)"
        },
        "xaxis": {
         "anchor": "y",
         "domain": [
          0,
          1
         ],
         "title": {
          "text": "waiting"
         }
        },
        "yaxis": {
         "anchor": "x",
         "domain": [
          0,
          1
         ],
         "title": {
          "text": "duration"
         }
        }
       }
      },
      "text/html": [
       "<div>                            <div id=\"0ac90ec8-3bb0-44c4-a697-96ec91f4d43d\" class=\"plotly-graph-div\" style=\"height:525px; width:100%;\"></div>            <script type=\"text/javascript\">                require([\"plotly\"], function(Plotly) {                    window.PLOTLYENV=window.PLOTLYENV || {};                                    if (document.getElementById(\"0ac90ec8-3bb0-44c4-a697-96ec91f4d43d\")) {                    Plotly.newPlot(                        \"0ac90ec8-3bb0-44c4-a697-96ec91f4d43d\",                        [{\"hovertemplate\":\"waiting=%{x}\\u003cbr\\u003eduration=%{y}\\u003cextra\\u003e\\u003c\\u002fextra\\u003e\",\"legendgroup\":\"\",\"marker\":{\"color\":\"#636efa\",\"symbol\":\"circle\"},\"mode\":\"markers\",\"name\":\"\",\"orientation\":\"v\",\"showlegend\":false,\"x\":[54,55,51,54,47,52,52,51,47,55,52,48,59,58,58,53,59,54,54,59,48,60,56,60,48,60,50,51,49,47,52,59,59,50,59,53,56,45,55,45,56,46,51,53,60,59,49,53,53,45,58,52,49,57,50,55,51,46,55,57,51,60,53,46,49,49,53,55,50,54,54,50,54,54,47,57,54,56,58,43,60,46,46],\"xaxis\":\"x\",\"y\":[1.8,2.883,1.95,1.833,1.75,2.167,1.6,1.8,1.75,1.967,2.017,1.867,1.833,1.883,1.75,2.1,2.0,1.833,1.733,2.233,1.75,1.817,1.967,2.017,2.167,2.2,1.867,1.867,2.1,1.867,1.783,2.3,1.7,2.317,1.817,2.617,1.967,1.917,2.267,1.867,2.8,1.833,1.883,2.033,2.233,1.983,2.017,1.8,1.8,2.2,2.0,1.933,1.917,2.083,2.417,1.883,2.033,1.833,2.1830000000000003,1.833,2.25,2.1,1.867,1.783,1.933,1.867,2.4,2.0,1.867,1.75,2.417,2.217,1.883,1.85,2.35,2.083,2.2,2.0,1.85,1.983,2.25,2.15,1.817],\"yaxis\":\"y\",\"type\":\"scatter\"},{\"hovertemplate\":\"\\u003cb\\u003eOLS trendline\\u003c\\u002fb\\u003e\\u003cbr\\u003eduration = 0.00691825 * waiting + 1.64008\\u003cbr\\u003eR\\u003csup\\u003e2\\u003c\\u002fsup\\u003e=0.017113\\u003cbr\\u003e\\u003cbr\\u003ewaiting=%{x}\\u003cbr\\u003eduration=%{y} \\u003cb\\u003e(trend)\\u003c\\u002fb\\u003e\\u003cextra\\u003e\\u003c\\u002fextra\\u003e\",\"legendgroup\":\"\",\"marker\":{\"color\":\"#636efa\",\"symbol\":\"circle\"},\"mode\":\"lines\",\"name\":\"\",\"showlegend\":false,\"x\":[43,45,45,45,46,46,46,46,46,47,47,47,47,48,48,48,49,49,49,49,49,50,50,50,50,50,51,51,51,51,51,51,52,52,52,52,52,53,53,53,53,53,53,53,54,54,54,54,54,54,54,54,54,55,55,55,55,55,55,56,56,56,56,57,57,57,58,58,58,58,59,59,59,59,59,59,59,60,60,60,60,60,60],\"xaxis\":\"x\",\"y\":[1.9375657137914635,1.9514022113624248,1.9514022113624248,1.9514022113624248,1.9583204601479052,1.9583204601479052,1.9583204601479052,1.9583204601479052,1.9583204601479052,1.9652387089333858,1.9652387089333858,1.9652387089333858,1.9652387089333858,1.9721569577188665,1.9721569577188665,1.9721569577188665,1.9790752065043469,1.9790752065043469,1.9790752065043469,1.9790752065043469,1.9790752065043469,1.9859934552898275,1.9859934552898275,1.9859934552898275,1.9859934552898275,1.9859934552898275,1.9929117040753082,1.9929117040753082,1.9929117040753082,1.9929117040753082,1.9929117040753082,1.9929117040753082,1.9998299528607888,1.9998299528607888,1.9998299528607888,1.9998299528607888,1.9998299528607888,2.0067482016462694,2.0067482016462694,2.0067482016462694,2.0067482016462694,2.0067482016462694,2.0067482016462694,2.0067482016462694,2.01366645043175,2.01366645043175,2.01366645043175,2.01366645043175,2.01366645043175,2.01366645043175,2.01366645043175,2.01366645043175,2.01366645043175,2.0205846992172303,2.0205846992172303,2.0205846992172303,2.0205846992172303,2.0205846992172303,2.0205846992172303,2.027502948002711,2.027502948002711,2.027502948002711,2.027502948002711,2.0344211967881916,2.0344211967881916,2.0344211967881916,2.0413394455736724,2.0413394455736724,2.0413394455736724,2.0413394455736724,2.048257694359153,2.048257694359153,2.048257694359153,2.048257694359153,2.048257694359153,2.048257694359153,2.048257694359153,2.0551759431446337,2.0551759431446337,2.0551759431446337,2.0551759431446337,2.0551759431446337,2.0551759431446337],\"yaxis\":\"y\",\"type\":\"scatter\"}],                        {\"template\":{\"data\":{\"histogram2dcontour\":[{\"type\":\"histogram2dcontour\",\"colorbar\":{\"outlinewidth\":0,\"ticks\":\"\"},\"colorscale\":[[0.0,\"#0d0887\"],[0.1111111111111111,\"#46039f\"],[0.2222222222222222,\"#7201a8\"],[0.3333333333333333,\"#9c179e\"],[0.4444444444444444,\"#bd3786\"],[0.5555555555555556,\"#d8576b\"],[0.6666666666666666,\"#ed7953\"],[0.7777777777777778,\"#fb9f3a\"],[0.8888888888888888,\"#fdca26\"],[1.0,\"#f0f921\"]]}],\"choropleth\":[{\"type\":\"choropleth\",\"colorbar\":{\"outlinewidth\":0,\"ticks\":\"\"}}],\"histogram2d\":[{\"type\":\"histogram2d\",\"colorbar\":{\"outlinewidth\":0,\"ticks\":\"\"},\"colorscale\":[[0.0,\"#0d0887\"],[0.1111111111111111,\"#46039f\"],[0.2222222222222222,\"#7201a8\"],[0.3333333333333333,\"#9c179e\"],[0.4444444444444444,\"#bd3786\"],[0.5555555555555556,\"#d8576b\"],[0.6666666666666666,\"#ed7953\"],[0.7777777777777778,\"#fb9f3a\"],[0.8888888888888888,\"#fdca26\"],[1.0,\"#f0f921\"]]}],\"heatmap\":[{\"type\":\"heatmap\",\"colorbar\":{\"outlinewidth\":0,\"ticks\":\"\"},\"colorscale\":[[0.0,\"#0d0887\"],[0.1111111111111111,\"#46039f\"],[0.2222222222222222,\"#7201a8\"],[0.3333333333333333,\"#9c179e\"],[0.4444444444444444,\"#bd3786\"],[0.5555555555555556,\"#d8576b\"],[0.6666666666666666,\"#ed7953\"],[0.7777777777777778,\"#fb9f3a\"],[0.8888888888888888,\"#fdca26\"],[1.0,\"#f0f921\"]]}],\"heatmapgl\":[{\"type\":\"heatmapgl\",\"colorbar\":{\"outlinewidth\":0,\"ticks\":\"\"},\"colorscale\":[[0.0,\"#0d0887\"],[0.1111111111111111,\"#46039f\"],[0.2222222222222222,\"#7201a8\"],[0.3333333333333333,\"#9c179e\"],[0.4444444444444444,\"#bd3786\"],[0.5555555555555556,\"#d8576b\"],[0.6666666666666666,\"#ed7953\"],[0.7777777777777778,\"#fb9f3a\"],[0.8888888888888888,\"#fdca26\"],[1.0,\"#f0f921\"]]}],\"contourcarpet\":[{\"type\":\"contourcarpet\",\"colorbar\":{\"outlinewidth\":0,\"ticks\":\"\"}}],\"contour\":[{\"type\":\"contour\",\"colorbar\":{\"outlinewidth\":0,\"ticks\":\"\"},\"colorscale\":[[0.0,\"#0d0887\"],[0.1111111111111111,\"#46039f\"],[0.2222222222222222,\"#7201a8\"],[0.3333333333333333,\"#9c179e\"],[0.4444444444444444,\"#bd3786\"],[0.5555555555555556,\"#d8576b\"],[0.6666666666666666,\"#ed7953\"],[0.7777777777777778,\"#fb9f3a\"],[0.8888888888888888,\"#fdca26\"],[1.0,\"#f0f921\"]]}],\"surface\":[{\"type\":\"surface\",\"colorbar\":{\"outlinewidth\":0,\"ticks\":\"\"},\"colorscale\":[[0.0,\"#0d0887\"],[0.1111111111111111,\"#46039f\"],[0.2222222222222222,\"#7201a8\"],[0.3333333333333333,\"#9c179e\"],[0.4444444444444444,\"#bd3786\"],[0.5555555555555556,\"#d8576b\"],[0.6666666666666666,\"#ed7953\"],[0.7777777777777778,\"#fb9f3a\"],[0.8888888888888888,\"#fdca26\"],[1.0,\"#f0f921\"]]}],\"mesh3d\":[{\"type\":\"mesh3d\",\"colorbar\":{\"outlinewidth\":0,\"ticks\":\"\"}}],\"scatter\":[{\"fillpattern\":{\"fillmode\":\"overlay\",\"size\":10,\"solidity\":0.2},\"type\":\"scatter\"}],\"parcoords\":[{\"type\":\"parcoords\",\"line\":{\"colorbar\":{\"outlinewidth\":0,\"ticks\":\"\"}}}],\"scatterpolargl\":[{\"type\":\"scatterpolargl\",\"marker\":{\"colorbar\":{\"outlinewidth\":0,\"ticks\":\"\"}}}],\"bar\":[{\"error_x\":{\"color\":\"#2a3f5f\"},\"error_y\":{\"color\":\"#2a3f5f\"},\"marker\":{\"line\":{\"color\":\"#E5ECF6\",\"width\":0.5},\"pattern\":{\"fillmode\":\"overlay\",\"size\":10,\"solidity\":0.2}},\"type\":\"bar\"}],\"scattergeo\":[{\"type\":\"scattergeo\",\"marker\":{\"colorbar\":{\"outlinewidth\":0,\"ticks\":\"\"}}}],\"scatterpolar\":[{\"type\":\"scatterpolar\",\"marker\":{\"colorbar\":{\"outlinewidth\":0,\"ticks\":\"\"}}}],\"histogram\":[{\"marker\":{\"pattern\":{\"fillmode\":\"overlay\",\"size\":10,\"solidity\":0.2}},\"type\":\"histogram\"}],\"scattergl\":[{\"type\":\"scattergl\",\"marker\":{\"colorbar\":{\"outlinewidth\":0,\"ticks\":\"\"}}}],\"scatter3d\":[{\"type\":\"scatter3d\",\"line\":{\"colorbar\":{\"outlinewidth\":0,\"ticks\":\"\"}},\"marker\":{\"colorbar\":{\"outlinewidth\":0,\"ticks\":\"\"}}}],\"scattermapbox\":[{\"type\":\"scattermapbox\",\"marker\":{\"colorbar\":{\"outlinewidth\":0,\"ticks\":\"\"}}}],\"scatterternary\":[{\"type\":\"scatterternary\",\"marker\":{\"colorbar\":{\"outlinewidth\":0,\"ticks\":\"\"}}}],\"scattercarpet\":[{\"type\":\"scattercarpet\",\"marker\":{\"colorbar\":{\"outlinewidth\":0,\"ticks\":\"\"}}}],\"carpet\":[{\"aaxis\":{\"endlinecolor\":\"#2a3f5f\",\"gridcolor\":\"white\",\"linecolor\":\"white\",\"minorgridcolor\":\"white\",\"startlinecolor\":\"#2a3f5f\"},\"baxis\":{\"endlinecolor\":\"#2a3f5f\",\"gridcolor\":\"white\",\"linecolor\":\"white\",\"minorgridcolor\":\"white\",\"startlinecolor\":\"#2a3f5f\"},\"type\":\"carpet\"}],\"table\":[{\"cells\":{\"fill\":{\"color\":\"#EBF0F8\"},\"line\":{\"color\":\"white\"}},\"header\":{\"fill\":{\"color\":\"#C8D4E3\"},\"line\":{\"color\":\"white\"}},\"type\":\"table\"}],\"barpolar\":[{\"marker\":{\"line\":{\"color\":\"#E5ECF6\",\"width\":0.5},\"pattern\":{\"fillmode\":\"overlay\",\"size\":10,\"solidity\":0.2}},\"type\":\"barpolar\"}],\"pie\":[{\"automargin\":true,\"type\":\"pie\"}]},\"layout\":{\"autotypenumbers\":\"strict\",\"colorway\":[\"#636efa\",\"#EF553B\",\"#00cc96\",\"#ab63fa\",\"#FFA15A\",\"#19d3f3\",\"#FF6692\",\"#B6E880\",\"#FF97FF\",\"#FECB52\"],\"font\":{\"color\":\"#2a3f5f\"},\"hovermode\":\"closest\",\"hoverlabel\":{\"align\":\"left\"},\"paper_bgcolor\":\"white\",\"plot_bgcolor\":\"#E5ECF6\",\"polar\":{\"bgcolor\":\"#E5ECF6\",\"angularaxis\":{\"gridcolor\":\"white\",\"linecolor\":\"white\",\"ticks\":\"\"},\"radialaxis\":{\"gridcolor\":\"white\",\"linecolor\":\"white\",\"ticks\":\"\"}},\"ternary\":{\"bgcolor\":\"#E5ECF6\",\"aaxis\":{\"gridcolor\":\"white\",\"linecolor\":\"white\",\"ticks\":\"\"},\"baxis\":{\"gridcolor\":\"white\",\"linecolor\":\"white\",\"ticks\":\"\"},\"caxis\":{\"gridcolor\":\"white\",\"linecolor\":\"white\",\"ticks\":\"\"}},\"coloraxis\":{\"colorbar\":{\"outlinewidth\":0,\"ticks\":\"\"}},\"colorscale\":{\"sequential\":[[0.0,\"#0d0887\"],[0.1111111111111111,\"#46039f\"],[0.2222222222222222,\"#7201a8\"],[0.3333333333333333,\"#9c179e\"],[0.4444444444444444,\"#bd3786\"],[0.5555555555555556,\"#d8576b\"],[0.6666666666666666,\"#ed7953\"],[0.7777777777777778,\"#fb9f3a\"],[0.8888888888888888,\"#fdca26\"],[1.0,\"#f0f921\"]],\"sequentialminus\":[[0.0,\"#0d0887\"],[0.1111111111111111,\"#46039f\"],[0.2222222222222222,\"#7201a8\"],[0.3333333333333333,\"#9c179e\"],[0.4444444444444444,\"#bd3786\"],[0.5555555555555556,\"#d8576b\"],[0.6666666666666666,\"#ed7953\"],[0.7777777777777778,\"#fb9f3a\"],[0.8888888888888888,\"#fdca26\"],[1.0,\"#f0f921\"]],\"diverging\":[[0,\"#8e0152\"],[0.1,\"#c51b7d\"],[0.2,\"#de77ae\"],[0.3,\"#f1b6da\"],[0.4,\"#fde0ef\"],[0.5,\"#f7f7f7\"],[0.6,\"#e6f5d0\"],[0.7,\"#b8e186\"],[0.8,\"#7fbc41\"],[0.9,\"#4d9221\"],[1,\"#276419\"]]},\"xaxis\":{\"gridcolor\":\"white\",\"linecolor\":\"white\",\"ticks\":\"\",\"title\":{\"standoff\":15},\"zerolinecolor\":\"white\",\"automargin\":true,\"zerolinewidth\":2},\"yaxis\":{\"gridcolor\":\"white\",\"linecolor\":\"white\",\"ticks\":\"\",\"title\":{\"standoff\":15},\"zerolinecolor\":\"white\",\"automargin\":true,\"zerolinewidth\":2},\"scene\":{\"xaxis\":{\"backgroundcolor\":\"#E5ECF6\",\"gridcolor\":\"white\",\"linecolor\":\"white\",\"showbackground\":true,\"ticks\":\"\",\"zerolinecolor\":\"white\",\"gridwidth\":2},\"yaxis\":{\"backgroundcolor\":\"#E5ECF6\",\"gridcolor\":\"white\",\"linecolor\":\"white\",\"showbackground\":true,\"ticks\":\"\",\"zerolinecolor\":\"white\",\"gridwidth\":2},\"zaxis\":{\"backgroundcolor\":\"#E5ECF6\",\"gridcolor\":\"white\",\"linecolor\":\"white\",\"showbackground\":true,\"ticks\":\"\",\"zerolinecolor\":\"white\",\"gridwidth\":2}},\"shapedefaults\":{\"line\":{\"color\":\"#2a3f5f\"}},\"annotationdefaults\":{\"arrowcolor\":\"#2a3f5f\",\"arrowhead\":0,\"arrowwidth\":1},\"geo\":{\"bgcolor\":\"white\",\"landcolor\":\"#E5ECF6\",\"subunitcolor\":\"white\",\"showland\":true,\"showlakes\":true,\"lakecolor\":\"white\"},\"title\":{\"x\":0.05},\"mapbox\":{\"style\":\"light\"}}},\"xaxis\":{\"anchor\":\"y\",\"domain\":[0.0,1.0],\"title\":{\"text\":\"waiting\"}},\"yaxis\":{\"anchor\":\"x\",\"domain\":[0.0,1.0],\"title\":{\"text\":\"duration\"}},\"legend\":{\"tracegroupgap\":0},\"title\":{\"text\":\"Old Faithful Geyser Eruptions for short wait times (\\u003c62)\"}},                        {\"responsive\": true}                    ).then(function(){\n",
       "                            \n",
       "var gd = document.getElementById('0ac90ec8-3bb0-44c4-a697-96ec91f4d43d');\n",
       "var x = new MutationObserver(function (mutations, observer) {{\n",
       "        var display = window.getComputedStyle(gd).display;\n",
       "        if (!display || display === 'none') {{\n",
       "            console.log([gd, 'removed!']);\n",
       "            Plotly.purge(gd);\n",
       "            observer.disconnect();\n",
       "        }}\n",
       "}});\n",
       "\n",
       "// Listen for the removal of the full notebook cells\n",
       "var notebookContainer = gd.closest('#notebook-container');\n",
       "if (notebookContainer) {{\n",
       "    x.observe(notebookContainer, {childList: true});\n",
       "}}\n",
       "\n",
       "// Listen for the clearing of the current output cell\n",
       "var outputEl = gd.closest('.output');\n",
       "if (outputEl) {{\n",
       "    x.observe(outputEl, {childList: true});\n",
       "}}\n",
       "\n",
       "                        })                };                });            </script>        </div>"
      ]
     },
     "metadata": {},
     "output_type": "display_data"
    }
   ],
   "source": [
    "import plotly.express as px\n",
    "import statsmodels.formula.api as smf\n",
    "\n",
    "\n",
    "short_wait_limit = 62 # 64 # 66 #\n",
    "short_wait = old_faithful.waiting < short_wait_limit\n",
    "\n",
    "print(smf.ols('duration ~ waiting', data=old_faithful[short_wait]).fit().summary().tables[1])\n",
    "\n",
    "# Create a scatter plot with a linear regression trendline\n",
    "fig = px.scatter(old_faithful[short_wait], x='waiting', y='duration', \n",
    "                 title=\"Old Faithful Geyser Eruptions for short wait times (<\"+str(short_wait_limit)+\")\", \n",
    "                 trendline='ols')\n",
    "\n",
    "fig.show() # USE `fig.show(renderer=\"png\")` FOR ALL GitHub and MarkUs SUBMISSIONS"
   ]
  },
  {
   "cell_type": "markdown",
   "id": "4cafeb7f",
   "metadata": {},
   "source": [
    "1. **Null Hypothesis (H0)**: There is no linear relationship between waiting time and eruption duration for short wait times (waiting times less than short_wait_limit).\n",
    "\n",
    "2. **Alternative Hypothesis (H1)**: There is a linear relationship between waiting time and eruption duration for short wait times (waiting times less than short_wait_limit).\n",
    "\n",
    "3. **Regression Analysis**:\n",
    "\n",
    "    - We use Ordinary Least Squares (OLS) regression to analyze the relationship.\n",
    "    - For each short_wait_limit (62, 64, 66), fit an OLS model and inspect the p-value associated with the slope (coefficient of waiting).\n",
    "    - A significant p-value (typically < 0.05) would indicate evidence against the null hypothesis, suggesting a relationship between wait time and duration in this subset of the data.\n",
    "    \n",
    "4. **Scatter Plot with Trendline**:\n",
    "    - Plot the data restricted to each short_wait_limit.\n",
    "    - Visualize the trendline to see if a linear pattern is observable, helping interpret the regression results intuitively.\n",
    "    \n",
    "5. **Interpretation**:\n",
    "\n",
    "    - Look at the coefficient for waiting in each regression output. If the p-value is low, we have evidence against the null hypothesis, suggesting a relationship.\n",
    "    - Compare the results for different short_wait_limit values to see if the relationship weakens, strengthens, or remains the same as the wait time limit increases."
   ]
  },
  {
   "cell_type": "code",
   "execution_count": 9,
   "id": "4077d2d5",
   "metadata": {},
   "outputs": [
    {
     "name": "stdout",
     "output_type": "stream",
     "text": [
      "Regression results for short wait limit < 62 mins:\n",
      " ==============================================================================\n",
      "                 coef    std err          t      P>|t|      [0.025      0.975]\n",
      "------------------------------------------------------------------------------\n",
      "Intercept      1.6401      0.309      5.306      0.000       1.025       2.255\n",
      "waiting        0.0069      0.006      1.188      0.238      -0.005       0.019\n",
      "==============================================================================\n"
     ]
    },
    {
     "data": {
      "image/png": "[encoded data removed]"
     },
     "metadata": {},
     "output_type": "display_data"
    },
    {
     "name": "stdout",
     "output_type": "stream",
     "text": [
      "Regression results for short wait limit < 64 mins:\n",
      " ==============================================================================\n",
      "                 coef    std err          t      P>|t|      [0.025      0.975]\n",
      "------------------------------------------------------------------------------\n",
      "Intercept      1.4140      0.288      4.915      0.000       0.842       1.986\n",
      "waiting        0.0114      0.005      2.127      0.036       0.001       0.022\n",
      "==============================================================================\n"
     ]
    },
    {
     "data": {
      "image/png": "[encoded data removed]"
     },
     "metadata": {},
     "output_type": "display_data"
    },
    {
     "name": "stdout",
     "output_type": "stream",
     "text": [
      "Regression results for short wait limit < 66 mins:\n",
      " ==============================================================================\n",
      "                 coef    std err          t      P>|t|      [0.025      0.975]\n",
      "------------------------------------------------------------------------------\n",
      "Intercept      0.8619      0.327      2.637      0.010       0.213       1.511\n",
      "waiting        0.0221      0.006      3.704      0.000       0.010       0.034\n",
      "==============================================================================\n"
     ]
    },
    {
     "data": {
      "image/png": "[encoded data removed]"
     },
     "metadata": {},
     "output_type": "display_data"
    }
   ],
   "source": [
    "import plotly.express as px\n",
    "import seaborn as sns\n",
    "import statsmodels.formula.api as smf\n",
    "import pandas as pd\n",
    "import numpy as np\n",
    "\n",
    "# Load or create the dataset\n",
    "old_faithful = sns.load_dataset('geyser')  # if this fails, use the synthetic data code below\n",
    "\n",
    "# Alternatively, create a synthetic Old Faithful dataset if loading fails\n",
    "# np.random.seed(42)\n",
    "# waiting_times = np.random.normal(loc=70, scale=10, size=272)\n",
    "# durations = 0.02 * waiting_times + np.random.normal(loc=3, scale=0.5, size=272)\n",
    "# old_faithful = pd.DataFrame({'waiting': waiting_times, 'duration': durations})\n",
    "\n",
    "# Define the short wait time limits\n",
    "short_wait_limits = [62, 64, 66]\n",
    "\n",
    "# Loop through each short wait limit\n",
    "for limit in short_wait_limits:\n",
    "    short_wait = old_faithful['waiting'] < limit\n",
    "    model = smf.ols('duration ~ waiting', data=old_faithful[short_wait]).fit()\n",
    "    print(f\"Regression results for short wait limit < {limit} mins:\\n\", model.summary().tables[1])\n",
    "\n",
    "    # Create and display the scatter plot\n",
    "    fig = px.scatter(old_faithful[short_wait], x='waiting', y='duration',\n",
    "                     title=f\"Old Faithful Geyser Eruptions for Short Wait Times (<{limit} mins)\",\n",
    "                     trendline='ols')\n",
    "    fig.show(renderer=\"png\")\n"
   ]
  },
  {
   "cell_type": "markdown",
   "id": "009bfa79",
   "metadata": {},
   "source": [
    "### 10. Let's now consider just the (*n=160*) long wait times (as specified in the code below), and write code to do the following:\n",
    "\n",
    "1. create fitted **Simple Linear Regression** models for **boostrap samples** and collect and visualize the **bootstrapped sampling distribution** of the **fitted slope coefficients** of the fitted models;  \n",
    "\n",
    "\n",
    "2. **simulate** samples (of size `n=160`) from a **Simple Linear Regression** model that uses $\\beta_0 = 1.65$, $\\beta_1 = 0$, $\\sigma = 0.37$ along with the values of `waiting` for $x$ to create **simuations** of $Y$ and use these collect and visualize the **sampling distribution** of the **fitted slope coefficient** under a **null hypothesis** assumption of \"no linear association (on average)\"; then,  \n",
    "\n",
    "\n",
    "3. report if $0$ is contained within a 95\\% **bootstrapped confidence interval**; and if the **simulated p-value** matches `smf.ols('duration ~ waiting', data=old_faithful[long_wait]).fit().summary().tables[1]`?<br><br>\n",
    "\n",
    "<details class=\"details-example\"><summary style=\"color:blue\"><u>Further Guidance</u></summary>\n",
    "\n",
    "> _You'll need to create `for` loops to repeatedly create fitted **Simple Linear Regression** models using different samples, collecting the **fitted slope coeffient** created in each `for` loop \"step\" in order to visualize the **simulated sampling distributions**_\n",
    "> \n",
    "> - _A **bootstrapped sample** of the \"long wait times\" dataset can be created with `old_faithful[long_wait].sample(n=long_wait.sum(), replace=True)`_\n",
    ">\n",
    ">\n",
    "> - _A **simulated** version of the \"long wait times under a null hypothesis assumption of **no linear association (on average)**\" dataset can be created by first creating `old_faithful_simulation = old_faithful[long_wait].copy()` and then assigning the **simulated** it values with `old_faithful_simulation['duration'] = 1.65 + 0*old_faithful_simulation.waiting + stats.norm(loc=0, scale=0.37).rvs(size=long_wait.sum())`_ \n",
    ">\n",
    ">  _The values $\\beta_0 = 1.65$ and $\\sigma = 0.37$ are chosen to match what is actually observed in the data, while $\\beta_1 = 0$ is chosen to reflect a **null hypothesis** assumption of \"no linear assocaition (on average)\"; and, make sure that you understand why it is that_\n",
    ">\n",
    ">\n",
    "> - _if `bootstrapped_slope_coefficients` is the `np.array` of your **bootstrapped slope coefficients** then `np.quantile(bootstrapped_slope_coefficients, [0.025, 0.975])` is a 95\\% **bootstrapped confidence interval**_\n",
    "> \n",
    ">\n",
    "> - _if `simulated_slope_coefficients` is the `np.array` of your **fitted slope coefficients** **simulated** under a **null hypothesis** \"no linear association (on average)\" then `(np.abs(simulated_slope_coefficients) >= smf.ols('duration ~ waiting', data=old_faithful[long_wait]).fit().params[1]).mean()` is the **p-value** for the **simulated** **simulated sampling distribution of the slope coeficients** under a **null hypothesis** \"no linear association (on average)\"_\n",
    "\n",
    "</details>\n",
    "<br>"
   ]
  },
  {
   "cell_type": "code",
   "execution_count": null,
   "id": "7c246ca4",
   "metadata": {},
   "outputs": [],
   "source": [
    "import plotly.express as px\n",
    "\n",
    "long_wait_limit = 71\n",
    "long_wait = old_faithful.waiting > long_wait_limit\n",
    "\n",
    "print(smf.ols('duration ~ waiting', data=old_faithful[long_wait]).fit().summary().tables[1])\n",
    "\n",
    "# Create a scatter plot with a linear regression trendline\n",
    "fig = px.scatter(old_faithful[long_wait], x='waiting', y='duration', \n",
    "                 title=\"Old Faithful Geyser Eruptions for short wait times (>\"+str(long_wait_limit)+\")\", \n",
    "                 trendline='ols')\n",
    "fig.show() # USE `fig.show(renderer=\"png\")` FOR ALL GitHub and MarkUs SUBMISSIONS"
   ]
  },
  {
   "cell_type": "code",
   "execution_count": 10,
   "id": "66ba4ff3",
   "metadata": {},
   "outputs": [
    {
     "name": "stdout",
     "output_type": "stream",
     "text": [
      "==============================================================================\n",
      "                 coef    std err          t      P>|t|      [0.025      0.975]\n",
      "------------------------------------------------------------------------------\n",
      "Intercept      3.3520      0.476      7.049      0.000       2.413       4.291\n",
      "waiting        0.0122      0.006      2.091      0.038       0.001       0.024\n",
      "==============================================================================\n"
     ]
    },
    {
     "data": {
      "application/vnd.plotly.v1+json": {
       "config": {
        "plotlyServerURL": "https://plot.ly"
       },
       "data": [
        {
         "hovertemplate": "waiting=%{x}<br>duration=%{y}<extra></extra>",
         "legendgroup": "",
         "marker": {
          "color": "#636efa",
          "symbol": "circle"
         },
         "mode": "markers",
         "name": "",
         "orientation": "v",
         "showlegend": false,
         "type": "scatter",
         "x": [
          79,
          74,
          85,
          88,
          85,
          85,
          84,
          78,
          83,
          84,
          79,
          78,
          74,
          83,
          76,
          78,
          79,
          73,
          77,
          80,
          74,
          80,
          90,
          80,
          84,
          73,
          83,
          82,
          75,
          90,
          80,
          83,
          77,
          81,
          84,
          82,
          92,
          78,
          78,
          73,
          82,
          79,
          76,
          78,
          76,
          83,
          75,
          82,
          73,
          88,
          76,
          80,
          86,
          90,
          78,
          72,
          84,
          75,
          82,
          88,
          83,
          81,
          84,
          86,
          81,
          75,
          89,
          79,
          81,
          85,
          87,
          77,
          88,
          81,
          82,
          90,
          83,
          89,
          82,
          86,
          79,
          81,
          82,
          77,
          76,
          80,
          96,
          77,
          77,
          81,
          81,
          93,
          89,
          86,
          78,
          76,
          88,
          93,
          77,
          81,
          81,
          73,
          85,
          74,
          77,
          83,
          83,
          78,
          84,
          83,
          81,
          76,
          84,
          77,
          81,
          87,
          77,
          78,
          82,
          91,
          78,
          77,
          84,
          83,
          80,
          75,
          76,
          94,
          76,
          82,
          75,
          78,
          79,
          78,
          78,
          79,
          86,
          90,
          77,
          79,
          75,
          86,
          85,
          82,
          82,
          74,
          83,
          73,
          73,
          88,
          80,
          83,
          79,
          78,
          84,
          83,
          75,
          81,
          90,
          74
         ],
         "xaxis": "x",
         "y": [
          3.6,
          3.333,
          4.533,
          4.7,
          3.6,
          4.35,
          3.917,
          4.2,
          4.7,
          4.8,
          4.25,
          3.45,
          4.533,
          3.6,
          4.083,
          3.85,
          4.433,
          4.3,
          4.467,
          4.033,
          3.833,
          4.833,
          4.783,
          4.35,
          4.567,
          4.533,
          3.317,
          4.633,
          4.8,
          4.716,
          4.833,
          4.883,
          4.567,
          4.317,
          4.5,
          4.8,
          4.4,
          4.167,
          4.7,
          4.7,
          4.033,
          4.5,
          5.067,
          4.567,
          3.883,
          3.6,
          4.133,
          4.333,
          4.067,
          4.933,
          3.95,
          4.517,
          4,
          4.333,
          4.817,
          4.3,
          4.667,
          3.75,
          4.9,
          4.367,
          4.5,
          4.05,
          4.7,
          4.85,
          3.683,
          4.7330000000000005,
          4.9,
          4.417,
          4.633,
          4.6,
          4.417,
          4.25,
          4.6,
          3.767,
          4.5,
          4.65,
          4.167,
          4.333,
          4.383,
          4.933,
          3.733,
          4.2330000000000005,
          4.533,
          4.817,
          4.333,
          4.633,
          5.1,
          5.033,
          4,
          4.6,
          4.5,
          4.083,
          3.967,
          4.15,
          3.833,
          4.583,
          5,
          4.617,
          4.583,
          4.167,
          4.333,
          4.5,
          4,
          4.167,
          4.583,
          4.25,
          3.767,
          4.433,
          4.083,
          4.417,
          4.8,
          4.8,
          4.1,
          3.966,
          4.2330000000000005,
          3.5,
          4.3660000000000005,
          4.667,
          4.35,
          4.133,
          4.6,
          4.367,
          3.85,
          4.5,
          4.7,
          3.833,
          4.2330000000000005,
          4.8,
          4.15,
          4.267,
          4.4830000000000005,
          4,
          4.117,
          4.083,
          4.267,
          4.55,
          4.183,
          4.45,
          4.283,
          3.95,
          4.15,
          4.933,
          4.583,
          3.833,
          4.367,
          4.35,
          4.45,
          3.567,
          4.5,
          4.15,
          3.817,
          4.45,
          4.283,
          4.767,
          4.533,
          4.25,
          4.75,
          4.117,
          4.417,
          4.467
         ],
         "yaxis": "y"
        },
        {
         "hovertemplate": "<b>OLS trendline</b><br>duration = 0.012244 * waiting + 3.35195<br>R<sup>2</sup>=0.026925<br><br>waiting=%{x}<br>duration=%{y} <b>(trend)</b><extra></extra>",
         "legendgroup": "",
         "marker": {
          "color": "#636efa",
          "symbol": "circle"
         },
         "mode": "lines",
         "name": "",
         "showlegend": false,
         "type": "scatter",
         "x": [
          72,
          73,
          73,
          73,
          73,
          73,
          73,
          73,
          74,
          74,
          74,
          74,
          74,
          74,
          75,
          75,
          75,
          75,
          75,
          75,
          75,
          75,
          76,
          76,
          76,
          76,
          76,
          76,
          76,
          76,
          76,
          77,
          77,
          77,
          77,
          77,
          77,
          77,
          77,
          77,
          77,
          77,
          77,
          78,
          78,
          78,
          78,
          78,
          78,
          78,
          78,
          78,
          78,
          78,
          78,
          78,
          78,
          78,
          79,
          79,
          79,
          79,
          79,
          79,
          79,
          79,
          79,
          79,
          80,
          80,
          80,
          80,
          80,
          80,
          80,
          80,
          81,
          81,
          81,
          81,
          81,
          81,
          81,
          81,
          81,
          81,
          81,
          81,
          81,
          82,
          82,
          82,
          82,
          82,
          82,
          82,
          82,
          82,
          82,
          82,
          82,
          83,
          83,
          83,
          83,
          83,
          83,
          83,
          83,
          83,
          83,
          83,
          83,
          83,
          83,
          84,
          84,
          84,
          84,
          84,
          84,
          84,
          84,
          84,
          84,
          85,
          85,
          85,
          85,
          85,
          85,
          86,
          86,
          86,
          86,
          86,
          86,
          87,
          87,
          88,
          88,
          88,
          88,
          88,
          88,
          89,
          89,
          89,
          90,
          90,
          90,
          90,
          90,
          90,
          91,
          92,
          93,
          93,
          94,
          96
         ],
         "xaxis": "x",
         "y": [
          4.233522783508958,
          4.245766812955481,
          4.245766812955481,
          4.245766812955481,
          4.245766812955481,
          4.245766812955481,
          4.245766812955481,
          4.245766812955481,
          4.258010842402005,
          4.258010842402005,
          4.258010842402005,
          4.258010842402005,
          4.258010842402005,
          4.258010842402005,
          4.270254871848528,
          4.270254871848528,
          4.270254871848528,
          4.270254871848528,
          4.270254871848528,
          4.270254871848528,
          4.270254871848528,
          4.270254871848528,
          4.282498901295052,
          4.282498901295052,
          4.282498901295052,
          4.282498901295052,
          4.282498901295052,
          4.282498901295052,
          4.282498901295052,
          4.282498901295052,
          4.282498901295052,
          4.294742930741576,
          4.294742930741576,
          4.294742930741576,
          4.294742930741576,
          4.294742930741576,
          4.294742930741576,
          4.294742930741576,
          4.294742930741576,
          4.294742930741576,
          4.294742930741576,
          4.294742930741576,
          4.294742930741576,
          4.306986960188099,
          4.306986960188099,
          4.306986960188099,
          4.306986960188099,
          4.306986960188099,
          4.306986960188099,
          4.306986960188099,
          4.306986960188099,
          4.306986960188099,
          4.306986960188099,
          4.306986960188099,
          4.306986960188099,
          4.306986960188099,
          4.306986960188099,
          4.306986960188099,
          4.319230989634622,
          4.319230989634622,
          4.319230989634622,
          4.319230989634622,
          4.319230989634622,
          4.319230989634622,
          4.319230989634622,
          4.319230989634622,
          4.319230989634622,
          4.319230989634622,
          4.331475019081147,
          4.331475019081147,
          4.331475019081147,
          4.331475019081147,
          4.331475019081147,
          4.331475019081147,
          4.331475019081147,
          4.331475019081147,
          4.34371904852767,
          4.34371904852767,
          4.34371904852767,
          4.34371904852767,
          4.34371904852767,
          4.34371904852767,
          4.34371904852767,
          4.34371904852767,
          4.34371904852767,
          4.34371904852767,
          4.34371904852767,
          4.34371904852767,
          4.34371904852767,
          4.355963077974193,
          4.355963077974193,
          4.355963077974193,
          4.355963077974193,
          4.355963077974193,
          4.355963077974193,
          4.355963077974193,
          4.355963077974193,
          4.355963077974193,
          4.355963077974193,
          4.355963077974193,
          4.355963077974193,
          4.368207107420717,
          4.368207107420717,
          4.368207107420717,
          4.368207107420717,
          4.368207107420717,
          4.368207107420717,
          4.368207107420717,
          4.368207107420717,
          4.368207107420717,
          4.368207107420717,
          4.368207107420717,
          4.368207107420717,
          4.368207107420717,
          4.368207107420717,
          4.38045113686724,
          4.38045113686724,
          4.38045113686724,
          4.38045113686724,
          4.38045113686724,
          4.38045113686724,
          4.38045113686724,
          4.38045113686724,
          4.38045113686724,
          4.38045113686724,
          4.392695166313764,
          4.392695166313764,
          4.392695166313764,
          4.392695166313764,
          4.392695166313764,
          4.392695166313764,
          4.404939195760288,
          4.404939195760288,
          4.404939195760288,
          4.404939195760288,
          4.404939195760288,
          4.404939195760288,
          4.417183225206811,
          4.417183225206811,
          4.429427254653334,
          4.429427254653334,
          4.429427254653334,
          4.429427254653334,
          4.429427254653334,
          4.429427254653334,
          4.441671284099858,
          4.441671284099858,
          4.441671284099858,
          4.453915313546382,
          4.453915313546382,
          4.453915313546382,
          4.453915313546382,
          4.453915313546382,
          4.453915313546382,
          4.466159342992905,
          4.478403372439429,
          4.490647401885952,
          4.490647401885952,
          4.5028914313324755,
          4.527379490225523
         ],
         "yaxis": "y"
        }
       ],
       "layout": {
        "legend": {
         "tracegroupgap": 0
        },
        "template": {
         "data": {
          "bar": [
           {
            "error_x": {
             "color": "#2a3f5f"
            },
            "error_y": {
             "color": "#2a3f5f"
            },
            "marker": {
             "line": {
              "color": "#E5ECF6",
              "width": 0.5
             },
             "pattern": {
              "fillmode": "overlay",
              "size": 10,
              "solidity": 0.2
             }
            },
            "type": "bar"
           }
          ],
          "barpolar": [
           {
            "marker": {
             "line": {
              "color": "#E5ECF6",
              "width": 0.5
             },
             "pattern": {
              "fillmode": "overlay",
              "size": 10,
              "solidity": 0.2
             }
            },
            "type": "barpolar"
           }
          ],
          "carpet": [
           {
            "aaxis": {
             "endlinecolor": "#2a3f5f",
             "gridcolor": "white",
             "linecolor": "white",
             "minorgridcolor": "white",
             "startlinecolor": "#2a3f5f"
            },
            "baxis": {
             "endlinecolor": "#2a3f5f",
             "gridcolor": "white",
             "linecolor": "white",
             "minorgridcolor": "white",
             "startlinecolor": "#2a3f5f"
            },
            "type": "carpet"
           }
          ],
          "choropleth": [
           {
            "colorbar": {
             "outlinewidth": 0,
             "ticks": ""
            },
            "type": "choropleth"
           }
          ],
          "contour": [
           {
            "colorbar": {
             "outlinewidth": 0,
             "ticks": ""
            },
            "colorscale": [
             [
              0,
              "#0d0887"
             ],
             [
              0.1111111111111111,
              "#46039f"
             ],
             [
              0.2222222222222222,
              "#7201a8"
             ],
             [
              0.3333333333333333,
              "#9c179e"
             ],
             [
              0.4444444444444444,
              "#bd3786"
             ],
             [
              0.5555555555555556,
              "#d8576b"
             ],
             [
              0.6666666666666666,
              "#ed7953"
             ],
             [
              0.7777777777777778,
              "#fb9f3a"
             ],
             [
              0.8888888888888888,
              "#fdca26"
             ],
             [
              1,
              "#f0f921"
             ]
            ],
            "type": "contour"
           }
          ],
          "contourcarpet": [
           {
            "colorbar": {
             "outlinewidth": 0,
             "ticks": ""
            },
            "type": "contourcarpet"
           }
          ],
          "heatmap": [
           {
            "colorbar": {
             "outlinewidth": 0,
             "ticks": ""
            },
            "colorscale": [
             [
              0,
              "#0d0887"
             ],
             [
              0.1111111111111111,
              "#46039f"
             ],
             [
              0.2222222222222222,
              "#7201a8"
             ],
             [
              0.3333333333333333,
              "#9c179e"
             ],
             [
              0.4444444444444444,
              "#bd3786"
             ],
             [
              0.5555555555555556,
              "#d8576b"
             ],
             [
              0.6666666666666666,
              "#ed7953"
             ],
             [
              0.7777777777777778,
              "#fb9f3a"
             ],
             [
              0.8888888888888888,
              "#fdca26"
             ],
             [
              1,
              "#f0f921"
             ]
            ],
            "type": "heatmap"
           }
          ],
          "heatmapgl": [
           {
            "colorbar": {
             "outlinewidth": 0,
             "ticks": ""
            },
            "colorscale": [
             [
              0,
              "#0d0887"
             ],
             [
              0.1111111111111111,
              "#46039f"
             ],
             [
              0.2222222222222222,
              "#7201a8"
             ],
             [
              0.3333333333333333,
              "#9c179e"
             ],
             [
              0.4444444444444444,
              "#bd3786"
             ],
             [
              0.5555555555555556,
              "#d8576b"
             ],
             [
              0.6666666666666666,
              "#ed7953"
             ],
             [
              0.7777777777777778,
              "#fb9f3a"
             ],
             [
              0.8888888888888888,
              "#fdca26"
             ],
             [
              1,
              "#f0f921"
             ]
            ],
            "type": "heatmapgl"
           }
          ],
          "histogram": [
           {
            "marker": {
             "pattern": {
              "fillmode": "overlay",
              "size": 10,
              "solidity": 0.2
             }
            },
            "type": "histogram"
           }
          ],
          "histogram2d": [
           {
            "colorbar": {
             "outlinewidth": 0,
             "ticks": ""
            },
            "colorscale": [
             [
              0,
              "#0d0887"
             ],
             [
              0.1111111111111111,
              "#46039f"
             ],
             [
              0.2222222222222222,
              "#7201a8"
             ],
             [
              0.3333333333333333,
              "#9c179e"
             ],
             [
              0.4444444444444444,
              "#bd3786"
             ],
             [
              0.5555555555555556,
              "#d8576b"
             ],
             [
              0.6666666666666666,
              "#ed7953"
             ],
             [
              0.7777777777777778,
              "#fb9f3a"
             ],
             [
              0.8888888888888888,
              "#fdca26"
             ],
             [
              1,
              "#f0f921"
             ]
            ],
            "type": "histogram2d"
           }
          ],
          "histogram2dcontour": [
           {
            "colorbar": {
             "outlinewidth": 0,
             "ticks": ""
            },
            "colorscale": [
             [
              0,
              "#0d0887"
             ],
             [
              0.1111111111111111,
              "#46039f"
             ],
             [
              0.2222222222222222,
              "#7201a8"
             ],
             [
              0.3333333333333333,
              "#9c179e"
             ],
             [
              0.4444444444444444,
              "#bd3786"
             ],
             [
              0.5555555555555556,
              "#d8576b"
             ],
             [
              0.6666666666666666,
              "#ed7953"
             ],
             [
              0.7777777777777778,
              "#fb9f3a"
             ],
             [
              0.8888888888888888,
              "#fdca26"
             ],
             [
              1,
              "#f0f921"
             ]
            ],
            "type": "histogram2dcontour"
           }
          ],
          "mesh3d": [
           {
            "colorbar": {
             "outlinewidth": 0,
             "ticks": ""
            },
            "type": "mesh3d"
           }
          ],
          "parcoords": [
           {
            "line": {
             "colorbar": {
              "outlinewidth": 0,
              "ticks": ""
             }
            },
            "type": "parcoords"
           }
          ],
          "pie": [
           {
            "automargin": true,
            "type": "pie"
           }
          ],
          "scatter": [
           {
            "fillpattern": {
             "fillmode": "overlay",
             "size": 10,
             "solidity": 0.2
            },
            "type": "scatter"
           }
          ],
          "scatter3d": [
           {
            "line": {
             "colorbar": {
              "outlinewidth": 0,
              "ticks": ""
             }
            },
            "marker": {
             "colorbar": {
              "outlinewidth": 0,
              "ticks": ""
             }
            },
            "type": "scatter3d"
           }
          ],
          "scattercarpet": [
           {
            "marker": {
             "colorbar": {
              "outlinewidth": 0,
              "ticks": ""
             }
            },
            "type": "scattercarpet"
           }
          ],
          "scattergeo": [
           {
            "marker": {
             "colorbar": {
              "outlinewidth": 0,
              "ticks": ""
             }
            },
            "type": "scattergeo"
           }
          ],
          "scattergl": [
           {
            "marker": {
             "colorbar": {
              "outlinewidth": 0,
              "ticks": ""
             }
            },
            "type": "scattergl"
           }
          ],
          "scattermapbox": [
           {
            "marker": {
             "colorbar": {
              "outlinewidth": 0,
              "ticks": ""
             }
            },
            "type": "scattermapbox"
           }
          ],
          "scatterpolar": [
           {
            "marker": {
             "colorbar": {
              "outlinewidth": 0,
              "ticks": ""
             }
            },
            "type": "scatterpolar"
           }
          ],
          "scatterpolargl": [
           {
            "marker": {
             "colorbar": {
              "outlinewidth": 0,
              "ticks": ""
             }
            },
            "type": "scatterpolargl"
           }
          ],
          "scatterternary": [
           {
            "marker": {
             "colorbar": {
              "outlinewidth": 0,
              "ticks": ""
             }
            },
            "type": "scatterternary"
           }
          ],
          "surface": [
           {
            "colorbar": {
             "outlinewidth": 0,
             "ticks": ""
            },
            "colorscale": [
             [
              0,
              "#0d0887"
             ],
             [
              0.1111111111111111,
              "#46039f"
             ],
             [
              0.2222222222222222,
              "#7201a8"
             ],
             [
              0.3333333333333333,
              "#9c179e"
             ],
             [
              0.4444444444444444,
              "#bd3786"
             ],
             [
              0.5555555555555556,
              "#d8576b"
             ],
             [
              0.6666666666666666,
              "#ed7953"
             ],
             [
              0.7777777777777778,
              "#fb9f3a"
             ],
             [
              0.8888888888888888,
              "#fdca26"
             ],
             [
              1,
              "#f0f921"
             ]
            ],
            "type": "surface"
           }
          ],
          "table": [
           {
            "cells": {
             "fill": {
              "color": "#EBF0F8"
             },
             "line": {
              "color": "white"
             }
            },
            "header": {
             "fill": {
              "color": "#C8D4E3"
             },
             "line": {
              "color": "white"
             }
            },
            "type": "table"
           }
          ]
         },
         "layout": {
          "annotationdefaults": {
           "arrowcolor": "#2a3f5f",
           "arrowhead": 0,
           "arrowwidth": 1
          },
          "autotypenumbers": "strict",
          "coloraxis": {
           "colorbar": {
            "outlinewidth": 0,
            "ticks": ""
           }
          },
          "colorscale": {
           "diverging": [
            [
             0,
             "#8e0152"
            ],
            [
             0.1,
             "#c51b7d"
            ],
            [
             0.2,
             "#de77ae"
            ],
            [
             0.3,
             "#f1b6da"
            ],
            [
             0.4,
             "#fde0ef"
            ],
            [
             0.5,
             "#f7f7f7"
            ],
            [
             0.6,
             "#e6f5d0"
            ],
            [
             0.7,
             "#b8e186"
            ],
            [
             0.8,
             "#7fbc41"
            ],
            [
             0.9,
             "#4d9221"
            ],
            [
             1,
             "#276419"
            ]
           ],
           "sequential": [
            [
             0,
             "#0d0887"
            ],
            [
             0.1111111111111111,
             "#46039f"
            ],
            [
             0.2222222222222222,
             "#7201a8"
            ],
            [
             0.3333333333333333,
             "#9c179e"
            ],
            [
             0.4444444444444444,
             "#bd3786"
            ],
            [
             0.5555555555555556,
             "#d8576b"
            ],
            [
             0.6666666666666666,
             "#ed7953"
            ],
            [
             0.7777777777777778,
             "#fb9f3a"
            ],
            [
             0.8888888888888888,
             "#fdca26"
            ],
            [
             1,
             "#f0f921"
            ]
           ],
           "sequentialminus": [
            [
             0,
             "#0d0887"
            ],
            [
             0.1111111111111111,
             "#46039f"
            ],
            [
             0.2222222222222222,
             "#7201a8"
            ],
            [
             0.3333333333333333,
             "#9c179e"
            ],
            [
             0.4444444444444444,
             "#bd3786"
            ],
            [
             0.5555555555555556,
             "#d8576b"
            ],
            [
             0.6666666666666666,
             "#ed7953"
            ],
            [
             0.7777777777777778,
             "#fb9f3a"
            ],
            [
             0.8888888888888888,
             "#fdca26"
            ],
            [
             1,
             "#f0f921"
            ]
           ]
          },
          "colorway": [
           "#636efa",
           "#EF553B",
           "#00cc96",
           "#ab63fa",
           "#FFA15A",
           "#19d3f3",
           "#FF6692",
           "#B6E880",
           "#FF97FF",
           "#FECB52"
          ],
          "font": {
           "color": "#2a3f5f"
          },
          "geo": {
           "bgcolor": "white",
           "lakecolor": "white",
           "landcolor": "#E5ECF6",
           "showlakes": true,
           "showland": true,
           "subunitcolor": "white"
          },
          "hoverlabel": {
           "align": "left"
          },
          "hovermode": "closest",
          "mapbox": {
           "style": "light"
          },
          "paper_bgcolor": "white",
          "plot_bgcolor": "#E5ECF6",
          "polar": {
           "angularaxis": {
            "gridcolor": "white",
            "linecolor": "white",
            "ticks": ""
           },
           "bgcolor": "#E5ECF6",
           "radialaxis": {
            "gridcolor": "white",
            "linecolor": "white",
            "ticks": ""
           }
          },
          "scene": {
           "xaxis": {
            "backgroundcolor": "#E5ECF6",
            "gridcolor": "white",
            "gridwidth": 2,
            "linecolor": "white",
            "showbackground": true,
            "ticks": "",
            "zerolinecolor": "white"
           },
           "yaxis": {
            "backgroundcolor": "#E5ECF6",
            "gridcolor": "white",
            "gridwidth": 2,
            "linecolor": "white",
            "showbackground": true,
            "ticks": "",
            "zerolinecolor": "white"
           },
           "zaxis": {
            "backgroundcolor": "#E5ECF6",
            "gridcolor": "white",
            "gridwidth": 2,
            "linecolor": "white",
            "showbackground": true,
            "ticks": "",
            "zerolinecolor": "white"
           }
          },
          "shapedefaults": {
           "line": {
            "color": "#2a3f5f"
           }
          },
          "ternary": {
           "aaxis": {
            "gridcolor": "white",
            "linecolor": "white",
            "ticks": ""
           },
           "baxis": {
            "gridcolor": "white",
            "linecolor": "white",
            "ticks": ""
           },
           "bgcolor": "#E5ECF6",
           "caxis": {
            "gridcolor": "white",
            "linecolor": "white",
            "ticks": ""
           }
          },
          "title": {
           "x": 0.05
          },
          "xaxis": {
           "automargin": true,
           "gridcolor": "white",
           "linecolor": "white",
           "ticks": "",
           "title": {
            "standoff": 15
           },
           "zerolinecolor": "white",
           "zerolinewidth": 2
          },
          "yaxis": {
           "automargin": true,
           "gridcolor": "white",
           "linecolor": "white",
           "ticks": "",
           "title": {
            "standoff": 15
           },
           "zerolinecolor": "white",
           "zerolinewidth": 2
          }
         }
        },
        "title": {
         "text": "Old Faithful Geyser Eruptions for long wait times (> 71 mins)"
        },
        "xaxis": {
         "anchor": "y",
         "domain": [
          0,
          1
         ],
         "title": {
          "text": "waiting"
         }
        },
        "yaxis": {
         "anchor": "x",
         "domain": [
          0,
          1
         ],
         "title": {
          "text": "duration"
         }
        }
       }
      },
      "text/html": [
       "<div>                            <div id=\"f56f0ff8-1c0b-4cc7-be8b-edc4ec405f20\" class=\"plotly-graph-div\" style=\"height:525px; width:100%;\"></div>            <script type=\"text/javascript\">                require([\"plotly\"], function(Plotly) {                    window.PLOTLYENV=window.PLOTLYENV || {};                                    if (document.getElementById(\"f56f0ff8-1c0b-4cc7-be8b-edc4ec405f20\")) {                    Plotly.newPlot(                        \"f56f0ff8-1c0b-4cc7-be8b-edc4ec405f20\",                        [{\"hovertemplate\":\"waiting=%{x}\\u003cbr\\u003eduration=%{y}\\u003cextra\\u003e\\u003c\\u002fextra\\u003e\",\"legendgroup\":\"\",\"marker\":{\"color\":\"#636efa\",\"symbol\":\"circle\"},\"mode\":\"markers\",\"name\":\"\",\"orientation\":\"v\",\"showlegend\":false,\"x\":[79,74,85,88,85,85,84,78,83,84,79,78,74,83,76,78,79,73,77,80,74,80,90,80,84,73,83,82,75,90,80,83,77,81,84,82,92,78,78,73,82,79,76,78,76,83,75,82,73,88,76,80,86,90,78,72,84,75,82,88,83,81,84,86,81,75,89,79,81,85,87,77,88,81,82,90,83,89,82,86,79,81,82,77,76,80,96,77,77,81,81,93,89,86,78,76,88,93,77,81,81,73,85,74,77,83,83,78,84,83,81,76,84,77,81,87,77,78,82,91,78,77,84,83,80,75,76,94,76,82,75,78,79,78,78,79,86,90,77,79,75,86,85,82,82,74,83,73,73,88,80,83,79,78,84,83,75,81,90,74],\"xaxis\":\"x\",\"y\":[3.6,3.333,4.533,4.7,3.6,4.35,3.917,4.2,4.7,4.8,4.25,3.45,4.533,3.6,4.083,3.85,4.433,4.3,4.467,4.033,3.833,4.833,4.783,4.35,4.567,4.533,3.317,4.633,4.8,4.716,4.833,4.883,4.567,4.317,4.5,4.8,4.4,4.167,4.7,4.7,4.033,4.5,5.067,4.567,3.883,3.6,4.133,4.333,4.067,4.933,3.95,4.517,4.0,4.333,4.817,4.3,4.667,3.75,4.9,4.367,4.5,4.05,4.7,4.85,3.683,4.7330000000000005,4.9,4.417,4.633,4.6,4.417,4.25,4.6,3.767,4.5,4.65,4.167,4.333,4.383,4.933,3.733,4.2330000000000005,4.533,4.817,4.333,4.633,5.1,5.033,4.0,4.6,4.5,4.083,3.967,4.15,3.833,4.583,5.0,4.617,4.583,4.167,4.333,4.5,4.0,4.167,4.583,4.25,3.767,4.433,4.083,4.417,4.8,4.8,4.1,3.966,4.2330000000000005,3.5,4.3660000000000005,4.667,4.35,4.133,4.6,4.367,3.85,4.5,4.7,3.833,4.2330000000000005,4.8,4.15,4.267,4.4830000000000005,4.0,4.117,4.083,4.267,4.55,4.183,4.45,4.283,3.95,4.15,4.933,4.583,3.833,4.367,4.35,4.45,3.567,4.5,4.15,3.817,4.45,4.283,4.767,4.533,4.25,4.75,4.117,4.417,4.467],\"yaxis\":\"y\",\"type\":\"scatter\"},{\"hovertemplate\":\"\\u003cb\\u003eOLS trendline\\u003c\\u002fb\\u003e\\u003cbr\\u003eduration = 0.012244 * waiting + 3.35195\\u003cbr\\u003eR\\u003csup\\u003e2\\u003c\\u002fsup\\u003e=0.026925\\u003cbr\\u003e\\u003cbr\\u003ewaiting=%{x}\\u003cbr\\u003eduration=%{y} \\u003cb\\u003e(trend)\\u003c\\u002fb\\u003e\\u003cextra\\u003e\\u003c\\u002fextra\\u003e\",\"legendgroup\":\"\",\"marker\":{\"color\":\"#636efa\",\"symbol\":\"circle\"},\"mode\":\"lines\",\"name\":\"\",\"showlegend\":false,\"x\":[72,73,73,73,73,73,73,73,74,74,74,74,74,74,75,75,75,75,75,75,75,75,76,76,76,76,76,76,76,76,76,77,77,77,77,77,77,77,77,77,77,77,77,78,78,78,78,78,78,78,78,78,78,78,78,78,78,78,79,79,79,79,79,79,79,79,79,79,80,80,80,80,80,80,80,80,81,81,81,81,81,81,81,81,81,81,81,81,81,82,82,82,82,82,82,82,82,82,82,82,82,83,83,83,83,83,83,83,83,83,83,83,83,83,83,84,84,84,84,84,84,84,84,84,84,85,85,85,85,85,85,86,86,86,86,86,86,87,87,88,88,88,88,88,88,89,89,89,90,90,90,90,90,90,91,92,93,93,94,96],\"xaxis\":\"x\",\"y\":[4.233522783508958,4.245766812955481,4.245766812955481,4.245766812955481,4.245766812955481,4.245766812955481,4.245766812955481,4.245766812955481,4.258010842402005,4.258010842402005,4.258010842402005,4.258010842402005,4.258010842402005,4.258010842402005,4.270254871848528,4.270254871848528,4.270254871848528,4.270254871848528,4.270254871848528,4.270254871848528,4.270254871848528,4.270254871848528,4.282498901295052,4.282498901295052,4.282498901295052,4.282498901295052,4.282498901295052,4.282498901295052,4.282498901295052,4.282498901295052,4.282498901295052,4.294742930741576,4.294742930741576,4.294742930741576,4.294742930741576,4.294742930741576,4.294742930741576,4.294742930741576,4.294742930741576,4.294742930741576,4.294742930741576,4.294742930741576,4.294742930741576,4.306986960188099,4.306986960188099,4.306986960188099,4.306986960188099,4.306986960188099,4.306986960188099,4.306986960188099,4.306986960188099,4.306986960188099,4.306986960188099,4.306986960188099,4.306986960188099,4.306986960188099,4.306986960188099,4.306986960188099,4.319230989634622,4.319230989634622,4.319230989634622,4.319230989634622,4.319230989634622,4.319230989634622,4.319230989634622,4.319230989634622,4.319230989634622,4.319230989634622,4.331475019081147,4.331475019081147,4.331475019081147,4.331475019081147,4.331475019081147,4.331475019081147,4.331475019081147,4.331475019081147,4.34371904852767,4.34371904852767,4.34371904852767,4.34371904852767,4.34371904852767,4.34371904852767,4.34371904852767,4.34371904852767,4.34371904852767,4.34371904852767,4.34371904852767,4.34371904852767,4.34371904852767,4.355963077974193,4.355963077974193,4.355963077974193,4.355963077974193,4.355963077974193,4.355963077974193,4.355963077974193,4.355963077974193,4.355963077974193,4.355963077974193,4.355963077974193,4.355963077974193,4.368207107420717,4.368207107420717,4.368207107420717,4.368207107420717,4.368207107420717,4.368207107420717,4.368207107420717,4.368207107420717,4.368207107420717,4.368207107420717,4.368207107420717,4.368207107420717,4.368207107420717,4.368207107420717,4.38045113686724,4.38045113686724,4.38045113686724,4.38045113686724,4.38045113686724,4.38045113686724,4.38045113686724,4.38045113686724,4.38045113686724,4.38045113686724,4.392695166313764,4.392695166313764,4.392695166313764,4.392695166313764,4.392695166313764,4.392695166313764,4.404939195760288,4.404939195760288,4.404939195760288,4.404939195760288,4.404939195760288,4.404939195760288,4.417183225206811,4.417183225206811,4.429427254653334,4.429427254653334,4.429427254653334,4.429427254653334,4.429427254653334,4.429427254653334,4.441671284099858,4.441671284099858,4.441671284099858,4.453915313546382,4.453915313546382,4.453915313546382,4.453915313546382,4.453915313546382,4.453915313546382,4.466159342992905,4.478403372439429,4.490647401885952,4.490647401885952,4.5028914313324755,4.527379490225523],\"yaxis\":\"y\",\"type\":\"scatter\"}],                        {\"template\":{\"data\":{\"histogram2dcontour\":[{\"type\":\"histogram2dcontour\",\"colorbar\":{\"outlinewidth\":0,\"ticks\":\"\"},\"colorscale\":[[0.0,\"#0d0887\"],[0.1111111111111111,\"#46039f\"],[0.2222222222222222,\"#7201a8\"],[0.3333333333333333,\"#9c179e\"],[0.4444444444444444,\"#bd3786\"],[0.5555555555555556,\"#d8576b\"],[0.6666666666666666,\"#ed7953\"],[0.7777777777777778,\"#fb9f3a\"],[0.8888888888888888,\"#fdca26\"],[1.0,\"#f0f921\"]]}],\"choropleth\":[{\"type\":\"choropleth\",\"colorbar\":{\"outlinewidth\":0,\"ticks\":\"\"}}],\"histogram2d\":[{\"type\":\"histogram2d\",\"colorbar\":{\"outlinewidth\":0,\"ticks\":\"\"},\"colorscale\":[[0.0,\"#0d0887\"],[0.1111111111111111,\"#46039f\"],[0.2222222222222222,\"#7201a8\"],[0.3333333333333333,\"#9c179e\"],[0.4444444444444444,\"#bd3786\"],[0.5555555555555556,\"#d8576b\"],[0.6666666666666666,\"#ed7953\"],[0.7777777777777778,\"#fb9f3a\"],[0.8888888888888888,\"#fdca26\"],[1.0,\"#f0f921\"]]}],\"heatmap\":[{\"type\":\"heatmap\",\"colorbar\":{\"outlinewidth\":0,\"ticks\":\"\"},\"colorscale\":[[0.0,\"#0d0887\"],[0.1111111111111111,\"#46039f\"],[0.2222222222222222,\"#7201a8\"],[0.3333333333333333,\"#9c179e\"],[0.4444444444444444,\"#bd3786\"],[0.5555555555555556,\"#d8576b\"],[0.6666666666666666,\"#ed7953\"],[0.7777777777777778,\"#fb9f3a\"],[0.8888888888888888,\"#fdca26\"],[1.0,\"#f0f921\"]]}],\"heatmapgl\":[{\"type\":\"heatmapgl\",\"colorbar\":{\"outlinewidth\":0,\"ticks\":\"\"},\"colorscale\":[[0.0,\"#0d0887\"],[0.1111111111111111,\"#46039f\"],[0.2222222222222222,\"#7201a8\"],[0.3333333333333333,\"#9c179e\"],[0.4444444444444444,\"#bd3786\"],[0.5555555555555556,\"#d8576b\"],[0.6666666666666666,\"#ed7953\"],[0.7777777777777778,\"#fb9f3a\"],[0.8888888888888888,\"#fdca26\"],[1.0,\"#f0f921\"]]}],\"contourcarpet\":[{\"type\":\"contourcarpet\",\"colorbar\":{\"outlinewidth\":0,\"ticks\":\"\"}}],\"contour\":[{\"type\":\"contour\",\"colorbar\":{\"outlinewidth\":0,\"ticks\":\"\"},\"colorscale\":[[0.0,\"#0d0887\"],[0.1111111111111111,\"#46039f\"],[0.2222222222222222,\"#7201a8\"],[0.3333333333333333,\"#9c179e\"],[0.4444444444444444,\"#bd3786\"],[0.5555555555555556,\"#d8576b\"],[0.6666666666666666,\"#ed7953\"],[0.7777777777777778,\"#fb9f3a\"],[0.8888888888888888,\"#fdca26\"],[1.0,\"#f0f921\"]]}],\"surface\":[{\"type\":\"surface\",\"colorbar\":{\"outlinewidth\":0,\"ticks\":\"\"},\"colorscale\":[[0.0,\"#0d0887\"],[0.1111111111111111,\"#46039f\"],[0.2222222222222222,\"#7201a8\"],[0.3333333333333333,\"#9c179e\"],[0.4444444444444444,\"#bd3786\"],[0.5555555555555556,\"#d8576b\"],[0.6666666666666666,\"#ed7953\"],[0.7777777777777778,\"#fb9f3a\"],[0.8888888888888888,\"#fdca26\"],[1.0,\"#f0f921\"]]}],\"mesh3d\":[{\"type\":\"mesh3d\",\"colorbar\":{\"outlinewidth\":0,\"ticks\":\"\"}}],\"scatter\":[{\"fillpattern\":{\"fillmode\":\"overlay\",\"size\":10,\"solidity\":0.2},\"type\":\"scatter\"}],\"parcoords\":[{\"type\":\"parcoords\",\"line\":{\"colorbar\":{\"outlinewidth\":0,\"ticks\":\"\"}}}],\"scatterpolargl\":[{\"type\":\"scatterpolargl\",\"marker\":{\"colorbar\":{\"outlinewidth\":0,\"ticks\":\"\"}}}],\"bar\":[{\"error_x\":{\"color\":\"#2a3f5f\"},\"error_y\":{\"color\":\"#2a3f5f\"},\"marker\":{\"line\":{\"color\":\"#E5ECF6\",\"width\":0.5},\"pattern\":{\"fillmode\":\"overlay\",\"size\":10,\"solidity\":0.2}},\"type\":\"bar\"}],\"scattergeo\":[{\"type\":\"scattergeo\",\"marker\":{\"colorbar\":{\"outlinewidth\":0,\"ticks\":\"\"}}}],\"scatterpolar\":[{\"type\":\"scatterpolar\",\"marker\":{\"colorbar\":{\"outlinewidth\":0,\"ticks\":\"\"}}}],\"histogram\":[{\"marker\":{\"pattern\":{\"fillmode\":\"overlay\",\"size\":10,\"solidity\":0.2}},\"type\":\"histogram\"}],\"scattergl\":[{\"type\":\"scattergl\",\"marker\":{\"colorbar\":{\"outlinewidth\":0,\"ticks\":\"\"}}}],\"scatter3d\":[{\"type\":\"scatter3d\",\"line\":{\"colorbar\":{\"outlinewidth\":0,\"ticks\":\"\"}},\"marker\":{\"colorbar\":{\"outlinewidth\":0,\"ticks\":\"\"}}}],\"scattermapbox\":[{\"type\":\"scattermapbox\",\"marker\":{\"colorbar\":{\"outlinewidth\":0,\"ticks\":\"\"}}}],\"scatterternary\":[{\"type\":\"scatterternary\",\"marker\":{\"colorbar\":{\"outlinewidth\":0,\"ticks\":\"\"}}}],\"scattercarpet\":[{\"type\":\"scattercarpet\",\"marker\":{\"colorbar\":{\"outlinewidth\":0,\"ticks\":\"\"}}}],\"carpet\":[{\"aaxis\":{\"endlinecolor\":\"#2a3f5f\",\"gridcolor\":\"white\",\"linecolor\":\"white\",\"minorgridcolor\":\"white\",\"startlinecolor\":\"#2a3f5f\"},\"baxis\":{\"endlinecolor\":\"#2a3f5f\",\"gridcolor\":\"white\",\"linecolor\":\"white\",\"minorgridcolor\":\"white\",\"startlinecolor\":\"#2a3f5f\"},\"type\":\"carpet\"}],\"table\":[{\"cells\":{\"fill\":{\"color\":\"#EBF0F8\"},\"line\":{\"color\":\"white\"}},\"header\":{\"fill\":{\"color\":\"#C8D4E3\"},\"line\":{\"color\":\"white\"}},\"type\":\"table\"}],\"barpolar\":[{\"marker\":{\"line\":{\"color\":\"#E5ECF6\",\"width\":0.5},\"pattern\":{\"fillmode\":\"overlay\",\"size\":10,\"solidity\":0.2}},\"type\":\"barpolar\"}],\"pie\":[{\"automargin\":true,\"type\":\"pie\"}]},\"layout\":{\"autotypenumbers\":\"strict\",\"colorway\":[\"#636efa\",\"#EF553B\",\"#00cc96\",\"#ab63fa\",\"#FFA15A\",\"#19d3f3\",\"#FF6692\",\"#B6E880\",\"#FF97FF\",\"#FECB52\"],\"font\":{\"color\":\"#2a3f5f\"},\"hovermode\":\"closest\",\"hoverlabel\":{\"align\":\"left\"},\"paper_bgcolor\":\"white\",\"plot_bgcolor\":\"#E5ECF6\",\"polar\":{\"bgcolor\":\"#E5ECF6\",\"angularaxis\":{\"gridcolor\":\"white\",\"linecolor\":\"white\",\"ticks\":\"\"},\"radialaxis\":{\"gridcolor\":\"white\",\"linecolor\":\"white\",\"ticks\":\"\"}},\"ternary\":{\"bgcolor\":\"#E5ECF6\",\"aaxis\":{\"gridcolor\":\"white\",\"linecolor\":\"white\",\"ticks\":\"\"},\"baxis\":{\"gridcolor\":\"white\",\"linecolor\":\"white\",\"ticks\":\"\"},\"caxis\":{\"gridcolor\":\"white\",\"linecolor\":\"white\",\"ticks\":\"\"}},\"coloraxis\":{\"colorbar\":{\"outlinewidth\":0,\"ticks\":\"\"}},\"colorscale\":{\"sequential\":[[0.0,\"#0d0887\"],[0.1111111111111111,\"#46039f\"],[0.2222222222222222,\"#7201a8\"],[0.3333333333333333,\"#9c179e\"],[0.4444444444444444,\"#bd3786\"],[0.5555555555555556,\"#d8576b\"],[0.6666666666666666,\"#ed7953\"],[0.7777777777777778,\"#fb9f3a\"],[0.8888888888888888,\"#fdca26\"],[1.0,\"#f0f921\"]],\"sequentialminus\":[[0.0,\"#0d0887\"],[0.1111111111111111,\"#46039f\"],[0.2222222222222222,\"#7201a8\"],[0.3333333333333333,\"#9c179e\"],[0.4444444444444444,\"#bd3786\"],[0.5555555555555556,\"#d8576b\"],[0.6666666666666666,\"#ed7953\"],[0.7777777777777778,\"#fb9f3a\"],[0.8888888888888888,\"#fdca26\"],[1.0,\"#f0f921\"]],\"diverging\":[[0,\"#8e0152\"],[0.1,\"#c51b7d\"],[0.2,\"#de77ae\"],[0.3,\"#f1b6da\"],[0.4,\"#fde0ef\"],[0.5,\"#f7f7f7\"],[0.6,\"#e6f5d0\"],[0.7,\"#b8e186\"],[0.8,\"#7fbc41\"],[0.9,\"#4d9221\"],[1,\"#276419\"]]},\"xaxis\":{\"gridcolor\":\"white\",\"linecolor\":\"white\",\"ticks\":\"\",\"title\":{\"standoff\":15},\"zerolinecolor\":\"white\",\"automargin\":true,\"zerolinewidth\":2},\"yaxis\":{\"gridcolor\":\"white\",\"linecolor\":\"white\",\"ticks\":\"\",\"title\":{\"standoff\":15},\"zerolinecolor\":\"white\",\"automargin\":true,\"zerolinewidth\":2},\"scene\":{\"xaxis\":{\"backgroundcolor\":\"#E5ECF6\",\"gridcolor\":\"white\",\"linecolor\":\"white\",\"showbackground\":true,\"ticks\":\"\",\"zerolinecolor\":\"white\",\"gridwidth\":2},\"yaxis\":{\"backgroundcolor\":\"#E5ECF6\",\"gridcolor\":\"white\",\"linecolor\":\"white\",\"showbackground\":true,\"ticks\":\"\",\"zerolinecolor\":\"white\",\"gridwidth\":2},\"zaxis\":{\"backgroundcolor\":\"#E5ECF6\",\"gridcolor\":\"white\",\"linecolor\":\"white\",\"showbackground\":true,\"ticks\":\"\",\"zerolinecolor\":\"white\",\"gridwidth\":2}},\"shapedefaults\":{\"line\":{\"color\":\"#2a3f5f\"}},\"annotationdefaults\":{\"arrowcolor\":\"#2a3f5f\",\"arrowhead\":0,\"arrowwidth\":1},\"geo\":{\"bgcolor\":\"white\",\"landcolor\":\"#E5ECF6\",\"subunitcolor\":\"white\",\"showland\":true,\"showlakes\":true,\"lakecolor\":\"white\"},\"title\":{\"x\":0.05},\"mapbox\":{\"style\":\"light\"}}},\"xaxis\":{\"anchor\":\"y\",\"domain\":[0.0,1.0],\"title\":{\"text\":\"waiting\"}},\"yaxis\":{\"anchor\":\"x\",\"domain\":[0.0,1.0],\"title\":{\"text\":\"duration\"}},\"legend\":{\"tracegroupgap\":0},\"title\":{\"text\":\"Old Faithful Geyser Eruptions for long wait times (\\u003e 71 mins)\"}},                        {\"responsive\": true}                    ).then(function(){\n",
       "                            \n",
       "var gd = document.getElementById('f56f0ff8-1c0b-4cc7-be8b-edc4ec405f20');\n",
       "var x = new MutationObserver(function (mutations, observer) {{\n",
       "        var display = window.getComputedStyle(gd).display;\n",
       "        if (!display || display === 'none') {{\n",
       "            console.log([gd, 'removed!']);\n",
       "            Plotly.purge(gd);\n",
       "            observer.disconnect();\n",
       "        }}\n",
       "}});\n",
       "\n",
       "// Listen for the removal of the full notebook cells\n",
       "var notebookContainer = gd.closest('#notebook-container');\n",
       "if (notebookContainer) {{\n",
       "    x.observe(notebookContainer, {childList: true});\n",
       "}}\n",
       "\n",
       "// Listen for the clearing of the current output cell\n",
       "var outputEl = gd.closest('.output');\n",
       "if (outputEl) {{\n",
       "    x.observe(outputEl, {childList: true});\n",
       "}}\n",
       "\n",
       "                        })                };                });            </script>        </div>"
      ]
     },
     "metadata": {},
     "output_type": "display_data"
    },
    {
     "data": {
      "application/vnd.plotly.v1+json": {
       "config": {
        "plotlyServerURL": "https://plot.ly"
       },
       "data": [
        {
         "alignmentgroup": "True",
         "bingroup": "x",
         "hovertemplate": "variable=0<br>value=%{x}<br>count=%{y}<extra></extra>",
         "legendgroup": "0",
         "marker": {
          "color": "#636efa",
          "pattern": {
           "shape": ""
          }
         },
         "name": "0",
         "nbinsx": 30,
         "offsetgroup": "0",
         "orientation": "v",
         "showlegend": true,
         "type": "histogram",
         "x": [
          0.004719923396274341,
          0.01443100126732217,
          0.0033776718099816708,
          0.0019720283429304868,
          0.012474590386091736,
          0.015009166155732688,
          0.01193519465440486,
          0.012887617563324166,
          0.013377720345058904,
          0.012721801533120462,
          0.013549935887882732,
          0.022198438460299213,
          0.0221984591378974,
          0.01882530265936354,
          0.015890547498980178,
          0.007667754600348447,
          0.007102634132317525,
          0.01102678543276055,
          0.013346237522279213,
          0.0082739512152614,
          0.005357430548095599,
          0.006746475229595164,
          0.007801646592468334,
          0.011146990925346033,
          0.010944249911420092,
          0.01768559694681826,
          0.011367076921755682,
          0.0013878237640106116,
          0.01105043852871905,
          0.02315952149444587,
          0.0064212261041529575,
          0.018171920719699197,
          0.02162036710872521,
          0.006445713522842617,
          0.01688497541108956,
          0.014614905261905493,
          0.01752508175442166,
          0.01046356160374197,
          0.012391480092119937,
          0.017164572712402765,
          0.011128954783020173,
          0.008788312253728552,
          0.01374135286651154,
          0.010049436032923506,
          0.01161322812381049,
          0.0026073146597201807,
          0.008921408321294004,
          0.016135994906865486,
          0.012024246970898017,
          0.014632097778665833,
          0.006062326574172869,
          0.01670688988670488,
          0.02468470200630253,
          0.016002361716033794,
          0.012626314422218884,
          -0.0005380617126415702,
          0.00463887249572912,
          0.02501480528781154,
          0.007429721489257857,
          0.01374388713159609,
          0.01044497006643574,
          0.01822620933183964,
          0.010048906314486161,
          -0.0017006336781288309,
          0.026516877195031572,
          0.02073441036128151,
          0.012906273958599543,
          0.012036729141475213,
          0.016310285526220214,
          0.008656509046234832,
          0.010832414693981565,
          0.017390103256874255,
          0.007155826104311761,
          0.021289031912947586,
          -0.0007594444948365361,
          0.009361577067168322,
          0.0031003299192435274,
          0.010732212863568987,
          0.005208805637735556,
          0.016354000000000053,
          0.02179710838601069,
          0.015378578753767948,
          0.016263071249033763,
          0.01838385746375329,
          0.011619914271765397,
          0.008708894940711608,
          0.012856899654521102,
          0.01369182724141578,
          0.008239432635856248,
          0.009540065861690436,
          0.010566875359325635,
          0.029634968372200185,
          0.018907614368179303,
          0.007217212993396716,
          0.014111588056819706,
          0.01205390934113199,
          0.02526580132677294,
          0.009446752147556246,
          0.008338750640336477,
          0.0216376500857633,
          0.015398403198829127,
          0.020218196703032272,
          0.01299437275785596,
          0.008525452912668194,
          0.02409028649968003,
          0.0045756316489361445,
          0.011211181307584944,
          0.016353320148627597,
          0.008966558330087374,
          0.0038833690151809375,
          0.019839324570412847,
          0.008732748941545194,
          0.015709331872435645,
          0.012418972985957651,
          0.014568696862424874,
          0.016049451822112464,
          0.011779308479251396,
          0.004736351071181831,
          0.020159466011766786,
          0.003051059249321409,
          0.015500565449294106,
          0.017916531604538037,
          0.011426364450532052,
          0.0016144607212564416,
          0.012072208721106821,
          0.014631186623859697,
          0.011013047138047108,
          0.014861605554145361,
          0.0025274310728251037,
          0.013395965688057952,
          0.015042673856452166,
          0.011196704378948392,
          0.008769616054426763,
          0.012813116198852784,
          0.010992650376386172,
          0.017105959559405172,
          0.010479316472435718,
          0.021277037648780434,
          0.00031593268443676215,
          0.015181552768166077,
          0.013681241093405861,
          0.020378975990149747,
          0.01437198854176873,
          0.012304545281386272,
          0.01700038739237103,
          0.0008033394403731998,
          0.016818363273453093,
          0.006263094692255625,
          0.012098113617212691,
          0.012463545871911064,
          0.012601394645392928,
          0.012113122603985841,
          0.011046634021010134,
          0.008791904190079549,
          0.007404654654654723,
          0.018640955444046436,
          0.00832458145532397,
          0.002318733014602281,
          0.016388933717579268,
          0.003783545365755897,
          0.01110423251753517,
          0.02361784887869351,
          0.011076802552488316,
          0.014971742952309314,
          0.014200344366050362,
          0.011772332659366447,
          0.006637604501472072,
          0.020373845697664605,
          0.016765078339525126,
          0.009273964379828418,
          0.02121106910128879,
          0.01817649787901936,
          0.017976867918457345,
          0.014257552483358884,
          0.01726494020458318,
          0.012860369304080174,
          0.0019171042755725329,
          0.0064123517012564454,
          0.009834083346537806,
          0.024234297632265988,
          0.0010668840209137865,
          0.020199710102201302,
          0.016500941677539994,
          0.01978471593765698,
          0.00815969270741454,
          0.015246087692090795,
          0.010884299274092003,
          0.012092768102728274,
          0.011999668922286847,
          0.005904086232805458,
          0.0074360728588919525,
          0.021618811503547154,
          0.016425690819134087,
          0.010725086454741989,
          0.0029518784927277733,
          0.022715776879097177,
          -0.001220523793981845,
          0.001527814643984285,
          0.018096854131358142,
          0.01207404315600423,
          0.016506155651343925,
          0.008394907877463154,
          0.013837656670326364,
          0.007790467351148352,
          0.015259693444531462,
          0.006953079789377453,
          0.01132252394453341,
          0.011112971770550706,
          0.010418085301739044,
          -0.0026223592660770817,
          0.007175100177057192,
          0.016271215320344937,
          0.010830100288558783,
          0.00382153724138457,
          0.01680809898762651,
          0.007243985098746542,
          0.014703804152511135,
          0.014969900810687019,
          0.010432185162192568,
          0.010129696152218957,
          0.008708072899945025,
          0.01457737104825288,
          0.01055233210450394,
          0.013496967911686667,
          0.006137485999389039,
          0.016489232680433494,
          0.015029702401470772,
          0.012231905535902067,
          -0.004010089411559795,
          0.008920795252163154,
          0.0008346472274762392,
          0.012929007452037365,
          0.005426593820241396,
          0.013947222470703978,
          0.018279550539935782,
          -0.0008048850035998201,
          0.01880828731103703,
          0.009579593855669956,
          0.016327272355556338,
          0.017539235721368486,
          0.009514314715049647,
          0.012512780427311472,
          0.011032135740807343,
          0.011220831570906316,
          0.0181087364437236,
          0.014540773055919994,
          0.018471103443699823,
          0.013688015063702794,
          0.011672662277107414,
          0.013144911393198514,
          0.007595207113424415,
          0.013788846008763019,
          0.015015066553700097,
          0.021983130868908872,
          0.011095657005278273,
          0.011367650446963432,
          0.011604483901535845,
          0.011982112357437125,
          0.014267992839869625,
          0.016267279026546604,
          0.02155591983590573,
          0.020535357649674735,
          0.015428370678235746,
          0.005575601360777893,
          0.01484476948748737,
          0.015854220531383113,
          0.01526355541465741,
          0.014981235481711819,
          0.015212742825143132,
          0.009571017873941691,
          0.013990221933141062,
          0.009869703887732457,
          -0.0005287194979888069,
          0.009032711531981465,
          0.014399692638861336,
          0.018145797335776776,
          0.007656518133392923,
          0.016010576314122865,
          0.020479521645841204,
          0.016065601450175798,
          0.003568627559269212,
          0.018492237640859034,
          0.01135868929198365,
          0.004089550779340142,
          0.011228159613807074,
          0.015338097511487774,
          0.007640746276301041,
          0.007865104128632207,
          0.01981726917207173,
          0.021934379011817398,
          0.0064091010531988415,
          0.01500996767825767,
          0.01334181975375548,
          0.011194371749876506,
          0.0064940509522306705,
          0.01456670038261857,
          0.013711993760044162,
          -0.0006543977055450054,
          0.004670262779667138,
          0.019019615036197927,
          0.017042350386100462,
          0.0011361320562462834,
          0.016046950870855618,
          0.011608951095171856,
          0.015143978103575123,
          0.02247479416437959,
          0.018642340424102805,
          0.016719148778316373,
          0.018189967535137748,
          0.014991915313148,
          0.010754923679319354,
          0.008252547877701792,
          0.025562947037340848,
          0.01652816623762153,
          0.012353815437843758,
          0.008561628306149732,
          0.0019093255562373612,
          0.018033997299250287,
          0.014146321933832744,
          0.0012229462676000662,
          0.01969748792806483,
          0.009854592607513413,
          0.004781221182016512,
          0.009915593305732549,
          0.0028854154092465625,
          0.01520638137533927,
          0.006124418009125644,
          0.015084999635766733,
          -0.001327303381249441,
          0.01266935355781439,
          0.02465282503269764,
          0.014314728011603009,
          0.006195482864832628,
          0.0061145668588023505,
          0.0071291776998496925,
          0.023430827939329553,
          0.013697422142750727,
          0.012218934510378136,
          0.019205002422842888,
          0.007938220657846846,
          0.012935364792428,
          0.008074568998285327,
          0.013938775510204088,
          0.0055880495452422935,
          0.017420469685804074,
          0.008963517446723135,
          0.003805108910222833,
          0.014672625187092381,
          0.006535978802053563,
          0.010203036497871047,
          0.010398406146084128,
          0.009130059970014967,
          0.006737285578090359,
          0.0044952771158692124,
          0.011732304793310555,
          0.015442423690834017,
          0.010769950277759066,
          0.007191038138050046,
          -0.0015582074659996892,
          0.007471525956387896,
          0.010855833781665915,
          0.019474478355768376,
          0.012620360224075651,
          -0.0016216305935467029,
          0.008928327645051283,
          0.01127862517244078,
          0.011070224434221964,
          -0.003674959881611692,
          0.019600738953837543,
          0.018751464421922194,
          0.01736460068449075,
          0.014736263996028648,
          0.018419758874483494,
          0.019545483812618364,
          0.02336123474617309,
          0.011975292364454201,
          0.018887964799386432,
          0.018121603914350883,
          0.015264484477209052,
          0.008902953488776025,
          0.00829632405614074,
          0.00988227658793979,
          0.00628241332237349,
          0.01629666562075434,
          0.018067419390815867,
          0.010924085869780935,
          0.016490277280381646,
          0.017478213180550928,
          0.01720688971532142,
          0.012877230239554657,
          0.017910821927522864,
          0.020177976430096126,
          0.021394826212969308,
          0.01294140417127583,
          0.006371151879103844,
          0.012114024723091718,
          0.017160229562082515,
          0.010155194369197346,
          0.02164116285796932,
          0.010784400005276806,
          0.008451454677297222,
          0.008222842769118808,
          0.015912013813616926,
          0.012051119327688375,
          0.01608809026397473,
          0.012258315001047546,
          0.009215135645760396,
          0.008373200428833931,
          0.008240621264536212,
          0.02000089250297498,
          0.017173249236205564,
          0.006700129406301034,
          0.01453344297938916,
          0.0017488818310888252,
          0.009014165943914415,
          0.01956117892973118,
          0.017682195445262998,
          0.010402710228903517,
          0.016350920401129645,
          0.01601896499296534,
          0.015698921722380965,
          0.0121513328717327,
          0.010251432318944851,
          0.014084010434048277,
          0.015578822014041085,
          0.007017986289778413,
          0.01704983660599927,
          0.006764628261486674,
          0.00968508560872014,
          0.010837099226091822,
          0.01882107588818363,
          0.01681107527589453,
          0.014514945638949188,
          0.005624087573878139,
          0.012358716569271583,
          0.011829737902689087,
          0.012307727166476198,
          0.0231373235611912,
          0.023114311009506696,
          0.013459932020344137,
          0.02329566531086585,
          0.013172825151590864,
          0.01995546491231727,
          0.014758497536057257,
          0.00902923365731069,
          0.014683429729413493,
          0.009436631836205411,
          0.009613028662533642,
          0.009311551516410763,
          0.012861147927419003,
          0.009256912442396292,
          0.010761769696770949,
          0.012161951568545468,
          0.01110175958430782,
          0.015120087785582003,
          0.015552695743273788,
          0.003601798993465001,
          0.018431956619390982,
          0.007211545018608148,
          0.01672286739522582,
          0.005853133000121882,
          0.00559812856729533,
          0.009962788882478707,
          0.0149719498529206,
          0.01124508558188212,
          0.015224588152109388,
          0.006962170458649329,
          0.007384091667683203,
          0.008168429212024847,
          0.015695878930391094,
          0.009839586586564617,
          0.022598075100797057,
          0.019143154886434567,
          0.014898048253760308,
          0.01445361289595316,
          -0.0036560133948625936,
          0.012069574011508367,
          0.008873423085498556,
          0.010162405958400386,
          0.010422952808756651,
          0.010362356414846327,
          0.02423617568533528,
          0.020943357800076744,
          0.011309335569832761,
          0.011676321711482893,
          0.006270419618655357,
          0.00021022986653781994,
          0.02363747931507141,
          0.014507050685797331,
          0.016859777226968978,
          0.0142176857352807,
          0.022601606275681755,
          0.01254016069202997,
          0.013182012540413806,
          0.017302273308582458,
          0.022056787430464544,
          0.013271577597672356,
          0.014018613138075729,
          0.0040202858667117355,
          0.01643605043729967,
          0.01291709976679821,
          0.009564400468173917,
          0.00955461034110712,
          0.018722024392169946,
          0.0024524340920163146,
          -0.0030683628822175714,
          0.012812683183596327,
          0.019046977090132648,
          -0.0012239611368284886,
          0.003508798295330247,
          0.018663561512110075,
          0.010419093624371288,
          0.01673812671135867,
          -0.00345933164837698,
          0.0176053734428961,
          0.007613399593562352,
          0.021134969712266485,
          0.011578430115112087,
          0.018337318493074344,
          0.014941983137812026,
          0.005213892616916571,
          0.01417338685179402,
          0.015326691033048432,
          0.009518043530577135,
          0.00909591866960048,
          0.008307446165407392,
          0.016202608099755392,
          0.008216576299335636,
          0.016573419631062562,
          0.013873435922014326,
          0.007614634773043029,
          0.011102091563699554,
          0.014388125278026714,
          0.008034561604080604,
          0.014513639411063067,
          0.015559678609679179,
          0.017070156851003056,
          0.007249891624793826,
          0.011352430092221994,
          0.009572837903966853,
          0.01869310579039732,
          0.006619245152183099,
          0.0229779063049182,
          0.01417968214699333,
          0.008860414566532198,
          0.008646971555733032,
          0.00749172966058859,
          0.015106189514470847,
          0.022577079462321334,
          0.014455762665671211,
          0.01834935462074823,
          0.014906636839246298,
          0.013709038862897982,
          0.003145385152049811,
          0.009196583218245225,
          0.01250162932790231,
          0.020079103883329487,
          0.007782135476086427,
          0.011685733846169381,
          0.019145258202962707,
          0.013863375665710782,
          0.00786479047684583,
          0.012620889138998326,
          0.01708692627673637,
          0.0022014564050876068,
          0.0135646779000459,
          0.02237235759460932,
          0.0077943373754872335,
          0.003810795718939036,
          0.0049506370220823055,
          0.007147280353454931,
          0.01085243640024891,
          0.015805329924222688,
          0.007913262600706898,
          0.011887875529622642,
          0.015435283602280442,
          0.0146654617093049,
          0.018680636067138115,
          0.01928717557826586,
          0.00897312607374471,
          0.01980962565098858,
          0.015795262863418764,
          0.013148318804662107,
          0.02265139951473353,
          0.004608304289508175,
          0.013247470973061445,
          0.01253486159917619,
          0.030299305770257745,
          0.014828378184759263,
          0.010308685303264587,
          0.02140255369163371,
          0.010775423625383813,
          0.003772330023867225,
          0.02244112770018831,
          0.013906508264462792,
          0.014853370339070596,
          0.013410999076045486,
          0.011144969069614562,
          0.013509892401815408,
          0.019124727704019205,
          0.009239891653378268,
          0.023013810001840624,
          0.018629384734805347,
          0.013782453936348412,
          0.022094590328808793,
          0.020498704550085872,
          0.008952556053811674,
          0.012338519425564382,
          -0.004029462350502812,
          0.006215025822587428,
          0.016657123672323214,
          0.005838278709996686,
          0.004627031891093175,
          0.015359723199624739,
          0.013373894783377492,
          0.011411909035852923,
          0.011803897685749083,
          0.0004010406635443463,
          0.00552576566092363,
          0.017323889934703955,
          0.024486903166274922,
          0.0234647205102917,
          0.011302066903081671,
          -0.0015991843689063083,
          0.014445267538293548,
          0.0036659542650763106,
          0.017791020151326817,
          0.009075612576509705,
          0.0032163000290725344,
          0.013763870149147327,
          0.017201886753893475,
          0.0076490536026720506,
          0.01004967648555215,
          0.020014389344256672,
          0.009695971635108366,
          0.013850591806030273,
          0.014216824997855492,
          0.016609629861704826,
          0.006385354207156538,
          0.013604772433438855,
          0.014113712085040697,
          0.015654955906275872,
          0.006347776545457396,
          0.004952211817888283,
          0.008360618140855734,
          0.005935205794695704,
          0.01695086574199981,
          0.009397823085668111,
          0.009722831464670852,
          0.013678668638873934,
          0.023012061587906658,
          0.006905495758022316,
          0.013243725279975572,
          0.009779356158439577,
          0.005347127950562226,
          0.0049565348129586295,
          0.015459001918461328,
          0.012768628661561109,
          0.017048941653604467,
          0.012916568811648613,
          0.015793589951971006,
          0.011951518854946212,
          0.008032501816057639,
          0.012651640146536546,
          0.023402459630497547,
          0.022452184746931073,
          0.012574701671468336,
          0.007399615152960993,
          0.017131840215835845,
          0.011518430329271728,
          0.019521608378234093,
          0.018410870971916637,
          -0.00044444052888271794,
          0.008348946432509274,
          0.014420748348016831,
          0.0023473189670641876,
          0.003765017667844525,
          0.010681627407721078,
          0.009704558486238574,
          0.011994929006085238,
          0.007289625830385227,
          0.014279033067929214,
          0.006970831927366056,
          0.0008976652778577279,
          0.01303786725608358,
          0.01429198202531793,
          0.020908416098101894,
          0.016368607954545443,
          -0.008338250842620742,
          0.015072181129647862,
          0.003925944023443175,
          0.010407564988862535,
          0.019804466763578676,
          0.009129002788729738,
          0.01953947319239536,
          0.011441489792065565,
          0.011346316822675999,
          0.0003791150908612371,
          0.007469079419522625,
          0.014381460434449378,
          0.019103443321436406,
          0.015499018428030769,
          0.009703796761585743,
          0.01499993362821367,
          0.0014894671427101158,
          0.008479539056819679,
          0.019846411745662314,
          0.01753301989747462,
          0.016518254674977712,
          0.012368683418674063,
          0.015631708675740555,
          0.0033646220374919378,
          0.016588543308383163,
          0.02058995294918406,
          0.005140205056739081,
          0.021461187596152457,
          0.014767476562470818,
          0.016628647949759857,
          0.013960007055235662,
          0.009639435697897838,
          0.014176080464825568,
          0.013280534622289952,
          0.009351370951995744,
          0.013615049097582476,
          0.01984540028276829,
          0.01241884624515784,
          0.008135668461450397,
          0.017589827979638414,
          0.007243938982153093,
          0.012243188357821256,
          0.013584430910552447,
          0.009500107666703948,
          0.007428750198663979,
          0.018999127037685977,
          0.011974901525098443,
          0.017045437332719855,
          0.016274059779458193,
          0.007797213699587788,
          0.01756115238035786,
          0.02269408480093942,
          0.008325272121568448,
          0.01617293930038729,
          0.019591542592970305,
          0.006862339091923769,
          0.008883280286453202,
          0.011641697395602016,
          0.01784730570356179,
          0.011046755619532668,
          0.015541338519911959,
          0.006791876251317518,
          0.016459988686643258,
          0.014204713765916019,
          0.009575558567939933,
          0.01280800661663048,
          0.01377698185038095,
          0.010412186135371024,
          0.0007435226380528518,
          0.009120719209986902,
          0.015550072749813442,
          0.010849925797674916,
          0.011136589908900759,
          0.009947757078073223,
          0.01504019282078145,
          0.012387856136653013,
          0.022059957961114048,
          0.0028761806342644802,
          0.005658338196673496,
          0.020119269325157223,
          0.018398624951971393,
          0.011400319177342084,
          -0.0003645872103659395,
          -0.009091241903689123,
          0.01788113495614291,
          0.01015648622168579,
          0.010754044995971677,
          0.008178709080965667,
          0.014821713874868032,
          0.009635789674062527,
          0.016766607328933678,
          0.004592218820889185,
          0.0011435820876395837,
          0.012503529145308143,
          0.0051383305041842,
          0.018896885230768018,
          0.018854248956401403,
          0.02154609221749576,
          0.017926389497576516,
          0.021270597527460723,
          0.009876582340015864,
          0.0034611055455944038,
          0.008898018333782716,
          0.0083142326224585,
          0.011181422728669736,
          0.005972206305298544,
          0.013843414225941411,
          0.010082065856635057,
          0.014608910898966994,
          0.016047003441511304,
          0.01729653338183408,
          0.019637859701607252,
          -0.0007351867447787652,
          0.011161984298317062,
          0.011407951763101977,
          0.0234690515961396,
          0.004745521708515691,
          0.008031408689110365,
          0.02147825588477658,
          3.407240129922606e-05,
          0.014234342579946614,
          0.0076051628993255745,
          0.01950642247217128,
          0.011242687260798205,
          0.009904878877361762,
          0.011214568758730838,
          0.011229547642616907,
          0.015636132447581507,
          0.008415586578224343,
          0.014064490564932326,
          0.019201168192335447,
          0.02133612204938069,
          0.0020818166471234453,
          0.008017771566641227,
          0.01714981781430352,
          0.002698450762215341,
          0.025469293679278825,
          0.005546203641357578,
          0.0201270398400379,
          0.01660506487674955,
          0.0074352788938238275,
          0.013207612389390411,
          0.014515767133168347,
          0.022273992251863467,
          0.011408810862543375,
          0.015204050430193572,
          0.023510247241780587,
          0.014904905777525457,
          0.0067750463850232145,
          0.0205362898149314,
          0.019647473498605555,
          0.016146628710419438,
          0.012697596340988779,
          -0.0056225256081183644,
          0.015034265947089696,
          0.012223373594882847,
          0.023436397801288672,
          0.01177146525714553,
          0.012474119951491426,
          0.013637027942254026,
          0.021995185301282975,
          0.004642948197013934,
          0.019318290634357735,
          0.012878386709497407,
          0.006753413889138422,
          0.009363474380883047,
          0.02024612052971269,
          0.021289602506363813,
          0.012921602934951329,
          0.011079680854803022,
          0.016090813005402067,
          0.009857076727230678,
          0.012818588968108812,
          0.0021584224647428277,
          0.01703704452385297,
          0.007785454399694164,
          0.011245411180818517,
          0.016235397965054438,
          0.014401110103610795,
          0.008955142835954912,
          0.012537322044895011,
          0.0067344920508128105,
          0.015761384639910656,
          0.012946383564446714,
          0.0040517301069891085,
          0.027699769030529026,
          0.015534197980826107,
          0.018211072583152868,
          0.005652748821677531,
          0.008385351686713408,
          0.011604413525629933,
          0.017011795036280815,
          0.005454719431344407,
          0.004171803026611999,
          0.014748769902349173,
          0.019243647838378855,
          0.01571006499667894,
          0.025933524313206918,
          0.010032115020084699,
          0.01756659815207611,
          0.014160821044525942,
          0.003512582754400067,
          0.016720703199191687,
          0.019094446736079074,
          0.008413119142147159,
          0.006137019230769206,
          0.014683633153073628,
          0.012860480787312738,
          0.020891471066697496,
          0.019417683785524317,
          0.005462001785174602,
          0.017638521465085412,
          0.017719201535554143,
          0.016128375770819638,
          0.016030925877231466,
          0.01824259422742098,
          0.00845870992808874,
          0.004600741425806833,
          0.017565861050337594,
          0.01062279800829452,
          0.019011777400955797,
          0.009503580399771325,
          0.009842561687924696,
          0.007908080187481785,
          0.018390142000749943,
          0.014515906282212554,
          0.015449475926671528,
          0.017160739471251574,
          0.013791872239794816,
          0.014169313338595094,
          0.0044888648073097195,
          0.018443007310134103,
          0.019702492236038344,
          0.022221575622879873,
          0.007233627892449114,
          0.020148649960956097,
          0.0009709199604203984,
          0.010688944949781997,
          0.004705794264447637,
          0.01971651997220524,
          0.005393169403788594,
          0.015611419225945491,
          0.01661700158646212,
          0.009847748883033546,
          0.005780100457619272,
          0.008999218730926073,
          0.006306872750315608,
          0.013102178887672813,
          0.0035638227853308155,
          0.0068072358509337905,
          0.011575646574320742,
          0.0055759169783873245,
          0.0008401270576184946,
          0.02045230416731038,
          0.006424624966722234,
          0.017943980376944585,
          0.01181949385100112,
          0.009041838172325158,
          0.007172119528959561,
          0.013702136243948115,
          0.0038039078691743107,
          0.008925364700964026,
          0.013460459236781533,
          0.013503371441992262,
          0.0018289184641629812,
          0.014517992263452767,
          0.009149051091306442,
          0.01354956301799199,
          0.011630606402224025,
          0.010104844872652431,
          0.009642016731534898,
          0.015546215902941862,
          0.0037528106786988875,
          0.006292673475876332,
          0.015564174825545344,
          0.013987093154629496,
          0.011151510774362043,
          0.019525584738168428,
          0.017685919649714842,
          0.0018711116413794842,
          0.012811499185668922,
          0.01544449197539894,
          0.009779953298753447,
          0.014288054139650692,
          0.00960830493004848,
          0.008203643833144036,
          0.017925484077059115,
          0.011661642890013847,
          0.01639834603280188,
          0.006855022950345124,
          0.012260031324582366,
          0.013693103125584905,
          0.02058106351248663,
          0.01393571428571419,
          0.004581474315512119,
          0.016448569183258734,
          0.008144224910784183,
          0.0006004304490187136,
          0.007606735295113645,
          0.011694519426497858,
          0.010517131089072419,
          0.009211439716842441,
          0.0073629874162632995,
          0.024586041859465148,
          0.019920135361513425,
          0.007053987122337811,
          0.004448228584714067,
          0.011588897308613528,
          0.01061688918592922,
          0.009914170729819677,
          0.004667492279047877,
          0.014048472413215975
         ],
         "xaxis": "x",
         "yaxis": "y"
        }
       ],
       "layout": {
        "barmode": "relative",
        "legend": {
         "title": {
          "text": "variable"
         },
         "tracegroupgap": 0
        },
        "template": {
         "data": {
          "bar": [
           {
            "error_x": {
             "color": "#2a3f5f"
            },
            "error_y": {
             "color": "#2a3f5f"
            },
            "marker": {
             "line": {
              "color": "#E5ECF6",
              "width": 0.5
             },
             "pattern": {
              "fillmode": "overlay",
              "size": 10,
              "solidity": 0.2
             }
            },
            "type": "bar"
           }
          ],
          "barpolar": [
           {
            "marker": {
             "line": {
              "color": "#E5ECF6",
              "width": 0.5
             },
             "pattern": {
              "fillmode": "overlay",
              "size": 10,
              "solidity": 0.2
             }
            },
            "type": "barpolar"
           }
          ],
          "carpet": [
           {
            "aaxis": {
             "endlinecolor": "#2a3f5f",
             "gridcolor": "white",
             "linecolor": "white",
             "minorgridcolor": "white",
             "startlinecolor": "#2a3f5f"
            },
            "baxis": {
             "endlinecolor": "#2a3f5f",
             "gridcolor": "white",
             "linecolor": "white",
             "minorgridcolor": "white",
             "startlinecolor": "#2a3f5f"
            },
            "type": "carpet"
           }
          ],
          "choropleth": [
           {
            "colorbar": {
             "outlinewidth": 0,
             "ticks": ""
            },
            "type": "choropleth"
           }
          ],
          "contour": [
           {
            "colorbar": {
             "outlinewidth": 0,
             "ticks": ""
            },
            "colorscale": [
             [
              0,
              "#0d0887"
             ],
             [
              0.1111111111111111,
              "#46039f"
             ],
             [
              0.2222222222222222,
              "#7201a8"
             ],
             [
              0.3333333333333333,
              "#9c179e"
             ],
             [
              0.4444444444444444,
              "#bd3786"
             ],
             [
              0.5555555555555556,
              "#d8576b"
             ],
             [
              0.6666666666666666,
              "#ed7953"
             ],
             [
              0.7777777777777778,
              "#fb9f3a"
             ],
             [
              0.8888888888888888,
              "#fdca26"
             ],
             [
              1,
              "#f0f921"
             ]
            ],
            "type": "contour"
           }
          ],
          "contourcarpet": [
           {
            "colorbar": {
             "outlinewidth": 0,
             "ticks": ""
            },
            "type": "contourcarpet"
           }
          ],
          "heatmap": [
           {
            "colorbar": {
             "outlinewidth": 0,
             "ticks": ""
            },
            "colorscale": [
             [
              0,
              "#0d0887"
             ],
             [
              0.1111111111111111,
              "#46039f"
             ],
             [
              0.2222222222222222,
              "#7201a8"
             ],
             [
              0.3333333333333333,
              "#9c179e"
             ],
             [
              0.4444444444444444,
              "#bd3786"
             ],
             [
              0.5555555555555556,
              "#d8576b"
             ],
             [
              0.6666666666666666,
              "#ed7953"
             ],
             [
              0.7777777777777778,
              "#fb9f3a"
             ],
             [
              0.8888888888888888,
              "#fdca26"
             ],
             [
              1,
              "#f0f921"
             ]
            ],
            "type": "heatmap"
           }
          ],
          "heatmapgl": [
           {
            "colorbar": {
             "outlinewidth": 0,
             "ticks": ""
            },
            "colorscale": [
             [
              0,
              "#0d0887"
             ],
             [
              0.1111111111111111,
              "#46039f"
             ],
             [
              0.2222222222222222,
              "#7201a8"
             ],
             [
              0.3333333333333333,
              "#9c179e"
             ],
             [
              0.4444444444444444,
              "#bd3786"
             ],
             [
              0.5555555555555556,
              "#d8576b"
             ],
             [
              0.6666666666666666,
              "#ed7953"
             ],
             [
              0.7777777777777778,
              "#fb9f3a"
             ],
             [
              0.8888888888888888,
              "#fdca26"
             ],
             [
              1,
              "#f0f921"
             ]
            ],
            "type": "heatmapgl"
           }
          ],
          "histogram": [
           {
            "marker": {
             "pattern": {
              "fillmode": "overlay",
              "size": 10,
              "solidity": 0.2
             }
            },
            "type": "histogram"
           }
          ],
          "histogram2d": [
           {
            "colorbar": {
             "outlinewidth": 0,
             "ticks": ""
            },
            "colorscale": [
             [
              0,
              "#0d0887"
             ],
             [
              0.1111111111111111,
              "#46039f"
             ],
             [
              0.2222222222222222,
              "#7201a8"
             ],
             [
              0.3333333333333333,
              "#9c179e"
             ],
             [
              0.4444444444444444,
              "#bd3786"
             ],
             [
              0.5555555555555556,
              "#d8576b"
             ],
             [
              0.6666666666666666,
              "#ed7953"
             ],
             [
              0.7777777777777778,
              "#fb9f3a"
             ],
             [
              0.8888888888888888,
              "#fdca26"
             ],
             [
              1,
              "#f0f921"
             ]
            ],
            "type": "histogram2d"
           }
          ],
          "histogram2dcontour": [
           {
            "colorbar": {
             "outlinewidth": 0,
             "ticks": ""
            },
            "colorscale": [
             [
              0,
              "#0d0887"
             ],
             [
              0.1111111111111111,
              "#46039f"
             ],
             [
              0.2222222222222222,
              "#7201a8"
             ],
             [
              0.3333333333333333,
              "#9c179e"
             ],
             [
              0.4444444444444444,
              "#bd3786"
             ],
             [
              0.5555555555555556,
              "#d8576b"
             ],
             [
              0.6666666666666666,
              "#ed7953"
             ],
             [
              0.7777777777777778,
              "#fb9f3a"
             ],
             [
              0.8888888888888888,
              "#fdca26"
             ],
             [
              1,
              "#f0f921"
             ]
            ],
            "type": "histogram2dcontour"
           }
          ],
          "mesh3d": [
           {
            "colorbar": {
             "outlinewidth": 0,
             "ticks": ""
            },
            "type": "mesh3d"
           }
          ],
          "parcoords": [
           {
            "line": {
             "colorbar": {
              "outlinewidth": 0,
              "ticks": ""
             }
            },
            "type": "parcoords"
           }
          ],
          "pie": [
           {
            "automargin": true,
            "type": "pie"
           }
          ],
          "scatter": [
           {
            "fillpattern": {
             "fillmode": "overlay",
             "size": 10,
             "solidity": 0.2
            },
            "type": "scatter"
           }
          ],
          "scatter3d": [
           {
            "line": {
             "colorbar": {
              "outlinewidth": 0,
              "ticks": ""
             }
            },
            "marker": {
             "colorbar": {
              "outlinewidth": 0,
              "ticks": ""
             }
            },
            "type": "scatter3d"
           }
          ],
          "scattercarpet": [
           {
            "marker": {
             "colorbar": {
              "outlinewidth": 0,
              "ticks": ""
             }
            },
            "type": "scattercarpet"
           }
          ],
          "scattergeo": [
           {
            "marker": {
             "colorbar": {
              "outlinewidth": 0,
              "ticks": ""
             }
            },
            "type": "scattergeo"
           }
          ],
          "scattergl": [
           {
            "marker": {
             "colorbar": {
              "outlinewidth": 0,
              "ticks": ""
             }
            },
            "type": "scattergl"
           }
          ],
          "scattermapbox": [
           {
            "marker": {
             "colorbar": {
              "outlinewidth": 0,
              "ticks": ""
             }
            },
            "type": "scattermapbox"
           }
          ],
          "scatterpolar": [
           {
            "marker": {
             "colorbar": {
              "outlinewidth": 0,
              "ticks": ""
             }
            },
            "type": "scatterpolar"
           }
          ],
          "scatterpolargl": [
           {
            "marker": {
             "colorbar": {
              "outlinewidth": 0,
              "ticks": ""
             }
            },
            "type": "scatterpolargl"
           }
          ],
          "scatterternary": [
           {
            "marker": {
             "colorbar": {
              "outlinewidth": 0,
              "ticks": ""
             }
            },
            "type": "scatterternary"
           }
          ],
          "surface": [
           {
            "colorbar": {
             "outlinewidth": 0,
             "ticks": ""
            },
            "colorscale": [
             [
              0,
              "#0d0887"
             ],
             [
              0.1111111111111111,
              "#46039f"
             ],
             [
              0.2222222222222222,
              "#7201a8"
             ],
             [
              0.3333333333333333,
              "#9c179e"
             ],
             [
              0.4444444444444444,
              "#bd3786"
             ],
             [
              0.5555555555555556,
              "#d8576b"
             ],
             [
              0.6666666666666666,
              "#ed7953"
             ],
             [
              0.7777777777777778,
              "#fb9f3a"
             ],
             [
              0.8888888888888888,
              "#fdca26"
             ],
             [
              1,
              "#f0f921"
             ]
            ],
            "type": "surface"
           }
          ],
          "table": [
           {
            "cells": {
             "fill": {
              "color": "#EBF0F8"
             },
             "line": {
              "color": "white"
             }
            },
            "header": {
             "fill": {
              "color": "#C8D4E3"
             },
             "line": {
              "color": "white"
             }
            },
            "type": "table"
           }
          ]
         },
         "layout": {
          "annotationdefaults": {
           "arrowcolor": "#2a3f5f",
           "arrowhead": 0,
           "arrowwidth": 1
          },
          "autotypenumbers": "strict",
          "coloraxis": {
           "colorbar": {
            "outlinewidth": 0,
            "ticks": ""
           }
          },
          "colorscale": {
           "diverging": [
            [
             0,
             "#8e0152"
            ],
            [
             0.1,
             "#c51b7d"
            ],
            [
             0.2,
             "#de77ae"
            ],
            [
             0.3,
             "#f1b6da"
            ],
            [
             0.4,
             "#fde0ef"
            ],
            [
             0.5,
             "#f7f7f7"
            ],
            [
             0.6,
             "#e6f5d0"
            ],
            [
             0.7,
             "#b8e186"
            ],
            [
             0.8,
             "#7fbc41"
            ],
            [
             0.9,
             "#4d9221"
            ],
            [
             1,
             "#276419"
            ]
           ],
           "sequential": [
            [
             0,
             "#0d0887"
            ],
            [
             0.1111111111111111,
             "#46039f"
            ],
            [
             0.2222222222222222,
             "#7201a8"
            ],
            [
             0.3333333333333333,
             "#9c179e"
            ],
            [
             0.4444444444444444,
             "#bd3786"
            ],
            [
             0.5555555555555556,
             "#d8576b"
            ],
            [
             0.6666666666666666,
             "#ed7953"
            ],
            [
             0.7777777777777778,
             "#fb9f3a"
            ],
            [
             0.8888888888888888,
             "#fdca26"
            ],
            [
             1,
             "#f0f921"
            ]
           ],
           "sequentialminus": [
            [
             0,
             "#0d0887"
            ],
            [
             0.1111111111111111,
             "#46039f"
            ],
            [
             0.2222222222222222,
             "#7201a8"
            ],
            [
             0.3333333333333333,
             "#9c179e"
            ],
            [
             0.4444444444444444,
             "#bd3786"
            ],
            [
             0.5555555555555556,
             "#d8576b"
            ],
            [
             0.6666666666666666,
             "#ed7953"
            ],
            [
             0.7777777777777778,
             "#fb9f3a"
            ],
            [
             0.8888888888888888,
             "#fdca26"
            ],
            [
             1,
             "#f0f921"
            ]
           ]
          },
          "colorway": [
           "#636efa",
           "#EF553B",
           "#00cc96",
           "#ab63fa",
           "#FFA15A",
           "#19d3f3",
           "#FF6692",
           "#B6E880",
           "#FF97FF",
           "#FECB52"
          ],
          "font": {
           "color": "#2a3f5f"
          },
          "geo": {
           "bgcolor": "white",
           "lakecolor": "white",
           "landcolor": "#E5ECF6",
           "showlakes": true,
           "showland": true,
           "subunitcolor": "white"
          },
          "hoverlabel": {
           "align": "left"
          },
          "hovermode": "closest",
          "mapbox": {
           "style": "light"
          },
          "paper_bgcolor": "white",
          "plot_bgcolor": "#E5ECF6",
          "polar": {
           "angularaxis": {
            "gridcolor": "white",
            "linecolor": "white",
            "ticks": ""
           },
           "bgcolor": "#E5ECF6",
           "radialaxis": {
            "gridcolor": "white",
            "linecolor": "white",
            "ticks": ""
           }
          },
          "scene": {
           "xaxis": {
            "backgroundcolor": "#E5ECF6",
            "gridcolor": "white",
            "gridwidth": 2,
            "linecolor": "white",
            "showbackground": true,
            "ticks": "",
            "zerolinecolor": "white"
           },
           "yaxis": {
            "backgroundcolor": "#E5ECF6",
            "gridcolor": "white",
            "gridwidth": 2,
            "linecolor": "white",
            "showbackground": true,
            "ticks": "",
            "zerolinecolor": "white"
           },
           "zaxis": {
            "backgroundcolor": "#E5ECF6",
            "gridcolor": "white",
            "gridwidth": 2,
            "linecolor": "white",
            "showbackground": true,
            "ticks": "",
            "zerolinecolor": "white"
           }
          },
          "shapedefaults": {
           "line": {
            "color": "#2a3f5f"
           }
          },
          "ternary": {
           "aaxis": {
            "gridcolor": "white",
            "linecolor": "white",
            "ticks": ""
           },
           "baxis": {
            "gridcolor": "white",
            "linecolor": "white",
            "ticks": ""
           },
           "bgcolor": "#E5ECF6",
           "caxis": {
            "gridcolor": "white",
            "linecolor": "white",
            "ticks": ""
           }
          },
          "title": {
           "x": 0.05
          },
          "xaxis": {
           "automargin": true,
           "gridcolor": "white",
           "linecolor": "white",
           "ticks": "",
           "title": {
            "standoff": 15
           },
           "zerolinecolor": "white",
           "zerolinewidth": 2
          },
          "yaxis": {
           "automargin": true,
           "gridcolor": "white",
           "linecolor": "white",
           "ticks": "",
           "title": {
            "standoff": 15
           },
           "zerolinecolor": "white",
           "zerolinewidth": 2
          }
         }
        },
        "title": {
         "text": "Bootstrapped Sampling Distribution of Slope Coefficients"
        },
        "xaxis": {
         "anchor": "y",
         "domain": [
          0,
          1
         ],
         "title": {
          "text": "value"
         }
        },
        "yaxis": {
         "anchor": "x",
         "domain": [
          0,
          1
         ],
         "title": {
          "text": "count"
         }
        }
       }
      },
      "text/html": [
       "<div>                            <div id=\"4ddacdbb-bf4b-49a3-a8f9-b32c751e1753\" class=\"plotly-graph-div\" style=\"height:525px; width:100%;\"></div>            <script type=\"text/javascript\">                require([\"plotly\"], function(Plotly) {                    window.PLOTLYENV=window.PLOTLYENV || {};                                    if (document.getElementById(\"4ddacdbb-bf4b-49a3-a8f9-b32c751e1753\")) {                    Plotly.newPlot(                        \"4ddacdbb-bf4b-49a3-a8f9-b32c751e1753\",                        [{\"alignmentgroup\":\"True\",\"bingroup\":\"x\",\"hovertemplate\":\"variable=0\\u003cbr\\u003evalue=%{x}\\u003cbr\\u003ecount=%{y}\\u003cextra\\u003e\\u003c\\u002fextra\\u003e\",\"legendgroup\":\"0\",\"marker\":{\"color\":\"#636efa\",\"pattern\":{\"shape\":\"\"}},\"name\":\"0\",\"nbinsx\":30,\"offsetgroup\":\"0\",\"orientation\":\"v\",\"showlegend\":true,\"x\":[0.004719923396274341,0.01443100126732217,0.0033776718099816708,0.0019720283429304868,0.012474590386091736,0.015009166155732688,0.01193519465440486,0.012887617563324166,0.013377720345058904,0.012721801533120462,0.013549935887882732,0.022198438460299213,0.0221984591378974,0.01882530265936354,0.015890547498980178,0.007667754600348447,0.007102634132317525,0.01102678543276055,0.013346237522279213,0.0082739512152614,0.005357430548095599,0.006746475229595164,0.007801646592468334,0.011146990925346033,0.010944249911420092,0.01768559694681826,0.011367076921755682,0.0013878237640106116,0.01105043852871905,0.02315952149444587,0.0064212261041529575,0.018171920719699197,0.02162036710872521,0.006445713522842617,0.01688497541108956,0.014614905261905493,0.01752508175442166,0.01046356160374197,0.012391480092119937,0.017164572712402765,0.011128954783020173,0.008788312253728552,0.01374135286651154,0.010049436032923506,0.01161322812381049,0.0026073146597201807,0.008921408321294004,0.016135994906865486,0.012024246970898017,0.014632097778665833,0.006062326574172869,0.01670688988670488,0.02468470200630253,0.016002361716033794,0.012626314422218884,-0.0005380617126415702,0.00463887249572912,0.02501480528781154,0.007429721489257857,0.01374388713159609,0.01044497006643574,0.01822620933183964,0.010048906314486161,-0.0017006336781288309,0.026516877195031572,0.02073441036128151,0.012906273958599543,0.012036729141475213,0.016310285526220214,0.008656509046234832,0.010832414693981565,0.017390103256874255,0.007155826104311761,0.021289031912947586,-0.0007594444948365361,0.009361577067168322,0.0031003299192435274,0.010732212863568987,0.005208805637735556,0.016354000000000053,0.02179710838601069,0.015378578753767948,0.016263071249033763,0.01838385746375329,0.011619914271765397,0.008708894940711608,0.012856899654521102,0.01369182724141578,0.008239432635856248,0.009540065861690436,0.010566875359325635,0.029634968372200185,0.018907614368179303,0.007217212993396716,0.014111588056819706,0.01205390934113199,0.02526580132677294,0.009446752147556246,0.008338750640336477,0.0216376500857633,0.015398403198829127,0.020218196703032272,0.01299437275785596,0.008525452912668194,0.02409028649968003,0.0045756316489361445,0.011211181307584944,0.016353320148627597,0.008966558330087374,0.0038833690151809375,0.019839324570412847,0.008732748941545194,0.015709331872435645,0.012418972985957651,0.014568696862424874,0.016049451822112464,0.011779308479251396,0.004736351071181831,0.020159466011766786,0.003051059249321409,0.015500565449294106,0.017916531604538037,0.011426364450532052,0.0016144607212564416,0.012072208721106821,0.014631186623859697,0.011013047138047108,0.014861605554145361,0.0025274310728251037,0.013395965688057952,0.015042673856452166,0.011196704378948392,0.008769616054426763,0.012813116198852784,0.010992650376386172,0.017105959559405172,0.010479316472435718,0.021277037648780434,0.00031593268443676215,0.015181552768166077,0.013681241093405861,0.020378975990149747,0.01437198854176873,0.012304545281386272,0.01700038739237103,0.0008033394403731998,0.016818363273453093,0.006263094692255625,0.012098113617212691,0.012463545871911064,0.012601394645392928,0.012113122603985841,0.011046634021010134,0.008791904190079549,0.007404654654654723,0.018640955444046436,0.00832458145532397,0.002318733014602281,0.016388933717579268,0.003783545365755897,0.01110423251753517,0.02361784887869351,0.011076802552488316,0.014971742952309314,0.014200344366050362,0.011772332659366447,0.006637604501472072,0.020373845697664605,0.016765078339525126,0.009273964379828418,0.02121106910128879,0.01817649787901936,0.017976867918457345,0.014257552483358884,0.01726494020458318,0.012860369304080174,0.0019171042755725329,0.0064123517012564454,0.009834083346537806,0.024234297632265988,0.0010668840209137865,0.020199710102201302,0.016500941677539994,0.01978471593765698,0.00815969270741454,0.015246087692090795,0.010884299274092003,0.012092768102728274,0.011999668922286847,0.005904086232805458,0.0074360728588919525,0.021618811503547154,0.016425690819134087,0.010725086454741989,0.0029518784927277733,0.022715776879097177,-0.001220523793981845,0.001527814643984285,0.018096854131358142,0.01207404315600423,0.016506155651343925,0.008394907877463154,0.013837656670326364,0.007790467351148352,0.015259693444531462,0.006953079789377453,0.01132252394453341,0.011112971770550706,0.010418085301739044,-0.0026223592660770817,0.007175100177057192,0.016271215320344937,0.010830100288558783,0.00382153724138457,0.01680809898762651,0.007243985098746542,0.014703804152511135,0.014969900810687019,0.010432185162192568,0.010129696152218957,0.008708072899945025,0.01457737104825288,0.01055233210450394,0.013496967911686667,0.006137485999389039,0.016489232680433494,0.015029702401470772,0.012231905535902067,-0.004010089411559795,0.008920795252163154,0.0008346472274762392,0.012929007452037365,0.005426593820241396,0.013947222470703978,0.018279550539935782,-0.0008048850035998201,0.01880828731103703,0.009579593855669956,0.016327272355556338,0.017539235721368486,0.009514314715049647,0.012512780427311472,0.011032135740807343,0.011220831570906316,0.0181087364437236,0.014540773055919994,0.018471103443699823,0.013688015063702794,0.011672662277107414,0.013144911393198514,0.007595207113424415,0.013788846008763019,0.015015066553700097,0.021983130868908872,0.011095657005278273,0.011367650446963432,0.011604483901535845,0.011982112357437125,0.014267992839869625,0.016267279026546604,0.02155591983590573,0.020535357649674735,0.015428370678235746,0.005575601360777893,0.01484476948748737,0.015854220531383113,0.01526355541465741,0.014981235481711819,0.015212742825143132,0.009571017873941691,0.013990221933141062,0.009869703887732457,-0.0005287194979888069,0.009032711531981465,0.014399692638861336,0.018145797335776776,0.007656518133392923,0.016010576314122865,0.020479521645841204,0.016065601450175798,0.003568627559269212,0.018492237640859034,0.01135868929198365,0.004089550779340142,0.011228159613807074,0.015338097511487774,0.007640746276301041,0.007865104128632207,0.01981726917207173,0.021934379011817398,0.0064091010531988415,0.01500996767825767,0.01334181975375548,0.011194371749876506,0.0064940509522306705,0.01456670038261857,0.013711993760044162,-0.0006543977055450054,0.004670262779667138,0.019019615036197927,0.017042350386100462,0.0011361320562462834,0.016046950870855618,0.011608951095171856,0.015143978103575123,0.02247479416437959,0.018642340424102805,0.016719148778316373,0.018189967535137748,0.014991915313148,0.010754923679319354,0.008252547877701792,0.025562947037340848,0.01652816623762153,0.012353815437843758,0.008561628306149732,0.0019093255562373612,0.018033997299250287,0.014146321933832744,0.0012229462676000662,0.01969748792806483,0.009854592607513413,0.004781221182016512,0.009915593305732549,0.0028854154092465625,0.01520638137533927,0.006124418009125644,0.015084999635766733,-0.001327303381249441,0.01266935355781439,0.02465282503269764,0.014314728011603009,0.006195482864832628,0.0061145668588023505,0.0071291776998496925,0.023430827939329553,0.013697422142750727,0.012218934510378136,0.019205002422842888,0.007938220657846846,0.012935364792428,0.008074568998285327,0.013938775510204088,0.0055880495452422935,0.017420469685804074,0.008963517446723135,0.003805108910222833,0.014672625187092381,0.006535978802053563,0.010203036497871047,0.010398406146084128,0.009130059970014967,0.006737285578090359,0.0044952771158692124,0.011732304793310555,0.015442423690834017,0.010769950277759066,0.007191038138050046,-0.0015582074659996892,0.007471525956387896,0.010855833781665915,0.019474478355768376,0.012620360224075651,-0.0016216305935467029,0.008928327645051283,0.01127862517244078,0.011070224434221964,-0.003674959881611692,0.019600738953837543,0.018751464421922194,0.01736460068449075,0.014736263996028648,0.018419758874483494,0.019545483812618364,0.02336123474617309,0.011975292364454201,0.018887964799386432,0.018121603914350883,0.015264484477209052,0.008902953488776025,0.00829632405614074,0.00988227658793979,0.00628241332237349,0.01629666562075434,0.018067419390815867,0.010924085869780935,0.016490277280381646,0.017478213180550928,0.01720688971532142,0.012877230239554657,0.017910821927522864,0.020177976430096126,0.021394826212969308,0.01294140417127583,0.006371151879103844,0.012114024723091718,0.017160229562082515,0.010155194369197346,0.02164116285796932,0.010784400005276806,0.008451454677297222,0.008222842769118808,0.015912013813616926,0.012051119327688375,0.01608809026397473,0.012258315001047546,0.009215135645760396,0.008373200428833931,0.008240621264536212,0.02000089250297498,0.017173249236205564,0.006700129406301034,0.01453344297938916,0.0017488818310888252,0.009014165943914415,0.01956117892973118,0.017682195445262998,0.010402710228903517,0.016350920401129645,0.01601896499296534,0.015698921722380965,0.0121513328717327,0.010251432318944851,0.014084010434048277,0.015578822014041085,0.007017986289778413,0.01704983660599927,0.006764628261486674,0.00968508560872014,0.010837099226091822,0.01882107588818363,0.01681107527589453,0.014514945638949188,0.005624087573878139,0.012358716569271583,0.011829737902689087,0.012307727166476198,0.0231373235611912,0.023114311009506696,0.013459932020344137,0.02329566531086585,0.013172825151590864,0.01995546491231727,0.014758497536057257,0.00902923365731069,0.014683429729413493,0.009436631836205411,0.009613028662533642,0.009311551516410763,0.012861147927419003,0.009256912442396292,0.010761769696770949,0.012161951568545468,0.01110175958430782,0.015120087785582003,0.015552695743273788,0.003601798993465001,0.018431956619390982,0.007211545018608148,0.01672286739522582,0.005853133000121882,0.00559812856729533,0.009962788882478707,0.0149719498529206,0.01124508558188212,0.015224588152109388,0.006962170458649329,0.007384091667683203,0.008168429212024847,0.015695878930391094,0.009839586586564617,0.022598075100797057,0.019143154886434567,0.014898048253760308,0.01445361289595316,-0.0036560133948625936,0.012069574011508367,0.008873423085498556,0.010162405958400386,0.010422952808756651,0.010362356414846327,0.02423617568533528,0.020943357800076744,0.011309335569832761,0.011676321711482893,0.006270419618655357,0.00021022986653781994,0.02363747931507141,0.014507050685797331,0.016859777226968978,0.0142176857352807,0.022601606275681755,0.01254016069202997,0.013182012540413806,0.017302273308582458,0.022056787430464544,0.013271577597672356,0.014018613138075729,0.0040202858667117355,0.01643605043729967,0.01291709976679821,0.009564400468173917,0.00955461034110712,0.018722024392169946,0.0024524340920163146,-0.0030683628822175714,0.012812683183596327,0.019046977090132648,-0.0012239611368284886,0.003508798295330247,0.018663561512110075,0.010419093624371288,0.01673812671135867,-0.00345933164837698,0.0176053734428961,0.007613399593562352,0.021134969712266485,0.011578430115112087,0.018337318493074344,0.014941983137812026,0.005213892616916571,0.01417338685179402,0.015326691033048432,0.009518043530577135,0.00909591866960048,0.008307446165407392,0.016202608099755392,0.008216576299335636,0.016573419631062562,0.013873435922014326,0.007614634773043029,0.011102091563699554,0.014388125278026714,0.008034561604080604,0.014513639411063067,0.015559678609679179,0.017070156851003056,0.007249891624793826,0.011352430092221994,0.009572837903966853,0.01869310579039732,0.006619245152183099,0.0229779063049182,0.01417968214699333,0.008860414566532198,0.008646971555733032,0.00749172966058859,0.015106189514470847,0.022577079462321334,0.014455762665671211,0.01834935462074823,0.014906636839246298,0.013709038862897982,0.003145385152049811,0.009196583218245225,0.01250162932790231,0.020079103883329487,0.007782135476086427,0.011685733846169381,0.019145258202962707,0.013863375665710782,0.00786479047684583,0.012620889138998326,0.01708692627673637,0.0022014564050876068,0.0135646779000459,0.02237235759460932,0.0077943373754872335,0.003810795718939036,0.0049506370220823055,0.007147280353454931,0.01085243640024891,0.015805329924222688,0.007913262600706898,0.011887875529622642,0.015435283602280442,0.0146654617093049,0.018680636067138115,0.01928717557826586,0.00897312607374471,0.01980962565098858,0.015795262863418764,0.013148318804662107,0.02265139951473353,0.004608304289508175,0.013247470973061445,0.01253486159917619,0.030299305770257745,0.014828378184759263,0.010308685303264587,0.02140255369163371,0.010775423625383813,0.003772330023867225,0.02244112770018831,0.013906508264462792,0.014853370339070596,0.013410999076045486,0.011144969069614562,0.013509892401815408,0.019124727704019205,0.009239891653378268,0.023013810001840624,0.018629384734805347,0.013782453936348412,0.022094590328808793,0.020498704550085872,0.008952556053811674,0.012338519425564382,-0.004029462350502812,0.006215025822587428,0.016657123672323214,0.005838278709996686,0.004627031891093175,0.015359723199624739,0.013373894783377492,0.011411909035852923,0.011803897685749083,0.0004010406635443463,0.00552576566092363,0.017323889934703955,0.024486903166274922,0.0234647205102917,0.011302066903081671,-0.0015991843689063083,0.014445267538293548,0.0036659542650763106,0.017791020151326817,0.009075612576509705,0.0032163000290725344,0.013763870149147327,0.017201886753893475,0.0076490536026720506,0.01004967648555215,0.020014389344256672,0.009695971635108366,0.013850591806030273,0.014216824997855492,0.016609629861704826,0.006385354207156538,0.013604772433438855,0.014113712085040697,0.015654955906275872,0.006347776545457396,0.004952211817888283,0.008360618140855734,0.005935205794695704,0.01695086574199981,0.009397823085668111,0.009722831464670852,0.013678668638873934,0.023012061587906658,0.006905495758022316,0.013243725279975572,0.009779356158439577,0.005347127950562226,0.0049565348129586295,0.015459001918461328,0.012768628661561109,0.017048941653604467,0.012916568811648613,0.015793589951971006,0.011951518854946212,0.008032501816057639,0.012651640146536546,0.023402459630497547,0.022452184746931073,0.012574701671468336,0.007399615152960993,0.017131840215835845,0.011518430329271728,0.019521608378234093,0.018410870971916637,-0.00044444052888271794,0.008348946432509274,0.014420748348016831,0.0023473189670641876,0.003765017667844525,0.010681627407721078,0.009704558486238574,0.011994929006085238,0.007289625830385227,0.014279033067929214,0.006970831927366056,0.0008976652778577279,0.01303786725608358,0.01429198202531793,0.020908416098101894,0.016368607954545443,-0.008338250842620742,0.015072181129647862,0.003925944023443175,0.010407564988862535,0.019804466763578676,0.009129002788729738,0.01953947319239536,0.011441489792065565,0.011346316822675999,0.0003791150908612371,0.007469079419522625,0.014381460434449378,0.019103443321436406,0.015499018428030769,0.009703796761585743,0.01499993362821367,0.0014894671427101158,0.008479539056819679,0.019846411745662314,0.01753301989747462,0.016518254674977712,0.012368683418674063,0.015631708675740555,0.0033646220374919378,0.016588543308383163,0.02058995294918406,0.005140205056739081,0.021461187596152457,0.014767476562470818,0.016628647949759857,0.013960007055235662,0.009639435697897838,0.014176080464825568,0.013280534622289952,0.009351370951995744,0.013615049097582476,0.01984540028276829,0.01241884624515784,0.008135668461450397,0.017589827979638414,0.007243938982153093,0.012243188357821256,0.013584430910552447,0.009500107666703948,0.007428750198663979,0.018999127037685977,0.011974901525098443,0.017045437332719855,0.016274059779458193,0.007797213699587788,0.01756115238035786,0.02269408480093942,0.008325272121568448,0.01617293930038729,0.019591542592970305,0.006862339091923769,0.008883280286453202,0.011641697395602016,0.01784730570356179,0.011046755619532668,0.015541338519911959,0.006791876251317518,0.016459988686643258,0.014204713765916019,0.009575558567939933,0.01280800661663048,0.01377698185038095,0.010412186135371024,0.0007435226380528518,0.009120719209986902,0.015550072749813442,0.010849925797674916,0.011136589908900759,0.009947757078073223,0.01504019282078145,0.012387856136653013,0.022059957961114048,0.0028761806342644802,0.005658338196673496,0.020119269325157223,0.018398624951971393,0.011400319177342084,-0.0003645872103659395,-0.009091241903689123,0.01788113495614291,0.01015648622168579,0.010754044995971677,0.008178709080965667,0.014821713874868032,0.009635789674062527,0.016766607328933678,0.004592218820889185,0.0011435820876395837,0.012503529145308143,0.0051383305041842,0.018896885230768018,0.018854248956401403,0.02154609221749576,0.017926389497576516,0.021270597527460723,0.009876582340015864,0.0034611055455944038,0.008898018333782716,0.0083142326224585,0.011181422728669736,0.005972206305298544,0.013843414225941411,0.010082065856635057,0.014608910898966994,0.016047003441511304,0.01729653338183408,0.019637859701607252,-0.0007351867447787652,0.011161984298317062,0.011407951763101977,0.0234690515961396,0.004745521708515691,0.008031408689110365,0.02147825588477658,3.407240129922606e-05,0.014234342579946614,0.0076051628993255745,0.01950642247217128,0.011242687260798205,0.009904878877361762,0.011214568758730838,0.011229547642616907,0.015636132447581507,0.008415586578224343,0.014064490564932326,0.019201168192335447,0.02133612204938069,0.0020818166471234453,0.008017771566641227,0.01714981781430352,0.002698450762215341,0.025469293679278825,0.005546203641357578,0.0201270398400379,0.01660506487674955,0.0074352788938238275,0.013207612389390411,0.014515767133168347,0.022273992251863467,0.011408810862543375,0.015204050430193572,0.023510247241780587,0.014904905777525457,0.0067750463850232145,0.0205362898149314,0.019647473498605555,0.016146628710419438,0.012697596340988779,-0.0056225256081183644,0.015034265947089696,0.012223373594882847,0.023436397801288672,0.01177146525714553,0.012474119951491426,0.013637027942254026,0.021995185301282975,0.004642948197013934,0.019318290634357735,0.012878386709497407,0.006753413889138422,0.009363474380883047,0.02024612052971269,0.021289602506363813,0.012921602934951329,0.011079680854803022,0.016090813005402067,0.009857076727230678,0.012818588968108812,0.0021584224647428277,0.01703704452385297,0.007785454399694164,0.011245411180818517,0.016235397965054438,0.014401110103610795,0.008955142835954912,0.012537322044895011,0.0067344920508128105,0.015761384639910656,0.012946383564446714,0.0040517301069891085,0.027699769030529026,0.015534197980826107,0.018211072583152868,0.005652748821677531,0.008385351686713408,0.011604413525629933,0.017011795036280815,0.005454719431344407,0.004171803026611999,0.014748769902349173,0.019243647838378855,0.01571006499667894,0.025933524313206918,0.010032115020084699,0.01756659815207611,0.014160821044525942,0.003512582754400067,0.016720703199191687,0.019094446736079074,0.008413119142147159,0.006137019230769206,0.014683633153073628,0.012860480787312738,0.020891471066697496,0.019417683785524317,0.005462001785174602,0.017638521465085412,0.017719201535554143,0.016128375770819638,0.016030925877231466,0.01824259422742098,0.00845870992808874,0.004600741425806833,0.017565861050337594,0.01062279800829452,0.019011777400955797,0.009503580399771325,0.009842561687924696,0.007908080187481785,0.018390142000749943,0.014515906282212554,0.015449475926671528,0.017160739471251574,0.013791872239794816,0.014169313338595094,0.0044888648073097195,0.018443007310134103,0.019702492236038344,0.022221575622879873,0.007233627892449114,0.020148649960956097,0.0009709199604203984,0.010688944949781997,0.004705794264447637,0.01971651997220524,0.005393169403788594,0.015611419225945491,0.01661700158646212,0.009847748883033546,0.005780100457619272,0.008999218730926073,0.006306872750315608,0.013102178887672813,0.0035638227853308155,0.0068072358509337905,0.011575646574320742,0.0055759169783873245,0.0008401270576184946,0.02045230416731038,0.006424624966722234,0.017943980376944585,0.01181949385100112,0.009041838172325158,0.007172119528959561,0.013702136243948115,0.0038039078691743107,0.008925364700964026,0.013460459236781533,0.013503371441992262,0.0018289184641629812,0.014517992263452767,0.009149051091306442,0.01354956301799199,0.011630606402224025,0.010104844872652431,0.009642016731534898,0.015546215902941862,0.0037528106786988875,0.006292673475876332,0.015564174825545344,0.013987093154629496,0.011151510774362043,0.019525584738168428,0.017685919649714842,0.0018711116413794842,0.012811499185668922,0.01544449197539894,0.009779953298753447,0.014288054139650692,0.00960830493004848,0.008203643833144036,0.017925484077059115,0.011661642890013847,0.01639834603280188,0.006855022950345124,0.012260031324582366,0.013693103125584905,0.02058106351248663,0.01393571428571419,0.004581474315512119,0.016448569183258734,0.008144224910784183,0.0006004304490187136,0.007606735295113645,0.011694519426497858,0.010517131089072419,0.009211439716842441,0.0073629874162632995,0.024586041859465148,0.019920135361513425,0.007053987122337811,0.004448228584714067,0.011588897308613528,0.01061688918592922,0.009914170729819677,0.004667492279047877,0.014048472413215975],\"xaxis\":\"x\",\"yaxis\":\"y\",\"type\":\"histogram\"}],                        {\"template\":{\"data\":{\"histogram2dcontour\":[{\"type\":\"histogram2dcontour\",\"colorbar\":{\"outlinewidth\":0,\"ticks\":\"\"},\"colorscale\":[[0.0,\"#0d0887\"],[0.1111111111111111,\"#46039f\"],[0.2222222222222222,\"#7201a8\"],[0.3333333333333333,\"#9c179e\"],[0.4444444444444444,\"#bd3786\"],[0.5555555555555556,\"#d8576b\"],[0.6666666666666666,\"#ed7953\"],[0.7777777777777778,\"#fb9f3a\"],[0.8888888888888888,\"#fdca26\"],[1.0,\"#f0f921\"]]}],\"choropleth\":[{\"type\":\"choropleth\",\"colorbar\":{\"outlinewidth\":0,\"ticks\":\"\"}}],\"histogram2d\":[{\"type\":\"histogram2d\",\"colorbar\":{\"outlinewidth\":0,\"ticks\":\"\"},\"colorscale\":[[0.0,\"#0d0887\"],[0.1111111111111111,\"#46039f\"],[0.2222222222222222,\"#7201a8\"],[0.3333333333333333,\"#9c179e\"],[0.4444444444444444,\"#bd3786\"],[0.5555555555555556,\"#d8576b\"],[0.6666666666666666,\"#ed7953\"],[0.7777777777777778,\"#fb9f3a\"],[0.8888888888888888,\"#fdca26\"],[1.0,\"#f0f921\"]]}],\"heatmap\":[{\"type\":\"heatmap\",\"colorbar\":{\"outlinewidth\":0,\"ticks\":\"\"},\"colorscale\":[[0.0,\"#0d0887\"],[0.1111111111111111,\"#46039f\"],[0.2222222222222222,\"#7201a8\"],[0.3333333333333333,\"#9c179e\"],[0.4444444444444444,\"#bd3786\"],[0.5555555555555556,\"#d8576b\"],[0.6666666666666666,\"#ed7953\"],[0.7777777777777778,\"#fb9f3a\"],[0.8888888888888888,\"#fdca26\"],[1.0,\"#f0f921\"]]}],\"heatmapgl\":[{\"type\":\"heatmapgl\",\"colorbar\":{\"outlinewidth\":0,\"ticks\":\"\"},\"colorscale\":[[0.0,\"#0d0887\"],[0.1111111111111111,\"#46039f\"],[0.2222222222222222,\"#7201a8\"],[0.3333333333333333,\"#9c179e\"],[0.4444444444444444,\"#bd3786\"],[0.5555555555555556,\"#d8576b\"],[0.6666666666666666,\"#ed7953\"],[0.7777777777777778,\"#fb9f3a\"],[0.8888888888888888,\"#fdca26\"],[1.0,\"#f0f921\"]]}],\"contourcarpet\":[{\"type\":\"contourcarpet\",\"colorbar\":{\"outlinewidth\":0,\"ticks\":\"\"}}],\"contour\":[{\"type\":\"contour\",\"colorbar\":{\"outlinewidth\":0,\"ticks\":\"\"},\"colorscale\":[[0.0,\"#0d0887\"],[0.1111111111111111,\"#46039f\"],[0.2222222222222222,\"#7201a8\"],[0.3333333333333333,\"#9c179e\"],[0.4444444444444444,\"#bd3786\"],[0.5555555555555556,\"#d8576b\"],[0.6666666666666666,\"#ed7953\"],[0.7777777777777778,\"#fb9f3a\"],[0.8888888888888888,\"#fdca26\"],[1.0,\"#f0f921\"]]}],\"surface\":[{\"type\":\"surface\",\"colorbar\":{\"outlinewidth\":0,\"ticks\":\"\"},\"colorscale\":[[0.0,\"#0d0887\"],[0.1111111111111111,\"#46039f\"],[0.2222222222222222,\"#7201a8\"],[0.3333333333333333,\"#9c179e\"],[0.4444444444444444,\"#bd3786\"],[0.5555555555555556,\"#d8576b\"],[0.6666666666666666,\"#ed7953\"],[0.7777777777777778,\"#fb9f3a\"],[0.8888888888888888,\"#fdca26\"],[1.0,\"#f0f921\"]]}],\"mesh3d\":[{\"type\":\"mesh3d\",\"colorbar\":{\"outlinewidth\":0,\"ticks\":\"\"}}],\"scatter\":[{\"fillpattern\":{\"fillmode\":\"overlay\",\"size\":10,\"solidity\":0.2},\"type\":\"scatter\"}],\"parcoords\":[{\"type\":\"parcoords\",\"line\":{\"colorbar\":{\"outlinewidth\":0,\"ticks\":\"\"}}}],\"scatterpolargl\":[{\"type\":\"scatterpolargl\",\"marker\":{\"colorbar\":{\"outlinewidth\":0,\"ticks\":\"\"}}}],\"bar\":[{\"error_x\":{\"color\":\"#2a3f5f\"},\"error_y\":{\"color\":\"#2a3f5f\"},\"marker\":{\"line\":{\"color\":\"#E5ECF6\",\"width\":0.5},\"pattern\":{\"fillmode\":\"overlay\",\"size\":10,\"solidity\":0.2}},\"type\":\"bar\"}],\"scattergeo\":[{\"type\":\"scattergeo\",\"marker\":{\"colorbar\":{\"outlinewidth\":0,\"ticks\":\"\"}}}],\"scatterpolar\":[{\"type\":\"scatterpolar\",\"marker\":{\"colorbar\":{\"outlinewidth\":0,\"ticks\":\"\"}}}],\"histogram\":[{\"marker\":{\"pattern\":{\"fillmode\":\"overlay\",\"size\":10,\"solidity\":0.2}},\"type\":\"histogram\"}],\"scattergl\":[{\"type\":\"scattergl\",\"marker\":{\"colorbar\":{\"outlinewidth\":0,\"ticks\":\"\"}}}],\"scatter3d\":[{\"type\":\"scatter3d\",\"line\":{\"colorbar\":{\"outlinewidth\":0,\"ticks\":\"\"}},\"marker\":{\"colorbar\":{\"outlinewidth\":0,\"ticks\":\"\"}}}],\"scattermapbox\":[{\"type\":\"scattermapbox\",\"marker\":{\"colorbar\":{\"outlinewidth\":0,\"ticks\":\"\"}}}],\"scatterternary\":[{\"type\":\"scatterternary\",\"marker\":{\"colorbar\":{\"outlinewidth\":0,\"ticks\":\"\"}}}],\"scattercarpet\":[{\"type\":\"scattercarpet\",\"marker\":{\"colorbar\":{\"outlinewidth\":0,\"ticks\":\"\"}}}],\"carpet\":[{\"aaxis\":{\"endlinecolor\":\"#2a3f5f\",\"gridcolor\":\"white\",\"linecolor\":\"white\",\"minorgridcolor\":\"white\",\"startlinecolor\":\"#2a3f5f\"},\"baxis\":{\"endlinecolor\":\"#2a3f5f\",\"gridcolor\":\"white\",\"linecolor\":\"white\",\"minorgridcolor\":\"white\",\"startlinecolor\":\"#2a3f5f\"},\"type\":\"carpet\"}],\"table\":[{\"cells\":{\"fill\":{\"color\":\"#EBF0F8\"},\"line\":{\"color\":\"white\"}},\"header\":{\"fill\":{\"color\":\"#C8D4E3\"},\"line\":{\"color\":\"white\"}},\"type\":\"table\"}],\"barpolar\":[{\"marker\":{\"line\":{\"color\":\"#E5ECF6\",\"width\":0.5},\"pattern\":{\"fillmode\":\"overlay\",\"size\":10,\"solidity\":0.2}},\"type\":\"barpolar\"}],\"pie\":[{\"automargin\":true,\"type\":\"pie\"}]},\"layout\":{\"autotypenumbers\":\"strict\",\"colorway\":[\"#636efa\",\"#EF553B\",\"#00cc96\",\"#ab63fa\",\"#FFA15A\",\"#19d3f3\",\"#FF6692\",\"#B6E880\",\"#FF97FF\",\"#FECB52\"],\"font\":{\"color\":\"#2a3f5f\"},\"hovermode\":\"closest\",\"hoverlabel\":{\"align\":\"left\"},\"paper_bgcolor\":\"white\",\"plot_bgcolor\":\"#E5ECF6\",\"polar\":{\"bgcolor\":\"#E5ECF6\",\"angularaxis\":{\"gridcolor\":\"white\",\"linecolor\":\"white\",\"ticks\":\"\"},\"radialaxis\":{\"gridcolor\":\"white\",\"linecolor\":\"white\",\"ticks\":\"\"}},\"ternary\":{\"bgcolor\":\"#E5ECF6\",\"aaxis\":{\"gridcolor\":\"white\",\"linecolor\":\"white\",\"ticks\":\"\"},\"baxis\":{\"gridcolor\":\"white\",\"linecolor\":\"white\",\"ticks\":\"\"},\"caxis\":{\"gridcolor\":\"white\",\"linecolor\":\"white\",\"ticks\":\"\"}},\"coloraxis\":{\"colorbar\":{\"outlinewidth\":0,\"ticks\":\"\"}},\"colorscale\":{\"sequential\":[[0.0,\"#0d0887\"],[0.1111111111111111,\"#46039f\"],[0.2222222222222222,\"#7201a8\"],[0.3333333333333333,\"#9c179e\"],[0.4444444444444444,\"#bd3786\"],[0.5555555555555556,\"#d8576b\"],[0.6666666666666666,\"#ed7953\"],[0.7777777777777778,\"#fb9f3a\"],[0.8888888888888888,\"#fdca26\"],[1.0,\"#f0f921\"]],\"sequentialminus\":[[0.0,\"#0d0887\"],[0.1111111111111111,\"#46039f\"],[0.2222222222222222,\"#7201a8\"],[0.3333333333333333,\"#9c179e\"],[0.4444444444444444,\"#bd3786\"],[0.5555555555555556,\"#d8576b\"],[0.6666666666666666,\"#ed7953\"],[0.7777777777777778,\"#fb9f3a\"],[0.8888888888888888,\"#fdca26\"],[1.0,\"#f0f921\"]],\"diverging\":[[0,\"#8e0152\"],[0.1,\"#c51b7d\"],[0.2,\"#de77ae\"],[0.3,\"#f1b6da\"],[0.4,\"#fde0ef\"],[0.5,\"#f7f7f7\"],[0.6,\"#e6f5d0\"],[0.7,\"#b8e186\"],[0.8,\"#7fbc41\"],[0.9,\"#4d9221\"],[1,\"#276419\"]]},\"xaxis\":{\"gridcolor\":\"white\",\"linecolor\":\"white\",\"ticks\":\"\",\"title\":{\"standoff\":15},\"zerolinecolor\":\"white\",\"automargin\":true,\"zerolinewidth\":2},\"yaxis\":{\"gridcolor\":\"white\",\"linecolor\":\"white\",\"ticks\":\"\",\"title\":{\"standoff\":15},\"zerolinecolor\":\"white\",\"automargin\":true,\"zerolinewidth\":2},\"scene\":{\"xaxis\":{\"backgroundcolor\":\"#E5ECF6\",\"gridcolor\":\"white\",\"linecolor\":\"white\",\"showbackground\":true,\"ticks\":\"\",\"zerolinecolor\":\"white\",\"gridwidth\":2},\"yaxis\":{\"backgroundcolor\":\"#E5ECF6\",\"gridcolor\":\"white\",\"linecolor\":\"white\",\"showbackground\":true,\"ticks\":\"\",\"zerolinecolor\":\"white\",\"gridwidth\":2},\"zaxis\":{\"backgroundcolor\":\"#E5ECF6\",\"gridcolor\":\"white\",\"linecolor\":\"white\",\"showbackground\":true,\"ticks\":\"\",\"zerolinecolor\":\"white\",\"gridwidth\":2}},\"shapedefaults\":{\"line\":{\"color\":\"#2a3f5f\"}},\"annotationdefaults\":{\"arrowcolor\":\"#2a3f5f\",\"arrowhead\":0,\"arrowwidth\":1},\"geo\":{\"bgcolor\":\"white\",\"landcolor\":\"#E5ECF6\",\"subunitcolor\":\"white\",\"showland\":true,\"showlakes\":true,\"lakecolor\":\"white\"},\"title\":{\"x\":0.05},\"mapbox\":{\"style\":\"light\"}}},\"xaxis\":{\"anchor\":\"y\",\"domain\":[0.0,1.0],\"title\":{\"text\":\"value\"}},\"yaxis\":{\"anchor\":\"x\",\"domain\":[0.0,1.0],\"title\":{\"text\":\"count\"}},\"legend\":{\"title\":{\"text\":\"variable\"},\"tracegroupgap\":0},\"title\":{\"text\":\"Bootstrapped Sampling Distribution of Slope Coefficients\"},\"barmode\":\"relative\"},                        {\"responsive\": true}                    ).then(function(){\n",
       "                            \n",
       "var gd = document.getElementById('4ddacdbb-bf4b-49a3-a8f9-b32c751e1753');\n",
       "var x = new MutationObserver(function (mutations, observer) {{\n",
       "        var display = window.getComputedStyle(gd).display;\n",
       "        if (!display || display === 'none') {{\n",
       "            console.log([gd, 'removed!']);\n",
       "            Plotly.purge(gd);\n",
       "            observer.disconnect();\n",
       "        }}\n",
       "}});\n",
       "\n",
       "// Listen for the removal of the full notebook cells\n",
       "var notebookContainer = gd.closest('#notebook-container');\n",
       "if (notebookContainer) {{\n",
       "    x.observe(notebookContainer, {childList: true});\n",
       "}}\n",
       "\n",
       "// Listen for the clearing of the current output cell\n",
       "var outputEl = gd.closest('.output');\n",
       "if (outputEl) {{\n",
       "    x.observe(outputEl, {childList: true});\n",
       "}}\n",
       "\n",
       "                        })                };                });            </script>        </div>"
      ]
     },
     "metadata": {},
     "output_type": "display_data"
    },
    {
     "data": {
      "application/vnd.plotly.v1+json": {
       "config": {
        "plotlyServerURL": "https://plot.ly"
       },
       "data": [
        {
         "alignmentgroup": "True",
         "bingroup": "x",
         "hovertemplate": "variable=0<br>value=%{x}<br>count=%{y}<extra></extra>",
         "legendgroup": "0",
         "marker": {
          "color": "#636efa",
          "pattern": {
           "shape": ""
          }
         },
         "name": "0",
         "nbinsx": 30,
         "offsetgroup": "0",
         "orientation": "v",
         "showlegend": true,
         "type": "histogram",
         "x": [
          -0.013996130006171628,
          0.004730080326691862,
          0.005471163057398875,
          -0.0024693033210161828,
          -0.013296021762673178,
          0.0007813675492186402,
          -0.0020065574158481822,
          0.011657652555285229,
          -0.002016610665498876,
          -0.008205362651830434,
          -0.0015104322161991679,
          0.0002876928918637005,
          0.010680964635688638,
          -0.0002593245321952514,
          -0.005515926619965933,
          -0.012001438214103948,
          -0.0014715139773754304,
          0.0029775919113197782,
          -0.008359129005122763,
          -0.0007719326767000995,
          -0.006401902179156812,
          -0.0030642191148649942,
          -0.002015613574485276,
          -0.0020756572473660685,
          0.0019873607679537306,
          -0.004669760049309217,
          -0.012752606075487952,
          -0.002922120804720832,
          -0.002336035899933702,
          0.007173203573222328,
          -0.008992716458720613,
          0.0023147333418192945,
          0.0012429449513778786,
          -0.006462690504307075,
          -0.008761914571843193,
          -0.0023722447235616766,
          -0.0034774228450452018,
          -0.00021405186691571178,
          -0.004002337300637245,
          0.007066036668084965,
          -0.0058694061218164525,
          -0.004673142446972926,
          0.0006282025805696063,
          0.0012048964939824149,
          -0.011487689959399423,
          -0.008461111207923587,
          0.004447208388482381,
          0.0022077668184676217,
          -0.006806872887973969,
          -0.002747623604875328,
          0.0025785346044508847,
          -0.004711395514067602,
          -0.0006115077365557529,
          0.0005407369131712478,
          0.0060376802236325675,
          -0.0019222244978462097,
          -0.00039289593050534713,
          -0.0010676119498554096,
          0.0023963927682639826,
          -0.006275321467915849,
          -0.014085687360878577,
          -0.003146585586325501,
          -0.01034214618048607,
          0.005884919236837018,
          0.0012591082251256405,
          0.006340979097632101,
          0.012504820012931342,
          -0.002137491066272619,
          0.0017995576102899213,
          -0.0053190747264161686,
          -0.005246300126330239,
          -0.004783536554407517,
          -0.0053157289013570155,
          -0.0006632186885508376,
          0.001095017352424144,
          -0.002322450771660646,
          0.012899817672823593,
          -0.006204533523678332,
          0.005332321972907654,
          -0.007173865976817145,
          0.0049865645716285125,
          0.007214232079848979,
          -0.003361385231006746,
          -0.005839065683090086,
          0.005000462539299975,
          0.004080677516486109,
          -0.00393570505707168,
          0.007441755789942453,
          0.010905888239673051,
          -0.006407271603738661,
          0.0031740039998451853,
          -0.010788393758525524,
          -0.0011176413710914782,
          0.0007200803008901302,
          -0.007805386008002236,
          0.006548689124854431,
          -0.005430418884623363,
          -0.0017912804916967772,
          -0.007198194546222385,
          -0.001661469911253116,
          0.0075020365819570885,
          -0.007597155869736972,
          -0.0028736166950259732,
          0.005539214214663283,
          -0.010776168867014005,
          -0.004145309743953716,
          -0.0026260020916439378,
          -0.0045823601304746135,
          -0.0003587572914098376,
          0.005215210713161074,
          0.0007929913475356294,
          -0.008946125430115944,
          -0.004485638499028709,
          -0.008486796001739506,
          0.004228951887871963,
          0.0032905072801212025,
          -0.006257817310677144,
          -0.002498332030823564,
          -0.0010795121743642864,
          -3.478089016444117e-05,
          0.003691472048092127,
          0.009352867142180036,
          0.002703123240671329,
          0.0052332914020490635,
          -0.007504310552200783,
          -0.0009550145541196396,
          0.005326833442364093,
          0.005078100207267881,
          -0.0008957734826201681,
          0.0009625048361095671,
          -0.0007098841201350226,
          0.004064982462224954,
          0.011296825922405333,
          0.014809939292148386,
          -0.0017771018388899494,
          0.0003461893338690394,
          0.0008217864284819419,
          0.00010872739581342054,
          0.0027122202126127824,
          -0.0005788480945799319,
          0.00455380047824806,
          -0.008351083417655775,
          -0.0002557065322506,
          -0.0027224391446053135,
          0.0027812115524262155,
          0.007458969025187597,
          0.0016670099615977,
          0.010690987383892576,
          -0.0033011173102387072,
          0.0010887262345047367,
          0.0025400915847246194,
          -0.00515332213419838,
          0.008617050416888403,
          0.0025147426729096953,
          0.0042790583672118725,
          -0.0011094563500893117,
          -0.0011103350217683467,
          -0.0014362976063126555,
          -0.006812992771994562,
          0.006145627603604081,
          -0.001980910079776128,
          0.007498646802223637,
          -0.002421019710054323,
          -0.005965855950519234,
          0.00010887966550986172,
          0.008619001397299556,
          -0.006720200545327473,
          -0.007925847017922299,
          0.0028446931849265035,
          0.0028539068047951626,
          -0.0059670995868621925,
          -0.004882185537334178,
          0.001946670927960489,
          -0.005212247563477953,
          -0.0024297354657694344,
          0.004321096109172314,
          2.4904086635291894e-05,
          -0.0013767843249446008,
          0.008633017846883159,
          -0.004961056934699939,
          0.006764254077518286,
          0.0010103111591032742,
          0.013170607060784108,
          -0.010504262914111844,
          -0.0017947122075597775,
          -0.00814829394170842,
          0.002173568796985238,
          0.0010876212542152625,
          0.0007985868518508138,
          0.010281589197716524,
          -2.014768874053583e-05,
          -0.0012414238124982355,
          0.0039710411265855075,
          0.0071037090415633376,
          0.0018642095780688098,
          0.006397986783052581,
          -0.0013155075776448014,
          -0.0061894904597700525,
          -0.0018660423041836002,
          0.0015669710570189047,
          -0.008471488459883414,
          0.001312583608786902,
          -0.002613624147506593,
          0.0034956875817197773,
          -0.006340738394461498,
          -0.0037081852694846726,
          0.0028380800138742605,
          0.010952395814760998,
          -0.00096526992943768,
          -0.0014466080992318353,
          4.949842434720953e-05,
          -0.004554245373156124,
          0.007500747254126746,
          0.0036724146106756343,
          -0.012108717599288159,
          0.004073295024765213,
          0.006764498891967565,
          -0.0016596588478452012,
          -0.007403108537864337,
          -0.0036582006451167234,
          -0.0006463401191921713,
          -0.003247881355126452,
          0.0016985573786608994,
          -0.0034694210303382058,
          -0.0018587501349484918,
          -0.00815262264962035,
          -0.010153838826621329,
          0.004165927086101818,
          -0.001895089475723333,
          -0.0005231202119520819,
          -0.006067955851696592,
          0.005612269369521134,
          -0.005400855187954778,
          0.0042832721857582875,
          -0.0002068812979642209,
          -0.00464204692237356,
          0.005617287474622239,
          0.007693696332363602,
          0.0004935170984581732,
          0.004016194415120638,
          -0.011949263232802914,
          -0.0025395013383655474,
          -0.004404490402814175,
          -0.0015759142561001965,
          -0.00268635657991844,
          -0.006844108413515104,
          -0.003729637236612568,
          0.003465321206125905,
          0.0038684931114367927,
          -0.0006614551554180656,
          -0.003656558433829178,
          -0.002370180121227225,
          -0.0009115862148920575,
          0.010684058384662553,
          0.008706346752189278,
          -7.852522429777596e-05,
          0.0004756081872512108,
          -0.00094076013567773,
          -0.004260271361424258,
          -0.0025322768198499947,
          -0.0018991878977679699,
          0.00430113605184552,
          -0.005461380892839053,
          -0.006588202428713947,
          0.005414117657893065,
          -0.0014358283883169026,
          0.0015781123139770453,
          0.008773192925389486,
          -0.0016904303219987182,
          0.002924432786499207,
          0.002965991811158783,
          0.00201446210901453,
          0.003700475894290956,
          -0.006325780991543796,
          -0.005438001011310831,
          -0.0037818040360618286,
          0.013108037353293857,
          0.0022807062238667337,
          -2.5003618925580062e-05,
          -0.0006686631594528254,
          -0.006537091293327154,
          -0.004245036115850003,
          0.0008798386170908597,
          0.003391606366833518,
          0.008523030876384084,
          8.70115330522548e-05,
          0.0023011302109399866,
          0.002881849264063286,
          -0.00838773731611201,
          -0.004373837676605264,
          -0.0005829490295310362,
          0.006836187033322644,
          -0.000902049155269158,
          0.0034169883407059233,
          0.0016887101481779352,
          0.0011367209840114486,
          -0.002562167409298933,
          0.002872796710351988,
          -0.0019140536873144863,
          -0.006647185014677167,
          0.0024914207633448026,
          0.007774093795476702,
          0.003403456703885358,
          -0.00563302293905896,
          0.010812646200544108,
          0.004944297824053083,
          0.011486242131410564,
          0.001442192897195698,
          0.0015991384083866972,
          -0.0024368503352983576,
          0.007993689067203266,
          0.0011042393852720234,
          -0.0004901011171816257,
          -0.000909022994890703,
          -0.0031139279338541293,
          0.00183369067622969,
          -0.008705680775566932,
          0.004316838860238627,
          0.007084575998536764,
          0.004864982304714844,
          0.00994383685669177,
          -0.001741901067846773,
          0.008422605741594385,
          0.009813083729415849,
          0.00999561700911402,
          0.0019617795883345958,
          0.007510108200464047,
          -0.004060539725028112,
          -0.0007984395552507666,
          0.0023557809717309626,
          -0.0075695915261485185,
          -0.006095311904573554,
          0.009562037071039118,
          -0.008476454603560066,
          0.0042940679520326284,
          -0.008899254780201905,
          0.007170286125312363,
          0.00766131037007706,
          -0.0010596865323212355,
          0.004710341101102001,
          -0.005226751196775744,
          0.0026341290718275437,
          -0.0017172702782527346,
          -0.008900679316371446,
          0.0004268738435849158,
          -0.0023927240261526622,
          -0.005648703495755904,
          -0.001490424191655993,
          -0.0018277055354330445,
          0.009243154734967375,
          -0.0013709189372038202,
          0.0005811929692985489,
          0.0062452082816060635,
          0.00345613903152755,
          -0.004332899519587502,
          0.009973776287274035,
          -0.008341586383502032,
          -0.0015807126399832146,
          0.0010457127620796115,
          -0.0006853923955329306,
          -0.004434351346854139,
          -0.0005034713133774669,
          -0.003913775902723877,
          -0.006273702776673087,
          0.008178931966391197,
          0.002283413612768672,
          0.0006131652923645307,
          -0.0005163105253669805,
          0.006234669538671747,
          -0.013066609002525188,
          -0.0019079713337381333,
          0.007543333076928805,
          -0.012137087505447888,
          0.0026181036253023022,
          -0.0023840892498957957,
          0.00024812416149741067,
          -0.006831128102390244,
          -0.011196130018605885,
          -0.009808190154447645,
          -0.006443839308094535,
          0.0027210099214504324,
          0.005132980163529168,
          0.006589664708815708,
          -0.0007974759686199644,
          0.004381358062304245,
          0.0013972934750276374,
          0.005817868756599335,
          -0.0006779052996988767,
          0.013762810956568165,
          -0.00259862987464478,
          0.008606603769045625,
          -0.002244915176411037,
          0.0009203781090617803,
          0.0007558756409693709,
          0.005253627938462447,
          -0.0038244924550084273,
          -0.0015379766441157433,
          -0.0009586702711868356,
          0.002253910643624942,
          0.00446845357552151,
          -0.0026907893147129634,
          -0.0011422382888838056,
          0.0022654677823760387,
          -0.0036327413428643308,
          -0.005116746080698105,
          -0.004766111629640475,
          -0.009262595850327928,
          -0.010846796112648573,
          -0.0008965598635005392,
          -0.0041337556158701945,
          0.006184621581754503,
          0.0005429491252199404,
          -0.0012373619061629474,
          0.005403174952458144,
          -0.001378506192549641,
          0.007878471213475874,
          0.0077352507014858875,
          -0.001136529908841968,
          0.006269054773628725,
          -0.009243679851206684,
          0.0014770131770016947,
          -0.005014043766997013,
          -0.004911606305852561,
          0.004923295786139651,
          0.003997504286117604,
          0.00469031356952367,
          -0.0022669171213825644,
          0.01738520814869239,
          0.003649422036706788,
          0.000539626756889627,
          -0.0015423944621864951,
          0.0015220119721902525,
          -0.007808110818187719,
          -0.005243423422096365,
          -0.0009181084024204162,
          -0.007982984801054294,
          0.0045148063581422915,
          0.004177270795769436,
          0.0008360156009137349,
          -0.005353137103922307,
          -0.0020866582352593176,
          0.007901427253400439,
          -0.0037568760388992824,
          -0.0033075542137187006,
          -0.002598419061108838,
          -0.002352245327862456,
          0.006848444009242607,
          0.005125857294547682,
          -0.01345023045314843,
          -0.011662758370467553,
          0.004082282698491344,
          -0.004000100381573479,
          -0.0002888242097846519,
          0.0017951245017406516,
          1.8282492794077787e-05,
          0.004824510683578583,
          -0.008216476272962896,
          0.003392017513434953,
          0.0013713351215041045,
          0.0024932845132145083,
          0.005151557191091053,
          -0.004375642014458538,
          -0.0037065042690562246,
          0.0018729747291393252,
          -0.007623421185349987,
          0.008279972686500697,
          -0.0005816580381658209,
          0.0044707893394622614,
          -0.0006441764579444538,
          0.0006017703225024386,
          0.002541621312967421,
          0.006776583179542979,
          0.004194963894780541,
          0.001464271292010599,
          0.002016446345425173,
          0.011514405012972132,
          -0.006161381998352563,
          0.004489053682322567,
          -0.008672942951916125,
          0.005312152301950103,
          -0.0015306749541015964,
          -0.001197549177259923,
          -0.002188666824034959,
          0.0012786950607947592,
          0.005237917518428269,
          0.009603567844380392,
          0.006397556811016231,
          -0.0032889750916665792,
          0.0005677369374941506,
          -0.003069698675585406,
          0.009701397971105466,
          0.010539014249650435,
          -0.0057182398359323094,
          -0.002812242705972147,
          0.0026606832370056057,
          0.002720332470015999,
          -0.0019486584980050623,
          0.0009297779963721299,
          -0.006223622870394182,
          0.003766153785799557,
          0.001014261379293547,
          0.015180109108905587,
          -0.0006284515235432616,
          0.0008647472735273561,
          -0.0008562168023620621,
          -0.004712020536553745,
          0.00605410183019138,
          -0.001216794382210444,
          -0.0017775556981010569,
          -0.0004765588001541185,
          0.001922727477614464,
          -0.009968325348581603,
          0.0035351264080150163,
          0.007814274885607523,
          0.007281216812788787,
          -0.0010170521198728257,
          0.007581490460726066,
          -0.0041020946274194295,
          -0.007883035575703422,
          -0.00438798740910678,
          -0.005312300049300727,
          -0.007127589789923557,
          0.00784474012121602,
          -0.0032738688301266377,
          -0.0023454483681363005,
          0.005018055962943441,
          0.0012546063757678141,
          -0.002916481820147208,
          0.006405419054720987,
          -0.006710768152157695,
          0.0007867616749602604,
          0.0032904267785774403,
          -0.008066884736552603,
          0.0050272308988364815,
          -0.0011711676381937074,
          0.007478867149822576,
          -0.0014971597296803297,
          0.006077034392754579,
          -0.0021117026200044606,
          0.011452489622309367,
          0.0020092295726988696,
          -0.007526277909220919,
          0.005302692576977517,
          0.0011861977860612065,
          -0.008638673961373574,
          0.005925933930047172,
          -0.0009107067525634355,
          -0.0041008420154547785,
          -0.0020043012778879305,
          0.0047038188288148755,
          0.0001287966255619612,
          -0.002601505174484828,
          0.0025024077721058227,
          -0.002229459795264123,
          -0.004978513176470965,
          0.011259576895435877,
          0.0037027942785334365,
          0.0006362723420341651,
          0.0013936021066262043,
          -0.0024584907939281288,
          -0.003573736917008554,
          -0.00020262012333959606,
          0.011433462477332765,
          0.005000080646669559,
          -0.00018166499989067265,
          0.002364170666704914,
          0.003063262831029709,
          -0.0037525033549813515,
          0.002001903961713719,
          -0.00547004623212585,
          -0.006739482601278057,
          -0.0005913748915734548,
          -0.008687748912642346,
          0.004660504607783748,
          0.007945141534837177,
          0.007270589950534959,
          -0.007945504686722256,
          0.008043240605060198,
          0.0007215495102364518,
          0.008489038906557217,
          -0.00545434761236028,
          -0.002148690984514247,
          -0.008391838389801386,
          -0.00429978212584524,
          -0.009185822517964917,
          -0.011373114963795087,
          -0.0032188873098423334,
          0.0015432768091715003,
          -0.0007428643486568692,
          0.007073451173406745,
          -0.005870984095976958,
          0.0037817366954814055,
          0.009274498653554914,
          0.003753502865199457,
          -0.007936680292223943,
          -0.0028981094567224106,
          0.005239102647356496,
          0.004972127566234898,
          -0.0017203733300425305,
          -0.007016938308650021,
          0.0027915169552443653,
          0.0012765767207581638,
          -0.0031513611295717185,
          0.01030409351782338,
          0.0006196408783537884,
          -0.006185175864434547,
          -0.0008372679239078288,
          -0.0008284288604578772,
          -0.005221226501290875,
          -0.002258522019072357,
          -0.004156246530066805,
          -0.0014628847645384662,
          0.003921437059011361,
          -0.004797840525974052,
          -0.004399323612040198,
          0.013937513181104711,
          7.310336515219335e-05,
          -0.0011774474357452436,
          0.007130298383088651,
          -0.0023789055011570206,
          -0.0032193845442452873,
          -0.0034614027642886473,
          0.002604667338595137,
          -2.0625019214712964e-05,
          0.008618755739607447,
          0.011108448812814933,
          0.005485523292158401,
          0.00446332678123329,
          0.003524443098169415,
          0.008793950275391278,
          0.007605349926257507,
          -0.006611493365166296,
          -0.0009108642924070239,
          0.0008935355227811964,
          -0.008380328205921082,
          -0.0014569866300623495,
          -0.003971020792298807,
          -0.0140902841556146,
          -0.004512998933464093,
          -0.0007149991721320053,
          0.0035512614928119965,
          -0.0007855672171330685,
          0.002054165155706475,
          0.006670901504851849,
          0.005365732010883956,
          -0.011446506847070118,
          -0.013100571054157857,
          -0.004097476884241156,
          -0.0008734946305627971,
          0.006646192206472379,
          -0.012733040856345215,
          0.003948150336621214,
          -0.002221494046895773,
          0.006043585773041668,
          0.0027863957128269317,
          -0.0007212848437781953,
          -0.0018047245440360182,
          0.008235271000243564,
          -0.004666307763578044,
          0.012220333488541457,
          -0.00040695718975673235,
          -0.0014650525031881106,
          0.003206237756836993,
          -0.0003135164167318437,
          0.0023018169579115373,
          0.0008592849103701535,
          0.004180499335033189,
          0.001441320310062195,
          -0.0013390086147333094,
          -0.0020569954571542167,
          0.0005839737646285877,
          -0.0019418197436837066,
          -0.00324897301477852,
          0.00818558354017217,
          0.0019634953017975713,
          0.00019078829370127934,
          -0.001584809430525523,
          0.011683943037822855,
          0.00438972586515444,
          -0.010015135807311889,
          0.0012490800050689401,
          -0.008058077422418895,
          -0.005301592926855568,
          0.0017013969877614022,
          0.007017731199678478,
          0.004321506634919985,
          0.0023776096944399887,
          -0.0002065793890615366,
          0.0028206106188280603,
          0.002967421635822063,
          0.0023993772855748917,
          -0.0015080788544845946,
          -0.001593144527945782,
          0.0006393653230588377,
          0.0026005900044978815,
          0.0011279024041200734,
          0.006770839240683365,
          -0.0004452602839618556,
          0.002841217150373989,
          -0.00625202825639886,
          -0.005810055019176387,
          0.0023368275983023778,
          0.005596280393230368,
          -0.0032949338458307122,
          0.0022748686264438605,
          -0.010041410505103536,
          -0.011239574577907682,
          0.0022525940628121523,
          -0.00019295145571390088,
          0.0014820200315400493,
          -0.003122760389176126,
          -0.00010524766471548333,
          -0.009107173104122923,
          0.0026093993466155367,
          0.004719064433929306,
          0.005961894444262683,
          0.0024297238456509095,
          0.0026410011681550793,
          -0.00022947877107847535,
          -0.006561666764825874,
          -0.0014414075941124,
          0.006796632662303927,
          -0.009662155331065885,
          0.0029359499601229987,
          -0.0029832615418299894,
          -2.15219870217569e-05,
          0.0063496799834199275,
          0.012405710030521478,
          -0.0065843669395345755,
          0.003857048882733877,
          0.005070219341749733,
          -0.00039130459693100797,
          0.004406260042554922,
          -0.0024438695256781134,
          0.008025490185024159,
          -0.0006449095051692848,
          0.005323750111862455,
          0.0015940483638245389,
          -0.0005252835840527507,
          -0.0036978427877557805,
          0.004240478368731143,
          0.004002007579747142,
          -0.005318025943952655,
          -0.0018295552235576742,
          0.007627812613585128,
          -0.005440721511290118,
          0.0048788305483288335,
          -0.00250496798294725,
          0.006014324144970913,
          0.0014119176023745955,
          0.001314558723689966,
          -0.0011087489011610378,
          -0.0028562377177743046,
          -0.0020164403381885943,
          0.002383679946492963,
          0.0009191457861938345,
          -0.00119964154769052,
          -0.007022637536730832,
          -0.008509508938823698,
          -0.007256776699855279,
          0.0019506117410238656,
          -0.003138573339575551,
          0.002885530823419533,
          0.007005618909538241,
          0.0005568988646384413,
          -0.009656677417839158,
          -0.0033045573523924334,
          0.002375323088432235,
          -0.0036701190373452357,
          0.0017344178774896905,
          -0.005159182537436011,
          0.0002994462568347428,
          -0.013000873685293048,
          -0.001338905419168408,
          -0.00022442037929060188,
          0.0005460604689832326,
          -0.00681508518870318,
          -0.0010425431721314583,
          -0.0036693713858945484,
          0.0073920880019913635,
          -0.0039963369662706074,
          -0.0013843089947268758,
          -0.0054782473969628535,
          0.015058958604734912,
          -0.004574005609368824,
          -0.0006147639172033293,
          0.01624738606302485,
          0.007607987490879931,
          -0.0017932031708780935,
          0.0025253276614877872,
          0.0011183293555818102,
          0.004413386693333457,
          0.0034731413971904896,
          -0.0008616424286550873,
          -0.002552539104012869,
          -0.009318425491311792,
          0.002125751782747479,
          0.004039185029986525,
          -0.0042703046213135466,
          -0.00585899814286308,
          -0.0012801852427655521,
          0.00011139718351723012,
          0.0027328797422769696,
          -0.006878865036576838,
          -0.0002150916486788354,
          -0.004051828142049854,
          -0.0008271369134507647,
          0.0006172709214510136,
          -0.0004367665360750675,
          0.00044113215702920876,
          -0.0027720961040403275,
          0.00980721065728203,
          0.001789406766233282,
          0.009503187302298651,
          0.0029680628159847486,
          0.004302670587948404,
          0.0019128620937267186,
          -0.004878991666289717,
          0.004594105081796479,
          0.005861945084275818,
          -0.003728194904766408,
          -0.00528567637890777,
          -0.016700555688135374,
          -0.002225978405744399,
          -0.011480835956616376,
          -0.009384814814179672,
          -0.004526136870827529,
          0.00024269545992019678,
          -0.004078578670516182,
          -0.0010861560691399663,
          -0.00635750968011767,
          0.005716177394684529,
          0.001451994258760675,
          -0.00016684582204300625,
          -0.009578913452045472,
          -0.0045297249069511936,
          0.008950094297123151,
          -0.007778941387043936,
          0.0010514901872549238,
          -0.002148271264382288,
          0.006666700814767871,
          -0.0027180960160246284,
          0.00705860031134733,
          0.009900392192575418,
          -0.0038109983391620356,
          0.003130266407302574,
          0.0001382193897316664,
          -0.0026066204178362296,
          -0.0022607284429897955,
          0.007895767645864141,
          0.0019131625031026693,
          0.007700873104946538,
          -0.008854438576973414,
          0.001342920430657396,
          -0.001240116478356243,
          -0.005771792547991034,
          0.003593092695854826,
          -0.00986816804118816,
          0.0004864183703170901,
          0.007001795466347099,
          -0.002508634376634294,
          -0.007291968366837399,
          0.005221762350135704,
          0.0023753505376255643,
          -0.005693724931919214,
          0.003658063022148769,
          -0.0006936248836393799,
          0.009113768025559695,
          -0.0071578588611147425,
          -0.0006038430439378566,
          0.0003226434605386975,
          0.006675695555692406,
          -0.0034245379337032346,
          0.0010671573180159929,
          -0.0013656356222240334,
          -0.015492909279589651,
          -0.00257804977546536,
          -0.001034611967361383,
          -0.009959636693176004,
          -0.009878547985813078,
          0.006007531683159736,
          0.011896262218387108,
          0.0013437637484582307,
          -0.008852117371295211,
          0.012096904718780707,
          0.011007694952089482,
          0.0020671818076247813,
          0.004384376652895164,
          -0.001433795455691684,
          -0.0006984048433816138,
          -0.00278498056064422,
          0.0035328455541384263,
          0.006106649813671387,
          0.00272503343602229,
          -0.00453187566810114,
          0.005596883861040752,
          0.007043207243020197,
          0.002799299964736333,
          0.0011162233612015426,
          -0.0009120224512181876,
          0.009589489784331355,
          0.010290614191744034,
          -0.0015139307046925523,
          0.008323136379212528,
          -0.00188241351158152,
          -0.0015610966690758304,
          -0.0018421504330796178,
          0.00794514920398142,
          -0.0037344706446310184,
          -0.005929586007248612,
          -0.005490895499777298,
          -0.0023152197452691583,
          -0.015000930488516636,
          -0.0031532750095675886,
          -0.004080528281096418,
          -0.007440077678666023,
          0.003480908735979554,
          -0.004613370902177038,
          -0.004272943714362935,
          -0.0016880826117545737,
          -0.006186868071515608,
          0.004098381584986127,
          -0.006311498099131304,
          0.009363606272631522,
          0.0031032725990557536,
          -0.00359341425868848,
          -0.002730066218372437,
          -0.002716455493510128,
          0.00018612185600202277,
          -0.001455981525946701,
          0.010153947336103674,
          0.0028947679647397017,
          0.00421497767786461,
          0.004473955150055725,
          -0.0024923954123272766,
          0.011233397472388267,
          0.0071431639826152245,
          -0.008891492437784296,
          -0.0075440618372644595,
          0.007028500126163666,
          -0.014978777849171829,
          -2.519858718693724e-05,
          0.0064278024793851946,
          -7.732377583025835e-05,
          0.0015970178527561683,
          -0.008084401843740518,
          -0.001717446361575206,
          0.005706749092889743,
          0.0007356821478407445,
          0.002634821310221167,
          0.005265336932340523,
          -0.0007168231282115825,
          -0.0029538553613387723,
          -0.002757579039064164,
          0.00045253262206693644,
          -0.007210760295054429,
          -0.00745842399946667,
          -0.009085686833241608,
          0.00636724228376873,
          -0.0014659136900095756,
          0.004548426817037902,
          -0.016278562203890415,
          -0.005534840779731242,
          -0.005831122018312405,
          0.0076627458024587074,
          0.007031574256322144,
          0.0038101621314812852,
          -0.008696202073527816,
          0.0064747324522736165,
          -0.004480732686423824,
          0.005590025768820226,
          0.012691981141328612,
          -0.0002771721048462944,
          0.004893413632781082,
          -0.009434227840298931,
          -0.0047524585231254225,
          0.009463824748997781,
          0.005531275647979514,
          0.0009249148945234013,
          -0.005661493045075431,
          -0.004186034845920962,
          0.003889883591235245,
          -0.00011184956989768917,
          0.005588092314685957,
          0.004435019118183745,
          0.00045652162336963205,
          0.006599291460488509,
          0.006566112116440123,
          -0.0004490007078005835,
          -0.003031074184620206,
          -0.0012906312860285923,
          -0.00023863205359197712,
          -0.00018103707362289445,
          -0.00019466196433068437,
          -0.005593536688928781,
          -0.0017168980053946623,
          0.0074366883557508,
          -0.00046965354977334534,
          -0.0006377028302823797,
          0.004846396000861054
         ],
         "xaxis": "x",
         "yaxis": "y"
        }
       ],
       "layout": {
        "barmode": "relative",
        "legend": {
         "title": {
          "text": "variable"
         },
         "tracegroupgap": 0
        },
        "template": {
         "data": {
          "bar": [
           {
            "error_x": {
             "color": "#2a3f5f"
            },
            "error_y": {
             "color": "#2a3f5f"
            },
            "marker": {
             "line": {
              "color": "#E5ECF6",
              "width": 0.5
             },
             "pattern": {
              "fillmode": "overlay",
              "size": 10,
              "solidity": 0.2
             }
            },
            "type": "bar"
           }
          ],
          "barpolar": [
           {
            "marker": {
             "line": {
              "color": "#E5ECF6",
              "width": 0.5
             },
             "pattern": {
              "fillmode": "overlay",
              "size": 10,
              "solidity": 0.2
             }
            },
            "type": "barpolar"
           }
          ],
          "carpet": [
           {
            "aaxis": {
             "endlinecolor": "#2a3f5f",
             "gridcolor": "white",
             "linecolor": "white",
             "minorgridcolor": "white",
             "startlinecolor": "#2a3f5f"
            },
            "baxis": {
             "endlinecolor": "#2a3f5f",
             "gridcolor": "white",
             "linecolor": "white",
             "minorgridcolor": "white",
             "startlinecolor": "#2a3f5f"
            },
            "type": "carpet"
           }
          ],
          "choropleth": [
           {
            "colorbar": {
             "outlinewidth": 0,
             "ticks": ""
            },
            "type": "choropleth"
           }
          ],
          "contour": [
           {
            "colorbar": {
             "outlinewidth": 0,
             "ticks": ""
            },
            "colorscale": [
             [
              0,
              "#0d0887"
             ],
             [
              0.1111111111111111,
              "#46039f"
             ],
             [
              0.2222222222222222,
              "#7201a8"
             ],
             [
              0.3333333333333333,
              "#9c179e"
             ],
             [
              0.4444444444444444,
              "#bd3786"
             ],
             [
              0.5555555555555556,
              "#d8576b"
             ],
             [
              0.6666666666666666,
              "#ed7953"
             ],
             [
              0.7777777777777778,
              "#fb9f3a"
             ],
             [
              0.8888888888888888,
              "#fdca26"
             ],
             [
              1,
              "#f0f921"
             ]
            ],
            "type": "contour"
           }
          ],
          "contourcarpet": [
           {
            "colorbar": {
             "outlinewidth": 0,
             "ticks": ""
            },
            "type": "contourcarpet"
           }
          ],
          "heatmap": [
           {
            "colorbar": {
             "outlinewidth": 0,
             "ticks": ""
            },
            "colorscale": [
             [
              0,
              "#0d0887"
             ],
             [
              0.1111111111111111,
              "#46039f"
             ],
             [
              0.2222222222222222,
              "#7201a8"
             ],
             [
              0.3333333333333333,
              "#9c179e"
             ],
             [
              0.4444444444444444,
              "#bd3786"
             ],
             [
              0.5555555555555556,
              "#d8576b"
             ],
             [
              0.6666666666666666,
              "#ed7953"
             ],
             [
              0.7777777777777778,
              "#fb9f3a"
             ],
             [
              0.8888888888888888,
              "#fdca26"
             ],
             [
              1,
              "#f0f921"
             ]
            ],
            "type": "heatmap"
           }
          ],
          "heatmapgl": [
           {
            "colorbar": {
             "outlinewidth": 0,
             "ticks": ""
            },
            "colorscale": [
             [
              0,
              "#0d0887"
             ],
             [
              0.1111111111111111,
              "#46039f"
             ],
             [
              0.2222222222222222,
              "#7201a8"
             ],
             [
              0.3333333333333333,
              "#9c179e"
             ],
             [
              0.4444444444444444,
              "#bd3786"
             ],
             [
              0.5555555555555556,
              "#d8576b"
             ],
             [
              0.6666666666666666,
              "#ed7953"
             ],
             [
              0.7777777777777778,
              "#fb9f3a"
             ],
             [
              0.8888888888888888,
              "#fdca26"
             ],
             [
              1,
              "#f0f921"
             ]
            ],
            "type": "heatmapgl"
           }
          ],
          "histogram": [
           {
            "marker": {
             "pattern": {
              "fillmode": "overlay",
              "size": 10,
              "solidity": 0.2
             }
            },
            "type": "histogram"
           }
          ],
          "histogram2d": [
           {
            "colorbar": {
             "outlinewidth": 0,
             "ticks": ""
            },
            "colorscale": [
             [
              0,
              "#0d0887"
             ],
             [
              0.1111111111111111,
              "#46039f"
             ],
             [
              0.2222222222222222,
              "#7201a8"
             ],
             [
              0.3333333333333333,
              "#9c179e"
             ],
             [
              0.4444444444444444,
              "#bd3786"
             ],
             [
              0.5555555555555556,
              "#d8576b"
             ],
             [
              0.6666666666666666,
              "#ed7953"
             ],
             [
              0.7777777777777778,
              "#fb9f3a"
             ],
             [
              0.8888888888888888,
              "#fdca26"
             ],
             [
              1,
              "#f0f921"
             ]
            ],
            "type": "histogram2d"
           }
          ],
          "histogram2dcontour": [
           {
            "colorbar": {
             "outlinewidth": 0,
             "ticks": ""
            },
            "colorscale": [
             [
              0,
              "#0d0887"
             ],
             [
              0.1111111111111111,
              "#46039f"
             ],
             [
              0.2222222222222222,
              "#7201a8"
             ],
             [
              0.3333333333333333,
              "#9c179e"
             ],
             [
              0.4444444444444444,
              "#bd3786"
             ],
             [
              0.5555555555555556,
              "#d8576b"
             ],
             [
              0.6666666666666666,
              "#ed7953"
             ],
             [
              0.7777777777777778,
              "#fb9f3a"
             ],
             [
              0.8888888888888888,
              "#fdca26"
             ],
             [
              1,
              "#f0f921"
             ]
            ],
            "type": "histogram2dcontour"
           }
          ],
          "mesh3d": [
           {
            "colorbar": {
             "outlinewidth": 0,
             "ticks": ""
            },
            "type": "mesh3d"
           }
          ],
          "parcoords": [
           {
            "line": {
             "colorbar": {
              "outlinewidth": 0,
              "ticks": ""
             }
            },
            "type": "parcoords"
           }
          ],
          "pie": [
           {
            "automargin": true,
            "type": "pie"
           }
          ],
          "scatter": [
           {
            "fillpattern": {
             "fillmode": "overlay",
             "size": 10,
             "solidity": 0.2
            },
            "type": "scatter"
           }
          ],
          "scatter3d": [
           {
            "line": {
             "colorbar": {
              "outlinewidth": 0,
              "ticks": ""
             }
            },
            "marker": {
             "colorbar": {
              "outlinewidth": 0,
              "ticks": ""
             }
            },
            "type": "scatter3d"
           }
          ],
          "scattercarpet": [
           {
            "marker": {
             "colorbar": {
              "outlinewidth": 0,
              "ticks": ""
             }
            },
            "type": "scattercarpet"
           }
          ],
          "scattergeo": [
           {
            "marker": {
             "colorbar": {
              "outlinewidth": 0,
              "ticks": ""
             }
            },
            "type": "scattergeo"
           }
          ],
          "scattergl": [
           {
            "marker": {
             "colorbar": {
              "outlinewidth": 0,
              "ticks": ""
             }
            },
            "type": "scattergl"
           }
          ],
          "scattermapbox": [
           {
            "marker": {
             "colorbar": {
              "outlinewidth": 0,
              "ticks": ""
             }
            },
            "type": "scattermapbox"
           }
          ],
          "scatterpolar": [
           {
            "marker": {
             "colorbar": {
              "outlinewidth": 0,
              "ticks": ""
             }
            },
            "type": "scatterpolar"
           }
          ],
          "scatterpolargl": [
           {
            "marker": {
             "colorbar": {
              "outlinewidth": 0,
              "ticks": ""
             }
            },
            "type": "scatterpolargl"
           }
          ],
          "scatterternary": [
           {
            "marker": {
             "colorbar": {
              "outlinewidth": 0,
              "ticks": ""
             }
            },
            "type": "scatterternary"
           }
          ],
          "surface": [
           {
            "colorbar": {
             "outlinewidth": 0,
             "ticks": ""
            },
            "colorscale": [
             [
              0,
              "#0d0887"
             ],
             [
              0.1111111111111111,
              "#46039f"
             ],
             [
              0.2222222222222222,
              "#7201a8"
             ],
             [
              0.3333333333333333,
              "#9c179e"
             ],
             [
              0.4444444444444444,
              "#bd3786"
             ],
             [
              0.5555555555555556,
              "#d8576b"
             ],
             [
              0.6666666666666666,
              "#ed7953"
             ],
             [
              0.7777777777777778,
              "#fb9f3a"
             ],
             [
              0.8888888888888888,
              "#fdca26"
             ],
             [
              1,
              "#f0f921"
             ]
            ],
            "type": "surface"
           }
          ],
          "table": [
           {
            "cells": {
             "fill": {
              "color": "#EBF0F8"
             },
             "line": {
              "color": "white"
             }
            },
            "header": {
             "fill": {
              "color": "#C8D4E3"
             },
             "line": {
              "color": "white"
             }
            },
            "type": "table"
           }
          ]
         },
         "layout": {
          "annotationdefaults": {
           "arrowcolor": "#2a3f5f",
           "arrowhead": 0,
           "arrowwidth": 1
          },
          "autotypenumbers": "strict",
          "coloraxis": {
           "colorbar": {
            "outlinewidth": 0,
            "ticks": ""
           }
          },
          "colorscale": {
           "diverging": [
            [
             0,
             "#8e0152"
            ],
            [
             0.1,
             "#c51b7d"
            ],
            [
             0.2,
             "#de77ae"
            ],
            [
             0.3,
             "#f1b6da"
            ],
            [
             0.4,
             "#fde0ef"
            ],
            [
             0.5,
             "#f7f7f7"
            ],
            [
             0.6,
             "#e6f5d0"
            ],
            [
             0.7,
             "#b8e186"
            ],
            [
             0.8,
             "#7fbc41"
            ],
            [
             0.9,
             "#4d9221"
            ],
            [
             1,
             "#276419"
            ]
           ],
           "sequential": [
            [
             0,
             "#0d0887"
            ],
            [
             0.1111111111111111,
             "#46039f"
            ],
            [
             0.2222222222222222,
             "#7201a8"
            ],
            [
             0.3333333333333333,
             "#9c179e"
            ],
            [
             0.4444444444444444,
             "#bd3786"
            ],
            [
             0.5555555555555556,
             "#d8576b"
            ],
            [
             0.6666666666666666,
             "#ed7953"
            ],
            [
             0.7777777777777778,
             "#fb9f3a"
            ],
            [
             0.8888888888888888,
             "#fdca26"
            ],
            [
             1,
             "#f0f921"
            ]
           ],
           "sequentialminus": [
            [
             0,
             "#0d0887"
            ],
            [
             0.1111111111111111,
             "#46039f"
            ],
            [
             0.2222222222222222,
             "#7201a8"
            ],
            [
             0.3333333333333333,
             "#9c179e"
            ],
            [
             0.4444444444444444,
             "#bd3786"
            ],
            [
             0.5555555555555556,
             "#d8576b"
            ],
            [
             0.6666666666666666,
             "#ed7953"
            ],
            [
             0.7777777777777778,
             "#fb9f3a"
            ],
            [
             0.8888888888888888,
             "#fdca26"
            ],
            [
             1,
             "#f0f921"
            ]
           ]
          },
          "colorway": [
           "#636efa",
           "#EF553B",
           "#00cc96",
           "#ab63fa",
           "#FFA15A",
           "#19d3f3",
           "#FF6692",
           "#B6E880",
           "#FF97FF",
           "#FECB52"
          ],
          "font": {
           "color": "#2a3f5f"
          },
          "geo": {
           "bgcolor": "white",
           "lakecolor": "white",
           "landcolor": "#E5ECF6",
           "showlakes": true,
           "showland": true,
           "subunitcolor": "white"
          },
          "hoverlabel": {
           "align": "left"
          },
          "hovermode": "closest",
          "mapbox": {
           "style": "light"
          },
          "paper_bgcolor": "white",
          "plot_bgcolor": "#E5ECF6",
          "polar": {
           "angularaxis": {
            "gridcolor": "white",
            "linecolor": "white",
            "ticks": ""
           },
           "bgcolor": "#E5ECF6",
           "radialaxis": {
            "gridcolor": "white",
            "linecolor": "white",
            "ticks": ""
           }
          },
          "scene": {
           "xaxis": {
            "backgroundcolor": "#E5ECF6",
            "gridcolor": "white",
            "gridwidth": 2,
            "linecolor": "white",
            "showbackground": true,
            "ticks": "",
            "zerolinecolor": "white"
           },
           "yaxis": {
            "backgroundcolor": "#E5ECF6",
            "gridcolor": "white",
            "gridwidth": 2,
            "linecolor": "white",
            "showbackground": true,
            "ticks": "",
            "zerolinecolor": "white"
           },
           "zaxis": {
            "backgroundcolor": "#E5ECF6",
            "gridcolor": "white",
            "gridwidth": 2,
            "linecolor": "white",
            "showbackground": true,
            "ticks": "",
            "zerolinecolor": "white"
           }
          },
          "shapedefaults": {
           "line": {
            "color": "#2a3f5f"
           }
          },
          "ternary": {
           "aaxis": {
            "gridcolor": "white",
            "linecolor": "white",
            "ticks": ""
           },
           "baxis": {
            "gridcolor": "white",
            "linecolor": "white",
            "ticks": ""
           },
           "bgcolor": "#E5ECF6",
           "caxis": {
            "gridcolor": "white",
            "linecolor": "white",
            "ticks": ""
           }
          },
          "title": {
           "x": 0.05
          },
          "xaxis": {
           "automargin": true,
           "gridcolor": "white",
           "linecolor": "white",
           "ticks": "",
           "title": {
            "standoff": 15
           },
           "zerolinecolor": "white",
           "zerolinewidth": 2
          },
          "yaxis": {
           "automargin": true,
           "gridcolor": "white",
           "linecolor": "white",
           "ticks": "",
           "title": {
            "standoff": 15
           },
           "zerolinecolor": "white",
           "zerolinewidth": 2
          }
         }
        },
        "title": {
         "text": "Sampling Distribution of Slope Coefficients under Null Hypothesis"
        },
        "xaxis": {
         "anchor": "y",
         "domain": [
          0,
          1
         ],
         "title": {
          "text": "value"
         }
        },
        "yaxis": {
         "anchor": "x",
         "domain": [
          0,
          1
         ],
         "title": {
          "text": "count"
         }
        }
       }
      },
      "text/html": [
       "<div>                            <div id=\"d479a575-d2ed-4aca-9392-45b3fd1f6699\" class=\"plotly-graph-div\" style=\"height:525px; width:100%;\"></div>            <script type=\"text/javascript\">                require([\"plotly\"], function(Plotly) {                    window.PLOTLYENV=window.PLOTLYENV || {};                                    if (document.getElementById(\"d479a575-d2ed-4aca-9392-45b3fd1f6699\")) {                    Plotly.newPlot(                        \"d479a575-d2ed-4aca-9392-45b3fd1f6699\",                        [{\"alignmentgroup\":\"True\",\"bingroup\":\"x\",\"hovertemplate\":\"variable=0\\u003cbr\\u003evalue=%{x}\\u003cbr\\u003ecount=%{y}\\u003cextra\\u003e\\u003c\\u002fextra\\u003e\",\"legendgroup\":\"0\",\"marker\":{\"color\":\"#636efa\",\"pattern\":{\"shape\":\"\"}},\"name\":\"0\",\"nbinsx\":30,\"offsetgroup\":\"0\",\"orientation\":\"v\",\"showlegend\":true,\"x\":[-0.013996130006171628,0.004730080326691862,0.005471163057398875,-0.0024693033210161828,-0.013296021762673178,0.0007813675492186402,-0.0020065574158481822,0.011657652555285229,-0.002016610665498876,-0.008205362651830434,-0.0015104322161991679,0.0002876928918637005,0.010680964635688638,-0.0002593245321952514,-0.005515926619965933,-0.012001438214103948,-0.0014715139773754304,0.0029775919113197782,-0.008359129005122763,-0.0007719326767000995,-0.006401902179156812,-0.0030642191148649942,-0.002015613574485276,-0.0020756572473660685,0.0019873607679537306,-0.004669760049309217,-0.012752606075487952,-0.002922120804720832,-0.002336035899933702,0.007173203573222328,-0.008992716458720613,0.0023147333418192945,0.0012429449513778786,-0.006462690504307075,-0.008761914571843193,-0.0023722447235616766,-0.0034774228450452018,-0.00021405186691571178,-0.004002337300637245,0.007066036668084965,-0.0058694061218164525,-0.004673142446972926,0.0006282025805696063,0.0012048964939824149,-0.011487689959399423,-0.008461111207923587,0.004447208388482381,0.0022077668184676217,-0.006806872887973969,-0.002747623604875328,0.0025785346044508847,-0.004711395514067602,-0.0006115077365557529,0.0005407369131712478,0.0060376802236325675,-0.0019222244978462097,-0.00039289593050534713,-0.0010676119498554096,0.0023963927682639826,-0.006275321467915849,-0.014085687360878577,-0.003146585586325501,-0.01034214618048607,0.005884919236837018,0.0012591082251256405,0.006340979097632101,0.012504820012931342,-0.002137491066272619,0.0017995576102899213,-0.0053190747264161686,-0.005246300126330239,-0.004783536554407517,-0.0053157289013570155,-0.0006632186885508376,0.001095017352424144,-0.002322450771660646,0.012899817672823593,-0.006204533523678332,0.005332321972907654,-0.007173865976817145,0.0049865645716285125,0.007214232079848979,-0.003361385231006746,-0.005839065683090086,0.005000462539299975,0.004080677516486109,-0.00393570505707168,0.007441755789942453,0.010905888239673051,-0.006407271603738661,0.0031740039998451853,-0.010788393758525524,-0.0011176413710914782,0.0007200803008901302,-0.007805386008002236,0.006548689124854431,-0.005430418884623363,-0.0017912804916967772,-0.007198194546222385,-0.001661469911253116,0.0075020365819570885,-0.007597155869736972,-0.0028736166950259732,0.005539214214663283,-0.010776168867014005,-0.004145309743953716,-0.0026260020916439378,-0.0045823601304746135,-0.0003587572914098376,0.005215210713161074,0.0007929913475356294,-0.008946125430115944,-0.004485638499028709,-0.008486796001739506,0.004228951887871963,0.0032905072801212025,-0.006257817310677144,-0.002498332030823564,-0.0010795121743642864,-3.478089016444117e-05,0.003691472048092127,0.009352867142180036,0.002703123240671329,0.0052332914020490635,-0.007504310552200783,-0.0009550145541196396,0.005326833442364093,0.005078100207267881,-0.0008957734826201681,0.0009625048361095671,-0.0007098841201350226,0.004064982462224954,0.011296825922405333,0.014809939292148386,-0.0017771018388899494,0.0003461893338690394,0.0008217864284819419,0.00010872739581342054,0.0027122202126127824,-0.0005788480945799319,0.00455380047824806,-0.008351083417655775,-0.0002557065322506,-0.0027224391446053135,0.0027812115524262155,0.007458969025187597,0.0016670099615977,0.010690987383892576,-0.0033011173102387072,0.0010887262345047367,0.0025400915847246194,-0.00515332213419838,0.008617050416888403,0.0025147426729096953,0.0042790583672118725,-0.0011094563500893117,-0.0011103350217683467,-0.0014362976063126555,-0.006812992771994562,0.006145627603604081,-0.001980910079776128,0.007498646802223637,-0.002421019710054323,-0.005965855950519234,0.00010887966550986172,0.008619001397299556,-0.006720200545327473,-0.007925847017922299,0.0028446931849265035,0.0028539068047951626,-0.0059670995868621925,-0.004882185537334178,0.001946670927960489,-0.005212247563477953,-0.0024297354657694344,0.004321096109172314,2.4904086635291894e-05,-0.0013767843249446008,0.008633017846883159,-0.004961056934699939,0.006764254077518286,0.0010103111591032742,0.013170607060784108,-0.010504262914111844,-0.0017947122075597775,-0.00814829394170842,0.002173568796985238,0.0010876212542152625,0.0007985868518508138,0.010281589197716524,-2.014768874053583e-05,-0.0012414238124982355,0.0039710411265855075,0.0071037090415633376,0.0018642095780688098,0.006397986783052581,-0.0013155075776448014,-0.0061894904597700525,-0.0018660423041836002,0.0015669710570189047,-0.008471488459883414,0.001312583608786902,-0.002613624147506593,0.0034956875817197773,-0.006340738394461498,-0.0037081852694846726,0.0028380800138742605,0.010952395814760998,-0.00096526992943768,-0.0014466080992318353,4.949842434720953e-05,-0.004554245373156124,0.007500747254126746,0.0036724146106756343,-0.012108717599288159,0.004073295024765213,0.006764498891967565,-0.0016596588478452012,-0.007403108537864337,-0.0036582006451167234,-0.0006463401191921713,-0.003247881355126452,0.0016985573786608994,-0.0034694210303382058,-0.0018587501349484918,-0.00815262264962035,-0.010153838826621329,0.004165927086101818,-0.001895089475723333,-0.0005231202119520819,-0.006067955851696592,0.005612269369521134,-0.005400855187954778,0.0042832721857582875,-0.0002068812979642209,-0.00464204692237356,0.005617287474622239,0.007693696332363602,0.0004935170984581732,0.004016194415120638,-0.011949263232802914,-0.0025395013383655474,-0.004404490402814175,-0.0015759142561001965,-0.00268635657991844,-0.006844108413515104,-0.003729637236612568,0.003465321206125905,0.0038684931114367927,-0.0006614551554180656,-0.003656558433829178,-0.002370180121227225,-0.0009115862148920575,0.010684058384662553,0.008706346752189278,-7.852522429777596e-05,0.0004756081872512108,-0.00094076013567773,-0.004260271361424258,-0.0025322768198499947,-0.0018991878977679699,0.00430113605184552,-0.005461380892839053,-0.006588202428713947,0.005414117657893065,-0.0014358283883169026,0.0015781123139770453,0.008773192925389486,-0.0016904303219987182,0.002924432786499207,0.002965991811158783,0.00201446210901453,0.003700475894290956,-0.006325780991543796,-0.005438001011310831,-0.0037818040360618286,0.013108037353293857,0.0022807062238667337,-2.5003618925580062e-05,-0.0006686631594528254,-0.006537091293327154,-0.004245036115850003,0.0008798386170908597,0.003391606366833518,0.008523030876384084,8.70115330522548e-05,0.0023011302109399866,0.002881849264063286,-0.00838773731611201,-0.004373837676605264,-0.0005829490295310362,0.006836187033322644,-0.000902049155269158,0.0034169883407059233,0.0016887101481779352,0.0011367209840114486,-0.002562167409298933,0.002872796710351988,-0.0019140536873144863,-0.006647185014677167,0.0024914207633448026,0.007774093795476702,0.003403456703885358,-0.00563302293905896,0.010812646200544108,0.004944297824053083,0.011486242131410564,0.001442192897195698,0.0015991384083866972,-0.0024368503352983576,0.007993689067203266,0.0011042393852720234,-0.0004901011171816257,-0.000909022994890703,-0.0031139279338541293,0.00183369067622969,-0.008705680775566932,0.004316838860238627,0.007084575998536764,0.004864982304714844,0.00994383685669177,-0.001741901067846773,0.008422605741594385,0.009813083729415849,0.00999561700911402,0.0019617795883345958,0.007510108200464047,-0.004060539725028112,-0.0007984395552507666,0.0023557809717309626,-0.0075695915261485185,-0.006095311904573554,0.009562037071039118,-0.008476454603560066,0.0042940679520326284,-0.008899254780201905,0.007170286125312363,0.00766131037007706,-0.0010596865323212355,0.004710341101102001,-0.005226751196775744,0.0026341290718275437,-0.0017172702782527346,-0.008900679316371446,0.0004268738435849158,-0.0023927240261526622,-0.005648703495755904,-0.001490424191655993,-0.0018277055354330445,0.009243154734967375,-0.0013709189372038202,0.0005811929692985489,0.0062452082816060635,0.00345613903152755,-0.004332899519587502,0.009973776287274035,-0.008341586383502032,-0.0015807126399832146,0.0010457127620796115,-0.0006853923955329306,-0.004434351346854139,-0.0005034713133774669,-0.003913775902723877,-0.006273702776673087,0.008178931966391197,0.002283413612768672,0.0006131652923645307,-0.0005163105253669805,0.006234669538671747,-0.013066609002525188,-0.0019079713337381333,0.007543333076928805,-0.012137087505447888,0.0026181036253023022,-0.0023840892498957957,0.00024812416149741067,-0.006831128102390244,-0.011196130018605885,-0.009808190154447645,-0.006443839308094535,0.0027210099214504324,0.005132980163529168,0.006589664708815708,-0.0007974759686199644,0.004381358062304245,0.0013972934750276374,0.005817868756599335,-0.0006779052996988767,0.013762810956568165,-0.00259862987464478,0.008606603769045625,-0.002244915176411037,0.0009203781090617803,0.0007558756409693709,0.005253627938462447,-0.0038244924550084273,-0.0015379766441157433,-0.0009586702711868356,0.002253910643624942,0.00446845357552151,-0.0026907893147129634,-0.0011422382888838056,0.0022654677823760387,-0.0036327413428643308,-0.005116746080698105,-0.004766111629640475,-0.009262595850327928,-0.010846796112648573,-0.0008965598635005392,-0.0041337556158701945,0.006184621581754503,0.0005429491252199404,-0.0012373619061629474,0.005403174952458144,-0.001378506192549641,0.007878471213475874,0.0077352507014858875,-0.001136529908841968,0.006269054773628725,-0.009243679851206684,0.0014770131770016947,-0.005014043766997013,-0.004911606305852561,0.004923295786139651,0.003997504286117604,0.00469031356952367,-0.0022669171213825644,0.01738520814869239,0.003649422036706788,0.000539626756889627,-0.0015423944621864951,0.0015220119721902525,-0.007808110818187719,-0.005243423422096365,-0.0009181084024204162,-0.007982984801054294,0.0045148063581422915,0.004177270795769436,0.0008360156009137349,-0.005353137103922307,-0.0020866582352593176,0.007901427253400439,-0.0037568760388992824,-0.0033075542137187006,-0.002598419061108838,-0.002352245327862456,0.006848444009242607,0.005125857294547682,-0.01345023045314843,-0.011662758370467553,0.004082282698491344,-0.004000100381573479,-0.0002888242097846519,0.0017951245017406516,1.8282492794077787e-05,0.004824510683578583,-0.008216476272962896,0.003392017513434953,0.0013713351215041045,0.0024932845132145083,0.005151557191091053,-0.004375642014458538,-0.0037065042690562246,0.0018729747291393252,-0.007623421185349987,0.008279972686500697,-0.0005816580381658209,0.0044707893394622614,-0.0006441764579444538,0.0006017703225024386,0.002541621312967421,0.006776583179542979,0.004194963894780541,0.001464271292010599,0.002016446345425173,0.011514405012972132,-0.006161381998352563,0.004489053682322567,-0.008672942951916125,0.005312152301950103,-0.0015306749541015964,-0.001197549177259923,-0.002188666824034959,0.0012786950607947592,0.005237917518428269,0.009603567844380392,0.006397556811016231,-0.0032889750916665792,0.0005677369374941506,-0.003069698675585406,0.009701397971105466,0.010539014249650435,-0.0057182398359323094,-0.002812242705972147,0.0026606832370056057,0.002720332470015999,-0.0019486584980050623,0.0009297779963721299,-0.006223622870394182,0.003766153785799557,0.001014261379293547,0.015180109108905587,-0.0006284515235432616,0.0008647472735273561,-0.0008562168023620621,-0.004712020536553745,0.00605410183019138,-0.001216794382210444,-0.0017775556981010569,-0.0004765588001541185,0.001922727477614464,-0.009968325348581603,0.0035351264080150163,0.007814274885607523,0.007281216812788787,-0.0010170521198728257,0.007581490460726066,-0.0041020946274194295,-0.007883035575703422,-0.00438798740910678,-0.005312300049300727,-0.007127589789923557,0.00784474012121602,-0.0032738688301266377,-0.0023454483681363005,0.005018055962943441,0.0012546063757678141,-0.002916481820147208,0.006405419054720987,-0.006710768152157695,0.0007867616749602604,0.0032904267785774403,-0.008066884736552603,0.0050272308988364815,-0.0011711676381937074,0.007478867149822576,-0.0014971597296803297,0.006077034392754579,-0.0021117026200044606,0.011452489622309367,0.0020092295726988696,-0.007526277909220919,0.005302692576977517,0.0011861977860612065,-0.008638673961373574,0.005925933930047172,-0.0009107067525634355,-0.0041008420154547785,-0.0020043012778879305,0.0047038188288148755,0.0001287966255619612,-0.002601505174484828,0.0025024077721058227,-0.002229459795264123,-0.004978513176470965,0.011259576895435877,0.0037027942785334365,0.0006362723420341651,0.0013936021066262043,-0.0024584907939281288,-0.003573736917008554,-0.00020262012333959606,0.011433462477332765,0.005000080646669559,-0.00018166499989067265,0.002364170666704914,0.003063262831029709,-0.0037525033549813515,0.002001903961713719,-0.00547004623212585,-0.006739482601278057,-0.0005913748915734548,-0.008687748912642346,0.004660504607783748,0.007945141534837177,0.007270589950534959,-0.007945504686722256,0.008043240605060198,0.0007215495102364518,0.008489038906557217,-0.00545434761236028,-0.002148690984514247,-0.008391838389801386,-0.00429978212584524,-0.009185822517964917,-0.011373114963795087,-0.0032188873098423334,0.0015432768091715003,-0.0007428643486568692,0.007073451173406745,-0.005870984095976958,0.0037817366954814055,0.009274498653554914,0.003753502865199457,-0.007936680292223943,-0.0028981094567224106,0.005239102647356496,0.004972127566234898,-0.0017203733300425305,-0.007016938308650021,0.0027915169552443653,0.0012765767207581638,-0.0031513611295717185,0.01030409351782338,0.0006196408783537884,-0.006185175864434547,-0.0008372679239078288,-0.0008284288604578772,-0.005221226501290875,-0.002258522019072357,-0.004156246530066805,-0.0014628847645384662,0.003921437059011361,-0.004797840525974052,-0.004399323612040198,0.013937513181104711,7.310336515219335e-05,-0.0011774474357452436,0.007130298383088651,-0.0023789055011570206,-0.0032193845442452873,-0.0034614027642886473,0.002604667338595137,-2.0625019214712964e-05,0.008618755739607447,0.011108448812814933,0.005485523292158401,0.00446332678123329,0.003524443098169415,0.008793950275391278,0.007605349926257507,-0.006611493365166296,-0.0009108642924070239,0.0008935355227811964,-0.008380328205921082,-0.0014569866300623495,-0.003971020792298807,-0.0140902841556146,-0.004512998933464093,-0.0007149991721320053,0.0035512614928119965,-0.0007855672171330685,0.002054165155706475,0.006670901504851849,0.005365732010883956,-0.011446506847070118,-0.013100571054157857,-0.004097476884241156,-0.0008734946305627971,0.006646192206472379,-0.012733040856345215,0.003948150336621214,-0.002221494046895773,0.006043585773041668,0.0027863957128269317,-0.0007212848437781953,-0.0018047245440360182,0.008235271000243564,-0.004666307763578044,0.012220333488541457,-0.00040695718975673235,-0.0014650525031881106,0.003206237756836993,-0.0003135164167318437,0.0023018169579115373,0.0008592849103701535,0.004180499335033189,0.001441320310062195,-0.0013390086147333094,-0.0020569954571542167,0.0005839737646285877,-0.0019418197436837066,-0.00324897301477852,0.00818558354017217,0.0019634953017975713,0.00019078829370127934,-0.001584809430525523,0.011683943037822855,0.00438972586515444,-0.010015135807311889,0.0012490800050689401,-0.008058077422418895,-0.005301592926855568,0.0017013969877614022,0.007017731199678478,0.004321506634919985,0.0023776096944399887,-0.0002065793890615366,0.0028206106188280603,0.002967421635822063,0.0023993772855748917,-0.0015080788544845946,-0.001593144527945782,0.0006393653230588377,0.0026005900044978815,0.0011279024041200734,0.006770839240683365,-0.0004452602839618556,0.002841217150373989,-0.00625202825639886,-0.005810055019176387,0.0023368275983023778,0.005596280393230368,-0.0032949338458307122,0.0022748686264438605,-0.010041410505103536,-0.011239574577907682,0.0022525940628121523,-0.00019295145571390088,0.0014820200315400493,-0.003122760389176126,-0.00010524766471548333,-0.009107173104122923,0.0026093993466155367,0.004719064433929306,0.005961894444262683,0.0024297238456509095,0.0026410011681550793,-0.00022947877107847535,-0.006561666764825874,-0.0014414075941124,0.006796632662303927,-0.009662155331065885,0.0029359499601229987,-0.0029832615418299894,-2.15219870217569e-05,0.0063496799834199275,0.012405710030521478,-0.0065843669395345755,0.003857048882733877,0.005070219341749733,-0.00039130459693100797,0.004406260042554922,-0.0024438695256781134,0.008025490185024159,-0.0006449095051692848,0.005323750111862455,0.0015940483638245389,-0.0005252835840527507,-0.0036978427877557805,0.004240478368731143,0.004002007579747142,-0.005318025943952655,-0.0018295552235576742,0.007627812613585128,-0.005440721511290118,0.0048788305483288335,-0.00250496798294725,0.006014324144970913,0.0014119176023745955,0.001314558723689966,-0.0011087489011610378,-0.0028562377177743046,-0.0020164403381885943,0.002383679946492963,0.0009191457861938345,-0.00119964154769052,-0.007022637536730832,-0.008509508938823698,-0.007256776699855279,0.0019506117410238656,-0.003138573339575551,0.002885530823419533,0.007005618909538241,0.0005568988646384413,-0.009656677417839158,-0.0033045573523924334,0.002375323088432235,-0.0036701190373452357,0.0017344178774896905,-0.005159182537436011,0.0002994462568347428,-0.013000873685293048,-0.001338905419168408,-0.00022442037929060188,0.0005460604689832326,-0.00681508518870318,-0.0010425431721314583,-0.0036693713858945484,0.0073920880019913635,-0.0039963369662706074,-0.0013843089947268758,-0.0054782473969628535,0.015058958604734912,-0.004574005609368824,-0.0006147639172033293,0.01624738606302485,0.007607987490879931,-0.0017932031708780935,0.0025253276614877872,0.0011183293555818102,0.004413386693333457,0.0034731413971904896,-0.0008616424286550873,-0.002552539104012869,-0.009318425491311792,0.002125751782747479,0.004039185029986525,-0.0042703046213135466,-0.00585899814286308,-0.0012801852427655521,0.00011139718351723012,0.0027328797422769696,-0.006878865036576838,-0.0002150916486788354,-0.004051828142049854,-0.0008271369134507647,0.0006172709214510136,-0.0004367665360750675,0.00044113215702920876,-0.0027720961040403275,0.00980721065728203,0.001789406766233282,0.009503187302298651,0.0029680628159847486,0.004302670587948404,0.0019128620937267186,-0.004878991666289717,0.004594105081796479,0.005861945084275818,-0.003728194904766408,-0.00528567637890777,-0.016700555688135374,-0.002225978405744399,-0.011480835956616376,-0.009384814814179672,-0.004526136870827529,0.00024269545992019678,-0.004078578670516182,-0.0010861560691399663,-0.00635750968011767,0.005716177394684529,0.001451994258760675,-0.00016684582204300625,-0.009578913452045472,-0.0045297249069511936,0.008950094297123151,-0.007778941387043936,0.0010514901872549238,-0.002148271264382288,0.006666700814767871,-0.0027180960160246284,0.00705860031134733,0.009900392192575418,-0.0038109983391620356,0.003130266407302574,0.0001382193897316664,-0.0026066204178362296,-0.0022607284429897955,0.007895767645864141,0.0019131625031026693,0.007700873104946538,-0.008854438576973414,0.001342920430657396,-0.001240116478356243,-0.005771792547991034,0.003593092695854826,-0.00986816804118816,0.0004864183703170901,0.007001795466347099,-0.002508634376634294,-0.007291968366837399,0.005221762350135704,0.0023753505376255643,-0.005693724931919214,0.003658063022148769,-0.0006936248836393799,0.009113768025559695,-0.0071578588611147425,-0.0006038430439378566,0.0003226434605386975,0.006675695555692406,-0.0034245379337032346,0.0010671573180159929,-0.0013656356222240334,-0.015492909279589651,-0.00257804977546536,-0.001034611967361383,-0.009959636693176004,-0.009878547985813078,0.006007531683159736,0.011896262218387108,0.0013437637484582307,-0.008852117371295211,0.012096904718780707,0.011007694952089482,0.0020671818076247813,0.004384376652895164,-0.001433795455691684,-0.0006984048433816138,-0.00278498056064422,0.0035328455541384263,0.006106649813671387,0.00272503343602229,-0.00453187566810114,0.005596883861040752,0.007043207243020197,0.002799299964736333,0.0011162233612015426,-0.0009120224512181876,0.009589489784331355,0.010290614191744034,-0.0015139307046925523,0.008323136379212528,-0.00188241351158152,-0.0015610966690758304,-0.0018421504330796178,0.00794514920398142,-0.0037344706446310184,-0.005929586007248612,-0.005490895499777298,-0.0023152197452691583,-0.015000930488516636,-0.0031532750095675886,-0.004080528281096418,-0.007440077678666023,0.003480908735979554,-0.004613370902177038,-0.004272943714362935,-0.0016880826117545737,-0.006186868071515608,0.004098381584986127,-0.006311498099131304,0.009363606272631522,0.0031032725990557536,-0.00359341425868848,-0.002730066218372437,-0.002716455493510128,0.00018612185600202277,-0.001455981525946701,0.010153947336103674,0.0028947679647397017,0.00421497767786461,0.004473955150055725,-0.0024923954123272766,0.011233397472388267,0.0071431639826152245,-0.008891492437784296,-0.0075440618372644595,0.007028500126163666,-0.014978777849171829,-2.519858718693724e-05,0.0064278024793851946,-7.732377583025835e-05,0.0015970178527561683,-0.008084401843740518,-0.001717446361575206,0.005706749092889743,0.0007356821478407445,0.002634821310221167,0.005265336932340523,-0.0007168231282115825,-0.0029538553613387723,-0.002757579039064164,0.00045253262206693644,-0.007210760295054429,-0.00745842399946667,-0.009085686833241608,0.00636724228376873,-0.0014659136900095756,0.004548426817037902,-0.016278562203890415,-0.005534840779731242,-0.005831122018312405,0.0076627458024587074,0.007031574256322144,0.0038101621314812852,-0.008696202073527816,0.0064747324522736165,-0.004480732686423824,0.005590025768820226,0.012691981141328612,-0.0002771721048462944,0.004893413632781082,-0.009434227840298931,-0.0047524585231254225,0.009463824748997781,0.005531275647979514,0.0009249148945234013,-0.005661493045075431,-0.004186034845920962,0.003889883591235245,-0.00011184956989768917,0.005588092314685957,0.004435019118183745,0.00045652162336963205,0.006599291460488509,0.006566112116440123,-0.0004490007078005835,-0.003031074184620206,-0.0012906312860285923,-0.00023863205359197712,-0.00018103707362289445,-0.00019466196433068437,-0.005593536688928781,-0.0017168980053946623,0.0074366883557508,-0.00046965354977334534,-0.0006377028302823797,0.004846396000861054],\"xaxis\":\"x\",\"yaxis\":\"y\",\"type\":\"histogram\"}],                        {\"template\":{\"data\":{\"histogram2dcontour\":[{\"type\":\"histogram2dcontour\",\"colorbar\":{\"outlinewidth\":0,\"ticks\":\"\"},\"colorscale\":[[0.0,\"#0d0887\"],[0.1111111111111111,\"#46039f\"],[0.2222222222222222,\"#7201a8\"],[0.3333333333333333,\"#9c179e\"],[0.4444444444444444,\"#bd3786\"],[0.5555555555555556,\"#d8576b\"],[0.6666666666666666,\"#ed7953\"],[0.7777777777777778,\"#fb9f3a\"],[0.8888888888888888,\"#fdca26\"],[1.0,\"#f0f921\"]]}],\"choropleth\":[{\"type\":\"choropleth\",\"colorbar\":{\"outlinewidth\":0,\"ticks\":\"\"}}],\"histogram2d\":[{\"type\":\"histogram2d\",\"colorbar\":{\"outlinewidth\":0,\"ticks\":\"\"},\"colorscale\":[[0.0,\"#0d0887\"],[0.1111111111111111,\"#46039f\"],[0.2222222222222222,\"#7201a8\"],[0.3333333333333333,\"#9c179e\"],[0.4444444444444444,\"#bd3786\"],[0.5555555555555556,\"#d8576b\"],[0.6666666666666666,\"#ed7953\"],[0.7777777777777778,\"#fb9f3a\"],[0.8888888888888888,\"#fdca26\"],[1.0,\"#f0f921\"]]}],\"heatmap\":[{\"type\":\"heatmap\",\"colorbar\":{\"outlinewidth\":0,\"ticks\":\"\"},\"colorscale\":[[0.0,\"#0d0887\"],[0.1111111111111111,\"#46039f\"],[0.2222222222222222,\"#7201a8\"],[0.3333333333333333,\"#9c179e\"],[0.4444444444444444,\"#bd3786\"],[0.5555555555555556,\"#d8576b\"],[0.6666666666666666,\"#ed7953\"],[0.7777777777777778,\"#fb9f3a\"],[0.8888888888888888,\"#fdca26\"],[1.0,\"#f0f921\"]]}],\"heatmapgl\":[{\"type\":\"heatmapgl\",\"colorbar\":{\"outlinewidth\":0,\"ticks\":\"\"},\"colorscale\":[[0.0,\"#0d0887\"],[0.1111111111111111,\"#46039f\"],[0.2222222222222222,\"#7201a8\"],[0.3333333333333333,\"#9c179e\"],[0.4444444444444444,\"#bd3786\"],[0.5555555555555556,\"#d8576b\"],[0.6666666666666666,\"#ed7953\"],[0.7777777777777778,\"#fb9f3a\"],[0.8888888888888888,\"#fdca26\"],[1.0,\"#f0f921\"]]}],\"contourcarpet\":[{\"type\":\"contourcarpet\",\"colorbar\":{\"outlinewidth\":0,\"ticks\":\"\"}}],\"contour\":[{\"type\":\"contour\",\"colorbar\":{\"outlinewidth\":0,\"ticks\":\"\"},\"colorscale\":[[0.0,\"#0d0887\"],[0.1111111111111111,\"#46039f\"],[0.2222222222222222,\"#7201a8\"],[0.3333333333333333,\"#9c179e\"],[0.4444444444444444,\"#bd3786\"],[0.5555555555555556,\"#d8576b\"],[0.6666666666666666,\"#ed7953\"],[0.7777777777777778,\"#fb9f3a\"],[0.8888888888888888,\"#fdca26\"],[1.0,\"#f0f921\"]]}],\"surface\":[{\"type\":\"surface\",\"colorbar\":{\"outlinewidth\":0,\"ticks\":\"\"},\"colorscale\":[[0.0,\"#0d0887\"],[0.1111111111111111,\"#46039f\"],[0.2222222222222222,\"#7201a8\"],[0.3333333333333333,\"#9c179e\"],[0.4444444444444444,\"#bd3786\"],[0.5555555555555556,\"#d8576b\"],[0.6666666666666666,\"#ed7953\"],[0.7777777777777778,\"#fb9f3a\"],[0.8888888888888888,\"#fdca26\"],[1.0,\"#f0f921\"]]}],\"mesh3d\":[{\"type\":\"mesh3d\",\"colorbar\":{\"outlinewidth\":0,\"ticks\":\"\"}}],\"scatter\":[{\"fillpattern\":{\"fillmode\":\"overlay\",\"size\":10,\"solidity\":0.2},\"type\":\"scatter\"}],\"parcoords\":[{\"type\":\"parcoords\",\"line\":{\"colorbar\":{\"outlinewidth\":0,\"ticks\":\"\"}}}],\"scatterpolargl\":[{\"type\":\"scatterpolargl\",\"marker\":{\"colorbar\":{\"outlinewidth\":0,\"ticks\":\"\"}}}],\"bar\":[{\"error_x\":{\"color\":\"#2a3f5f\"},\"error_y\":{\"color\":\"#2a3f5f\"},\"marker\":{\"line\":{\"color\":\"#E5ECF6\",\"width\":0.5},\"pattern\":{\"fillmode\":\"overlay\",\"size\":10,\"solidity\":0.2}},\"type\":\"bar\"}],\"scattergeo\":[{\"type\":\"scattergeo\",\"marker\":{\"colorbar\":{\"outlinewidth\":0,\"ticks\":\"\"}}}],\"scatterpolar\":[{\"type\":\"scatterpolar\",\"marker\":{\"colorbar\":{\"outlinewidth\":0,\"ticks\":\"\"}}}],\"histogram\":[{\"marker\":{\"pattern\":{\"fillmode\":\"overlay\",\"size\":10,\"solidity\":0.2}},\"type\":\"histogram\"}],\"scattergl\":[{\"type\":\"scattergl\",\"marker\":{\"colorbar\":{\"outlinewidth\":0,\"ticks\":\"\"}}}],\"scatter3d\":[{\"type\":\"scatter3d\",\"line\":{\"colorbar\":{\"outlinewidth\":0,\"ticks\":\"\"}},\"marker\":{\"colorbar\":{\"outlinewidth\":0,\"ticks\":\"\"}}}],\"scattermapbox\":[{\"type\":\"scattermapbox\",\"marker\":{\"colorbar\":{\"outlinewidth\":0,\"ticks\":\"\"}}}],\"scatterternary\":[{\"type\":\"scatterternary\",\"marker\":{\"colorbar\":{\"outlinewidth\":0,\"ticks\":\"\"}}}],\"scattercarpet\":[{\"type\":\"scattercarpet\",\"marker\":{\"colorbar\":{\"outlinewidth\":0,\"ticks\":\"\"}}}],\"carpet\":[{\"aaxis\":{\"endlinecolor\":\"#2a3f5f\",\"gridcolor\":\"white\",\"linecolor\":\"white\",\"minorgridcolor\":\"white\",\"startlinecolor\":\"#2a3f5f\"},\"baxis\":{\"endlinecolor\":\"#2a3f5f\",\"gridcolor\":\"white\",\"linecolor\":\"white\",\"minorgridcolor\":\"white\",\"startlinecolor\":\"#2a3f5f\"},\"type\":\"carpet\"}],\"table\":[{\"cells\":{\"fill\":{\"color\":\"#EBF0F8\"},\"line\":{\"color\":\"white\"}},\"header\":{\"fill\":{\"color\":\"#C8D4E3\"},\"line\":{\"color\":\"white\"}},\"type\":\"table\"}],\"barpolar\":[{\"marker\":{\"line\":{\"color\":\"#E5ECF6\",\"width\":0.5},\"pattern\":{\"fillmode\":\"overlay\",\"size\":10,\"solidity\":0.2}},\"type\":\"barpolar\"}],\"pie\":[{\"automargin\":true,\"type\":\"pie\"}]},\"layout\":{\"autotypenumbers\":\"strict\",\"colorway\":[\"#636efa\",\"#EF553B\",\"#00cc96\",\"#ab63fa\",\"#FFA15A\",\"#19d3f3\",\"#FF6692\",\"#B6E880\",\"#FF97FF\",\"#FECB52\"],\"font\":{\"color\":\"#2a3f5f\"},\"hovermode\":\"closest\",\"hoverlabel\":{\"align\":\"left\"},\"paper_bgcolor\":\"white\",\"plot_bgcolor\":\"#E5ECF6\",\"polar\":{\"bgcolor\":\"#E5ECF6\",\"angularaxis\":{\"gridcolor\":\"white\",\"linecolor\":\"white\",\"ticks\":\"\"},\"radialaxis\":{\"gridcolor\":\"white\",\"linecolor\":\"white\",\"ticks\":\"\"}},\"ternary\":{\"bgcolor\":\"#E5ECF6\",\"aaxis\":{\"gridcolor\":\"white\",\"linecolor\":\"white\",\"ticks\":\"\"},\"baxis\":{\"gridcolor\":\"white\",\"linecolor\":\"white\",\"ticks\":\"\"},\"caxis\":{\"gridcolor\":\"white\",\"linecolor\":\"white\",\"ticks\":\"\"}},\"coloraxis\":{\"colorbar\":{\"outlinewidth\":0,\"ticks\":\"\"}},\"colorscale\":{\"sequential\":[[0.0,\"#0d0887\"],[0.1111111111111111,\"#46039f\"],[0.2222222222222222,\"#7201a8\"],[0.3333333333333333,\"#9c179e\"],[0.4444444444444444,\"#bd3786\"],[0.5555555555555556,\"#d8576b\"],[0.6666666666666666,\"#ed7953\"],[0.7777777777777778,\"#fb9f3a\"],[0.8888888888888888,\"#fdca26\"],[1.0,\"#f0f921\"]],\"sequentialminus\":[[0.0,\"#0d0887\"],[0.1111111111111111,\"#46039f\"],[0.2222222222222222,\"#7201a8\"],[0.3333333333333333,\"#9c179e\"],[0.4444444444444444,\"#bd3786\"],[0.5555555555555556,\"#d8576b\"],[0.6666666666666666,\"#ed7953\"],[0.7777777777777778,\"#fb9f3a\"],[0.8888888888888888,\"#fdca26\"],[1.0,\"#f0f921\"]],\"diverging\":[[0,\"#8e0152\"],[0.1,\"#c51b7d\"],[0.2,\"#de77ae\"],[0.3,\"#f1b6da\"],[0.4,\"#fde0ef\"],[0.5,\"#f7f7f7\"],[0.6,\"#e6f5d0\"],[0.7,\"#b8e186\"],[0.8,\"#7fbc41\"],[0.9,\"#4d9221\"],[1,\"#276419\"]]},\"xaxis\":{\"gridcolor\":\"white\",\"linecolor\":\"white\",\"ticks\":\"\",\"title\":{\"standoff\":15},\"zerolinecolor\":\"white\",\"automargin\":true,\"zerolinewidth\":2},\"yaxis\":{\"gridcolor\":\"white\",\"linecolor\":\"white\",\"ticks\":\"\",\"title\":{\"standoff\":15},\"zerolinecolor\":\"white\",\"automargin\":true,\"zerolinewidth\":2},\"scene\":{\"xaxis\":{\"backgroundcolor\":\"#E5ECF6\",\"gridcolor\":\"white\",\"linecolor\":\"white\",\"showbackground\":true,\"ticks\":\"\",\"zerolinecolor\":\"white\",\"gridwidth\":2},\"yaxis\":{\"backgroundcolor\":\"#E5ECF6\",\"gridcolor\":\"white\",\"linecolor\":\"white\",\"showbackground\":true,\"ticks\":\"\",\"zerolinecolor\":\"white\",\"gridwidth\":2},\"zaxis\":{\"backgroundcolor\":\"#E5ECF6\",\"gridcolor\":\"white\",\"linecolor\":\"white\",\"showbackground\":true,\"ticks\":\"\",\"zerolinecolor\":\"white\",\"gridwidth\":2}},\"shapedefaults\":{\"line\":{\"color\":\"#2a3f5f\"}},\"annotationdefaults\":{\"arrowcolor\":\"#2a3f5f\",\"arrowhead\":0,\"arrowwidth\":1},\"geo\":{\"bgcolor\":\"white\",\"landcolor\":\"#E5ECF6\",\"subunitcolor\":\"white\",\"showland\":true,\"showlakes\":true,\"lakecolor\":\"white\"},\"title\":{\"x\":0.05},\"mapbox\":{\"style\":\"light\"}}},\"xaxis\":{\"anchor\":\"y\",\"domain\":[0.0,1.0],\"title\":{\"text\":\"value\"}},\"yaxis\":{\"anchor\":\"x\",\"domain\":[0.0,1.0],\"title\":{\"text\":\"count\"}},\"legend\":{\"title\":{\"text\":\"variable\"},\"tracegroupgap\":0},\"title\":{\"text\":\"Sampling Distribution of Slope Coefficients under Null Hypothesis\"},\"barmode\":\"relative\"},                        {\"responsive\": true}                    ).then(function(){\n",
       "                            \n",
       "var gd = document.getElementById('d479a575-d2ed-4aca-9392-45b3fd1f6699');\n",
       "var x = new MutationObserver(function (mutations, observer) {{\n",
       "        var display = window.getComputedStyle(gd).display;\n",
       "        if (!display || display === 'none') {{\n",
       "            console.log([gd, 'removed!']);\n",
       "            Plotly.purge(gd);\n",
       "            observer.disconnect();\n",
       "        }}\n",
       "}});\n",
       "\n",
       "// Listen for the removal of the full notebook cells\n",
       "var notebookContainer = gd.closest('#notebook-container');\n",
       "if (notebookContainer) {{\n",
       "    x.observe(notebookContainer, {childList: true});\n",
       "}}\n",
       "\n",
       "// Listen for the clearing of the current output cell\n",
       "var outputEl = gd.closest('.output');\n",
       "if (outputEl) {{\n",
       "    x.observe(outputEl, {childList: true});\n",
       "}}\n",
       "\n",
       "                        })                };                });            </script>        </div>"
      ]
     },
     "metadata": {},
     "output_type": "display_data"
    },
    {
     "name": "stdout",
     "output_type": "stream",
     "text": [
      "95% Confidence Interval for Bootstrap Slopes: (0.0000, 0.0233)\n",
      "Does the CI contain 0? False\n",
      "Observed p-value: 0.0381\n",
      "Simulated p-value: 0.0280\n"
     ]
    }
   ],
   "source": [
    "import plotly.express as px\n",
    "import pandas as pd\n",
    "import numpy as np\n",
    "import statsmodels.formula.api as smf\n",
    "from sklearn.utils import resample\n",
    "\n",
    "# Define the limit for long wait times\n",
    "long_wait_limit = 71\n",
    "long_wait = old_faithful[old_faithful['waiting'] > long_wait_limit]\n",
    "\n",
    "# Step 1: Display the summary table for the Simple Linear Regression model for long waits\n",
    "model = smf.ols('duration ~ waiting', data=long_wait).fit()\n",
    "print(model.summary().tables[1])\n",
    "\n",
    "# Step 2: Create a scatter plot with a linear regression trendline\n",
    "fig = px.scatter(long_wait, x='waiting', y='duration',\n",
    "                 title=f\"Old Faithful Geyser Eruptions for long wait times (> {long_wait_limit} mins)\",\n",
    "                 trendline='ols')\n",
    "fig.show()\n",
    "\n",
    "# Step 3: Bootstrap Sampling for Slope Coefficients\n",
    "n_bootstrap = 1000  # Number of bootstrap samples\n",
    "bootstrap_slopes = []\n",
    "for _ in range(n_bootstrap):\n",
    "    # Resample long_wait dataset with replacement\n",
    "    sample = resample(long_wait)\n",
    "    # Fit regression model and store slope coefficient\n",
    "    boot_model = smf.ols('duration ~ waiting', data=sample).fit()\n",
    "    bootstrap_slopes.append(boot_model.params['waiting'])\n",
    "\n",
    "# Visualize the bootstrapped slope coefficients\n",
    "fig = px.histogram(bootstrap_slopes, nbins=30, \n",
    "                   title=\"Bootstrapped Sampling Distribution of Slope Coefficients\")\n",
    "fig.show()\n",
    "\n",
    "# Step 4: Simulate under Null Hypothesis (beta_1=0)\n",
    "beta_0 = 1.65\n",
    "beta_1 = 0\n",
    "sigma = 0.37\n",
    "simulated_slopes = []\n",
    "for _ in range(n_bootstrap):\n",
    "    # Generate Y using beta_0 and sigma with no effect of waiting (beta_1=0)\n",
    "    simulated_duration = beta_0 + sigma * np.random.randn(len(long_wait))\n",
    "    # Create a DataFrame with simulated data\n",
    "    simulated_data = pd.DataFrame({'waiting': long_wait['waiting'], 'duration': simulated_duration})\n",
    "    # Fit regression model and store slope coefficient\n",
    "    null_model = smf.ols('duration ~ waiting', data=simulated_data).fit()\n",
    "    simulated_slopes.append(null_model.params['waiting'])\n",
    "\n",
    "# Visualize the slope distribution under the null hypothesis\n",
    "fig = px.histogram(simulated_slopes, nbins=30, \n",
    "                   title=\"Sampling Distribution of Slope Coefficients under Null Hypothesis\")\n",
    "fig.show()\n",
    "\n",
    "# Step 5: Calculate 95% Confidence Interval and p-value\n",
    "# 95% CI for bootstrap slopes\n",
    "ci_lower, ci_upper = np.percentile(bootstrap_slopes, [2.5, 97.5])\n",
    "contains_zero = ci_lower <= 0 <= ci_upper\n",
    "\n",
    "# Observed p-value from the original model\n",
    "observed_slope = model.params['waiting']\n",
    "observed_p_value = model.pvalues['waiting']\n",
    "\n",
    "# Simulated p-value (proportion of null slopes that exceed observed slope)\n",
    "simulated_p_value = np.mean([abs(slope) >= abs(observed_slope) for slope in simulated_slopes])\n",
    "\n",
    "# Display results\n",
    "print(f\"95% Confidence Interval for Bootstrap Slopes: ({ci_lower:.4f}, {ci_upper:.4f})\")\n",
    "print(\"Does the CI contain 0?\", contains_zero)\n",
    "print(f\"Observed p-value: {observed_p_value:.4f}\")\n",
    "print(f\"Simulated p-value: {simulated_p_value:.4f}\")\n"
   ]
  },
  {
   "cell_type": "markdown",
   "id": "a1163d93",
   "metadata": {},
   "source": [
    "### 11. Since we've considered wait times of around <64  \"short\" and wait times of >71 \"long\", let's instead just divide the data and insead call wait times of <68 \"short\" and otherwise just call them \"long\". Consider the *Simple Linear Regression* model specification using an *indicator variable* of the wait time length<br>\n",
    "\n",
    "$$\\large Y_i = \\beta_{\\text{intercept}} + 1_{[\\text{\"long\"}]}(\\text{k_i})\\beta_{\\text{contrast}} + \\epsilon_i \\quad \\text{ where } \\quad \\epsilon_i \\sim \\mathcal N\\left(0, \\sigma\\right)$$\n",
    "\n",
    "### where we use $k_i$ (rather than $x_i$) (to refer to the \"kind\" or \"katagory\" or \"kontrast\") column (that you may have noticed was already a part) of the original dataset; and, explain the \"big picture\" differences between this model specification and the previously considered model specifications<br>\n",
    "\n",
    "1. `smf.ols('duration ~ waiting', data=old_faithful)`\n",
    "2. `smf.ols('duration ~ waiting', data=old_faithful[short_wait])`\n",
    "3. `smf.ols('duration ~ waiting', data=old_faithful[long_wait])`\n",
    "\n",
    "### and report the evidence against a *null hypothesis* of \"no difference between groups \"on average\") for the new *indicator variable* based model<br>\n"
   ]
  },
  {
   "cell_type": "code",
   "execution_count": null,
   "id": "1efc4f93",
   "metadata": {},
   "outputs": [],
   "source": [
    "from IPython.display import display\n",
    "\n",
    "display(smf.ols('duration ~ C(kind, Treatment(reference=\"short\"))', data=old_faithful).fit().summary().tables[1])\n",
    "\n",
    "fig = px.box(old_faithful, x='kind', y='duration', \n",
    "             title='duration ~ kind',\n",
    "             category_orders={'kind': ['short', 'long']})\n",
    "fig.show() # USE `fig.show(renderer=\"png\")` FOR ALL GitHub and MarkUs SUBMISSIONS"
   ]
  },
  {
   "cell_type": "markdown",
   "id": "e36145f7",
   "metadata": {},
   "source": [
    "### Key Steps and Explanation\n",
    "\n",
    "1. Indicator Variable Approach:\n",
    "\n",
    "    - Define a categorical variable 𝑘𝑖 that represents \"short\" or \"long\" wait times based on the new threshold of 68 minutes.\n",
    "    - The model: \n",
    "    $$Y_i = \\beta_{\\text{intercept}} + 1_{\\text{[\"long\"]}}(k_i) \\cdot \\beta_{\\text{contrast}} + \\epsilon_i, \\quad \\epsilon_i \\sim N(0, \\sigma)$$where \n",
    "$$Y_i = \\beta_{\\text{intercept}} + 1_{\\text{[\"long\"]}}(k_i) \\cdot \\beta_{\\text{contrast}} + \\epsilon_i, \\quad \\epsilon_i \\sim N(0, \\sigma)$$ is 1 if the wait time is \"long\" and 0 if it’s \"short\".\n",
    "    - This model directly contrasts the two groups (short vs. long) using a binary indicator rather than fitting a continuous slope to waiting time.\n",
    "    \n",
    "2. Comparison with Previous Model Specifications:\n",
    "\n",
    "    - Continuous Model (duration ~ waiting): The previous models (e.g., smf.ols('duration ~ waiting', data=old_faithful)) modeled duration as a linear function of waiting time.\n",
    "    - Subset Models (duration ~ waiting for short and long): These considered subsets of the data separately for \"short\" and \"long\" wait times, fitting a linear relationship within each subset.\n",
    "    - Indicator Model (duration ~ C(kind, Treatment(reference=\"short\"))): In contrast, this model doesn’t assume a linear relationship within each group; it simply tests if there’s an average difference in duration between the \"short\" and \"long\" groups.\n",
    "    \n",
    "3. Hypothesis Testing:\n",
    "\n",
    "    - Null Hypothesis: The mean duration does not differ between the \"short\" and \"long\" wait times (no effect of kind).\n",
    "    - Alternative Hypothesis: There is a difference in duration between \"short\" and \"long\" wait times.\n",
    "\n",
    "### Interpretation of the Indicator Variable Model Results\n",
    "\n",
    "- **Regression Output**: The coefficient for C(kind, Treatment(reference=\"short\"))[T.long] represents the average difference in duration between \"long\" and \"short\" wait times. If this coefficient is significantly different from zero (based on its p-value), it suggests that \"long\" and \"short\" wait times differ in their average durations.\n",
    "\n",
    "- **Box Plot**: The box plot visually compares the distribution of duration for \"short\" and \"long\" wait times, giving a clear picture of the central tendency and variability in each group.\n",
    "\n",
    "\n",
    "## Big Picture Differences\n",
    "\n",
    "1. **Continuous vs. Categorical Modeling:**\n",
    "\n",
    "    - The original continuous model (duration ~ waiting) assumes a linear increase in duration with each unit increase in waiting.\n",
    "    - The categorical model (duration ~ C(kind)) does not assume any linear trend within each group; it simply compares the average duration across predefined categories.\n",
    "    \n",
    "2. **Subset vs. Combined Group Analysis:**\n",
    "\n",
    "    - The subset models focus on short and long wait times separately, while the indicator model considers both groups simultaneously in a single model.\n",
    "    - The indicator model’s focus on the average difference provides a more direct test of whether the two groups differ significantly in duration without assuming a specific linear trend in each group."
   ]
  },
  {
   "cell_type": "markdown",
   "id": "3fee975f",
   "metadata": {},
   "source": [
    "<details class=\"details-example\"><summary style=\"color:blue\"><u>Further Guidance</u></summary>\n",
    "\n",
    "> _Don't forget to ask for summaries of all your different ChatBot sessions and organize and paste these into your homework notebook (including link(s) to chat log histories if you're using ChatBot) But if you're using the STA130 custom NBLM ChatBot, you'll only be able to ask for summaries, of course!_  \n",
    "</details>"
   ]
  },
  {
   "cell_type": "markdown",
   "id": "0f288839",
   "metadata": {},
   "source": [
    "### 12. Identify which of the histograms suggests the plausibility of the assumption that the distribution of *error* terms is normal for each of the models, and explain why the other three do not support this assumption.\n",
    "\n",
    "> Hint: Question 5 of the *Communication Activity #2* of the Oct25 TUT (addressing an *omitted* section of the TUT) discusses how the assumption in *Simple Linear Regression* that the *error* terms $\\epsilon_i \\sim \\mathcal N\\left(0, \\sigma\\right)$ is diagnostically assessed by evaluating distributional shape of the *residuals* $\\text{e}_i = \\hat \\epsilon_i = Y_i - \\hat y_i$\n"
   ]
  },
  {
   "cell_type": "code",
   "execution_count": null,
   "id": "337e3a5f",
   "metadata": {
    "scrolled": false
   },
   "outputs": [],
   "source": [
    "from plotly.subplots import make_subplots\n",
    "import plotly.graph_objects as go\n",
    "from scipy import stats\n",
    "import numpy as np\n",
    "\n",
    "model_residuals = {\n",
    "    '<br>Model 1:<br>All Data using slope': smf.ols('duration ~ waiting', data=old_faithful).fit().resid,\n",
    "    '<br>Model 2:<br>Short Wait Data': smf.ols('duration ~ waiting', data=old_faithful[short_wait]).fit().resid,\n",
    "    '<br>Model 3:<br>Long Wait Data': smf.ols('duration ~ waiting', data=old_faithful[long_wait]).fit().resid,\n",
    "    '<br>Model 4:<br>All Data using indicator': smf.ols('duration ~ C(kind, Treatment(reference=\"short\"))', data=old_faithful).fit().resid\n",
    "}\n",
    "\n",
    "fig = make_subplots(rows=2, cols=2, subplot_titles=list(model_residuals.keys()))\n",
    "for i, (title, resid) in enumerate(model_residuals.items()):\n",
    "\n",
    "    if i == 1:  # Apply different bins only to the second histogram (index 1)\n",
    "        bin_size = dict(start=-1.9, end=1.9, size=0.2)\n",
    "    else:\n",
    "        bin_size = dict(start=-1.95, end=1.95, size=0.3)\n",
    "\n",
    "    fig.add_trace(go.Histogram(x=resid, name=title, xbins=bin_size, histnorm='probability density'), \n",
    "                  row=int(i/2)+1, col=(i%2)+1)\n",
    "    fig.update_xaxes(title_text=\"n=\"+str(len(resid)), row=int(i/2)+1, col=(i%2)+1)    \n",
    "    \n",
    "    normal_range = np.arange(-3*resid.std(),3*resid.std(),0.01)\n",
    "    fig.add_trace(go.Scatter(x=normal_range, mode='lines', opacity=0.5,\n",
    "                             y=stats.norm(loc=0, scale=resid.std()).pdf(normal_range),\n",
    "                             line=dict(color='black', dash='dot', width=2),\n",
    "                             name='Normal Distribution<br>(99.7% of its area)'), \n",
    "                  row=int(i/2)+1, col=(i%2)+1)\n",
    "    \n",
    "fig.update_layout(title_text='Histograms of Residuals from Different Models')\n",
    "fig.update_xaxes(range=[-2,2])\n",
    "fig.show() # USE `fig.show(renderer=\"png\")` FOR ALL GitHub and MarkUs SUBMISSIONS"
   ]
  },
  {
   "cell_type": "markdown",
   "id": "f7413283",
   "metadata": {},
   "source": [
    "### 13. The \"short\" and \"long\" wait times are not \"before and after\" measurements so there are not natural pairs on which to base differences on which to do a \"one sample\" (paired differences) *hypothesis test*; but, we can do \"two sample\" hypothesis testing using a *permuation test*, or create a 95% *bootstrap confidence interval* for the difference in means of the two populations. \n",
    "\n",
    "### (A) Do a permuation test $\\;H_0: \\mu_{\\text{short}}=\\mu_{\\text{long}} \\; \\text{ no difference in duration between short and long groups}$ by \"shuffling\" the labels\n",
    "### (B) Create a 95% bootstrap confidence interval  by repeatedly bootstrapping within each group and applying *np.quantile(bootstrapped_mean_differences, [0.025, 0.975])* to the collection of differences between the sample means.    \n",
    "### (a) Explain how the sampling approaches work for the two simulations.\n",
    "### (b) Compare and contrast these two methods with the *indicator variable* based model approach used in Question 11, explaining how they're similar and different.<br>\n",
    "    \n",
    "<details class=\"details-example\"><summary style=\"color:blue\"><u>Further Guidance</u></summary>\n",
    "\n",
    "> _You'll need to create `for` loops for repeated (shuffling simulation) **permutation** and (subgroup) **bootstrapping**, where_\n",
    ">\n",
    "> - _\"shuffling\" for **permutation testing** is done like this `old_faithful.assign(kind_shuffled=old_faithful['kind'].sample(n=len(old_faithful), replace=False).values)#.groupby('kind').size()`; then, the **mean difference statistic** is then calculated using `.groupby('kind_shuffled')['duration'].mean().iloc[::-1].diff().values[1]` (so the **observed statistic** is `old_faithful.groupby('kind')['duration'].mean().iloc[::-1].diff().values[1]`_\n",
    "> \n",
    ">\n",
    "> - _\"two sample\" **bootstrapping** is done like this `old_faithful.groupby('kind').apply(lambda x: x.sample(n=len(x), replace=True)).reset_index(drop=True)#.groupby('kind').size()`; then, the **bootstrapped mean difference statistic** is then calculated using `.groupby('kind')['duration'].mean().iloc[::-1].diff().values[1]` (like the **observed statistic** except this is applied to the **bootstrapped** resampling of `old_faithful`)_\n",
    "> ---\n",
    "> \n",
    "> _Don't forget to ask for summaries of all your different ChatBot sessions and organize and paste these into your homework notebook (including link(s) to chat log histories if you're using ChatBot) But if you're using the STA130 custom NBLM ChatBot, you'll only be able to ask for summaries, of course!_\n",
    "</details>"
   ]
  },
  {
   "cell_type": "markdown",
   "id": "06fe02c1",
   "metadata": {},
   "source": [
    "### 14. Have you reviewed the course wiki-textbook and interacted with a ChatBot (or, if that wasn't sufficient, real people in the course piazza discussion board or TA office hours) to help you understand all the material in the tutorial and lecture that you didn't quite follow when you first saw it?<br>\n",
    "\n",
    "<details class=\"details-example\"><summary style=\"color:blue\"><u>Further Guidance</u></summary>\n",
    "\n",
    ">  _Here is the link of [wiki-textbook](https://github.com/pointOfive/stat130chat130/wiki) in case it gets lost among all the information you need to keep track of_  : )\n",
    ">\n",
    "> _Just answering \"Yes\" or \"No\" or \"Somewhat\" or \"Mostly\" or whatever here is fine as this question isn't a part of the rubric; but, the midterm and final exams may ask questions that are based on the tutorial and lecture materials; and, your own skills will be limited by your familiarity with these materials (which will determine your ability to actually do actual things effectively with these skills... like the course project...)_\n",
    "</details>    "
   ]
  },
  {
   "cell_type": "markdown",
   "id": "bc0639e8",
   "metadata": {},
   "source": [
    "## Recommended Additional Useful Activities [Optional]\n",
    "\n",
    "The \"Ethical Profesionalism Considerations\" and \"Current Course Project Capability Level\" sections below **are not a part of the required homework assignment**; rather, they are regular weekly guides covering (a) relevant considerations regarding professional and ethical conduct, and (b) the analysis steps for the STA130 course project that are feasible at the current stage of the course \n",
    "\n",
    "<br>\n",
    "<details class=\"details-example\"><summary style=\"color:blue\"><u>Ethical Professionalism Considerations</u></summary>\n",
    "\n",
    "### Ethical Professionalism Considerations\n",
    "    \n",
    "The TUT and HW both addressed some of the assumptions used in **Simple Linear Regression**. The **p-values** provided by `statsmodels` via `smf.ols(...).fit()` depend on these assumptions, so if they are not (at least approximately) correct, the **p-values** (and any subsequent claims regarding the \"evidience against\" the **null hypothesis**) are not reliable. In light of this consideration, describe how you could diagnostically check the first three assumptions (given below) when using analyses based on **Simple Linear regression** model. From an Ethical and Professional perspective, do you think doing diagnostic checks on the assumptions of a **Simple Linear regression** model is something you can and should do whenever you're doing this kind of analysis? \n",
    "            \n",
    "> The first three assumptions associated with the **Simple Linear regression** model are that\n",
    "> \n",
    "> - the $\\epsilon_i$ **errors** (sometimes referred to as the **noise**) are **normally distributed**\n",
    "> - the $\\epsilon_i$ **errors** are **homoscedastic** (so their distributional variance $\\sigma^2$ does not change as a function of $x_i$)\n",
    "> - the linear form is [at least reasonably approximately] \"true\" (in the sense that the above two remain [at least reasonably approximately] \"true\") so that then behavior of the $Y_i$ **outcomes** are represented/determined on average by the **linear equation**)<br>\n",
    "> \n",
    ">    and there are additional assumptions; but, a deeper reflection on these is \"beyond the scope\" of STA130; nonetheless, they are that<br><br>\n",
    "> - the $x_i$ **predictor variable** is **measured without error**\n",
    "> - and the $\\epsilon_i$ **errors** are **statistically independent** (so their values do not depend on each other)\n",
    "> - and the $\\epsilon_i$ **errors** are **unbiased** relative to the **expected value** of **outcome** $E[Y_i|x_i]=\\beta_0 + \\beta_1x_i$ (which is equivalently stated by saying that the mean of the **error distribution** is $0$, or again equivalently, that the **expected value** of the **errors** $E[\\epsilon_i] = 0$)\n",
    "    \n",
    "</details>\n",
    "\n",
    "<details class=\"details-example\"><summary style=\"color:blue\"><u>Current Course Project Capability Level</u></summary>\n",
    "\n",
    "**Remember to abide by the [data use agreement](https://static1.squarespace.com/static/60283c2e174c122f8ebe0f39/t/6239c284d610f76fed5a2e69/1647952517436/Data+Use+Agreement+for+the+Canadian+Social+Connection+Survey.pdf) at all times.**\n",
    "\n",
    "Information about the course project is available on the course github repo [here](https://github.com/pointOfive/stat130chat130/tree/main/CP), including a draft [course project specfication](https://github.com/pointOfive/stat130chat130/blob/main/CP/STA130F23_course_project_specification.ipynb) (subject to change). \n",
    "- The Week 01 HW introduced [STA130F24_CourseProject.ipynb](https://github.com/pointOfive/stat130chat130/blob/main/CP/STA130F24_CourseProject.ipynb), and the [available variables](https://drive.google.com/file/d/1ISVymGn-WR1lcRs4psIym2N3or5onNBi/view). \n",
    "- Please do not download the [data](https://drive.google.com/file/d/1mbUQlMTrNYA7Ly5eImVRBn16Ehy9Lggo/view) accessible at the bottom of the [CSCS](https://casch.org/cscs) webpage (or the course github repo) multiple times.\n",
    "    \n",
    "> ### NEW DEVELOPMENT<br>New Abilities Achieved and New Levels Unlocked!!!    \n",
    "> **As noted, the Week 01 HW introduced the [STA130F24_CourseProject.ipynb](https://github.com/pointOfive/stat130chat130/blob/main/CP/STA130F24_CourseProject.ipynb) notebook.** _And there it instructed students to explore the notebook through the first 16 cells of the notebook._ The following cell in that notebook (there marked as \"run cell 17\") is preceded by an introductory section titled, \"**Now for some comparisons...**\", _**and all material from that point on provides an example to allow you to start applying what you're learning about Hypothesis Testing to the CSCS data**_ **using a paired samples (\"one sample\") framework.**\n",
    ">\n",
    "> **NOW, HOWEVER, YOU CAN DO MORE.** \n",
    "> - _**Now you can do \"two sample\" hypothesis testing without the need for paired samples.**_ All you need are two groups.\n",
    "> - _**And now you can do simple linear regression modeling.**_ All you need are two columns.\n",
    "\n",
    "### Current Course Project Capability Level\n",
    "\n",
    "At this point in the course you should be able to do a **Simple Linear Regression** analysis for data from the Canadian Social Connection Survey data\n",
    "    \n",
    "1. Create and test a **null hypothesis** of no linear association \"on average\" for a couple of columns of interest in the Canadian Social Connection Survey data using **Simple Linear Regression**\n",
    "\n",
    "2. Use the **residuals** of a fitted **Simple Linear Regression** model to diagnostically assess some of the assumptions of the analysis\n",
    "\n",
    "3. Use an **indicator variable** based **Simple Linear Regression** model to compare two groups from the Canadian Social Connection Survey data\n",
    "\n",
    "4. Compare and contrast the results of an **indicator variable** based **Simple Linear Regression** model to analyses based on a **permutation test** and a **bootstrapped confidence interval**   \n",
    "    \n",
    "</details>    "
   ]
  },
  {
   "cell_type": "code",
   "execution_count": null,
   "id": "4b4a0b4d",
   "metadata": {},
   "outputs": [],
   "source": []
  }
 ],
 "metadata": {
  "kernelspec": {
   "display_name": "Python 3 (ipykernel)",
   "language": "python",
   "name": "python3"
  },
  "language_info": {
   "codemirror_mode": {
    "name": "ipython",
    "version": 3
   },
   "file_extension": ".py",
   "mimetype": "text/x-python",
   "name": "python",
   "nbconvert_exporter": "python",
   "pygments_lexer": "ipython3",
   "version": "3.11.6"
  }
 },
 "nbformat": 4,
 "nbformat_minor": 5
}
